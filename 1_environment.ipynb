{
 "cells": [
  {
   "cell_type": "markdown",
   "id": "b809c1b9-b410-4abc-afe1-8a6dc14b97e0",
   "metadata": {},
   "source": [
    "<h1>1. Python 개발 환경</h1>\n",
    "<br>"
   ]
  },
  {
   "cell_type": "markdown",
   "id": "6d273c11-46d8-4413-a175-8825d694fbc2",
   "metadata": {},
   "source": [
    "## 1.1. Python\n",
    "+ 컴퓨터 프로그램과 프로그래밍 언어\n",
    "  + 컴퓨터 프로그램 (computer program) : 컴퓨터로 문제를 해결하기 위해 작성하는 명령어의 모음\n",
    "  + 프로그래밍 언어(programming language)\n",
    "    + 컴퓨터에 어떤 동작을 수행하도록 지시하는 언어\n",
    "    + 프로그래밍 언어를 사용하여 프로그램을 논리적으로 작성하는 작업을 코딩(coding)이라 함\n",
    "\n",
    "<br>\n",
    "\n",
    "+ Python\n",
    "  + 1991년 귀도 반 로섬(Guido van Rossum)이 개발한 프로그래밍 언어\n",
    "  + 빅데이터 분석과 인공지능 분야에서 가장 널리 사용되고 있음\n",
    "  + 문법이 쉽고 간결하여 프로그래밍을 처음 접하는 사람이 배우기 적합함\n",
    "\n",
    "<br>\n",
    "\n",
    "+ Python 특징\n",
    "  + 플랫폼 독립적인 언어 : 컴퓨터 운영체제나 하드웨어의 종류에 관계없이 사용할 수 있음\n",
    "  + 인터프리터 언어 : 소스코드 자체가 바로 실행되어 간편하게 사용할 수 있음(속도는 느림)\n",
    "  + 동적 타이핑 언어\n",
    "    + 프로그램의 실행 시점에서 각 프로그램 변수의 타입(type)을 결정하는 언어\n",
    "    + 인터프리터 언어이므로 프로그램의 실행 시점에 변수들의 메모리 공간을 자유롭게 할당받을 수 있음\n",
    "  + 객체 지향 언어\n",
    "    + 프로그램이 해결해야 할 문제의 구성요소를 요소별로 정의한 다음, 각 요소의 기능(method)과 정보(attribute)를 프로그래밍한 다음 요소들을 결합하는 방식으로 프로그램을 작성함\n",
    "    + 이때 각 요소를 객체(object)라고 하며, 한 번 만들어진 객체는 재사용(reusability)할 수 있음\n",
    "\n",
    "<br>"
   ]
  },
  {
   "cell_type": "markdown",
   "id": "5c9a2efc-8c88-4149-800b-beec7d281b84",
   "metadata": {},
   "source": [
    "## 1.2. Python 설치\n",
    "### 1.2.1. Anaconda\n",
    "+ 대규모 데이터 처리, 예측 분석, 과학적 컴퓨팅을 위한 Python 언어의 오픈소스 배포판\n",
    "+ Jupyter Notebook, Spyder 등 주요 개발 도구가 함께 설치되어 별도 설정 없이 바로 사용 가능\n",
    "+ 데이터 분석, 머신러닝 분야에서 널리 활용됨\n",
    "\n",
    "<br>"
   ]
  },
  {
   "cell_type": "markdown",
   "id": "fbb172f4-b431-4355-8200-1071910ce1f8",
   "metadata": {},
   "source": [
    "### 1.2.2. Python 실행 도구\n",
    "+ Python 코드를 작성하고 실행할 수 있는 다양한 텍스트 편집기 및 IDE(통합개발환경)이 존재함\n",
    "+ 설치 유무, 기능, 편의성 등에 따라 적절한 도구를 선택하여 사용할 수 있음\n",
    "\n",
    "|도구|설명|\n",
    "|:---:|:------------|\n",
    "|메모장|- 추가 설치가 필요없으나, 기능이 제한적이고 불편함|\n",
    "|IDLE|- Python 설치 시 기본 제공되는 개발 환경 <br>- 가볍고 간단한 코드 테스트에 적합|\n",
    "|Jupyter Notebook|- 웹 기반 인터페이스로, 문서화와 시각화에 유리함 <br>- Anaconda에 기본 포함됨|\n",
    "|Spyder|- 과학 계산에 특화된 IDE <br>- Anaconda에 기본 포함되며, 디버거 기능 제공|\n",
    "|PyCharm|- 전문적인 기능을 갖춘 IDE로, 별도 설치 필요 <br>- 대규모 프로젝트 개발에 적합하며 사용률이 높음|\n",
    "|Visual Studio Code|- 다양한 언어를 지원하는 확장 가능한 편집기 <br>- Python 개발에도 많이 사용되며, 별도 설치 필요|\n",
    "\n",
    "<br>"
   ]
  },
  {
   "cell_type": "markdown",
   "id": "5c3d2263-a853-48e4-8431-53e09120a651",
   "metadata": {
    "jp-MarkdownHeadingCollapsed": true
   },
   "source": [
    "<br>\n",
    "\n",
    "### 1.2.3. Google Colab\n",
    "+ Google Colab\n",
    "  + 구글에서 제공하는 클라우드 기반의 Jupyter Notebook 개발 환경으로, 웹 브라우저에서 Python 코드 작성 및 실행이 가능함\n",
    "  + 별도의 설치 없이 바로 사용할 수 있으며, 구글 드라이브와 연동하여 작성한 파일을 클라우드에 저장하고 쉽게 관리할 수 있음\n",
    "  + 다양한 라이브러리(NumPy, Pandas, Matplotlib 등)가 기본적으로 설치되어 있음\n",
    "  + GPU, TPU 지원을 통해 대규모 데이터 처리와 딥러닝 모델 학습에 유리함\n",
    "  + 협업 기능을 제공하여, 여러 사람이 동시에 실시간으로 작업하고 프로그램을 공유할 수 있음"
   ]
  }
 ],
 "metadata": {
  "kernelspec": {
   "display_name": "Python 3 (ipykernel)",
   "language": "python",
   "name": "python3"
  },
  "language_info": {
   "codemirror_mode": {
    "name": "ipython",
    "version": 3
   },
   "file_extension": ".py",
   "mimetype": "text/x-python",
   "name": "python",
   "nbconvert_exporter": "python",
   "pygments_lexer": "ipython3",
   "version": "3.9.21"
  }
 },
 "nbformat": 4,
 "nbformat_minor": 5
}
