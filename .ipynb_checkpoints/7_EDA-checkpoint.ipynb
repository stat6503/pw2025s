{
 "cells": [
  {
   "cell_type": "markdown",
   "id": "bb48d5eb-d669-477c-9041-a8a652872818",
   "metadata": {},
   "source": [
    "<h1>7. 기술통계</h1>\n",
    "<br>"
   ]
  },
  {
   "cell_type": "markdown",
   "id": "54f65ba9-c536-4722-b950-a768610abf50",
   "metadata": {},
   "source": [
    "## 7.1. 데이터 유형\n",
    "+ 데이터의 특성에 따라 적용할 수 있는 분석 방법이나 시각화 기법이 달라지므로, 제일 먼저 변수의 유형을 파악해야 함\n",
    "\n",
    "<br>\n",
    "\n",
    "|구분|설명|예시|\n",
    "|:------:|:------------------|:------|\n",
    "|범주형 변수 <br>(categorical variable)|- 고정된 범주(집단) 중 하나의 값을 가지는 변수 <br>- 기본적으로 숫자로 표현할 수 없고, 대소 비교나 산술 연산이 적용되지 않음 <br>- 범주형 변수를 숫자로 표기했다고 해서 계산 가능한 수치형 변수가 되는 것은 아님|- 성별(남성, 여성) <br>- 종교(있음, 없음)|\n",
    "|수치형 변수 <br>(numerical variagle)|- 연산 가능한 수치 값을 가지는 변수 <br>- 대소 비교가 가능하고, 산술 연산이 가능함|- 키(cm) <br>- 몸무게(kg)|\n",
    "\n",
    "<br>"
   ]
  },
  {
   "cell_type": "markdown",
   "id": "2ff76298-b551-4d5f-addd-2a628ee1b75a",
   "metadata": {},
   "source": [
    "## 7.2. 변수 요약\n",
    "### 7.2.1. 범주형 변수 요약\n",
    "+ 빈도표 : 하나의 범주형 변수의 분포를 파악하기 위해 범주별 빈도를 정리한 표\n",
    "+ 분할표 : 두 개의 범주형 변수의 분포를 파악하기 위해 한 변수의 범주는 행에, 다른 변수의 범주는 열에 배치하여 교차되는 칸에 해당 빈도를 정리한 표\n",
    "\n",
    "<br>"
   ]
  },
  {
   "cell_type": "code",
   "execution_count": 1,
   "id": "04b4f1ee-f0ec-4ac8-9ad2-669f0a1497c3",
   "metadata": {},
   "outputs": [],
   "source": [
    "import numpy as np\n",
    "import pandas as pd"
   ]
  },
  {
   "cell_type": "code",
   "execution_count": 2,
   "id": "33dae798-0cca-4408-9a6b-cc267101fa2a",
   "metadata": {},
   "outputs": [],
   "source": [
    "## 실습 데이터 : tips 데이터셋\n",
    "import seaborn as sns\n",
    "tips = sns.load_dataset('tips')"
   ]
  },
  {
   "cell_type": "code",
   "execution_count": 3,
   "id": "7d58ea42-574a-4c04-9f8f-e71ad1caaddb",
   "metadata": {},
   "outputs": [
    {
     "name": "stdout",
     "output_type": "stream",
     "text": [
      "<class 'pandas.core.frame.DataFrame'>\n",
      "RangeIndex: 244 entries, 0 to 243\n",
      "Data columns (total 7 columns):\n",
      " #   Column      Non-Null Count  Dtype   \n",
      "---  ------      --------------  -----   \n",
      " 0   total_bill  244 non-null    float64 \n",
      " 1   tip         244 non-null    float64 \n",
      " 2   sex         244 non-null    category\n",
      " 3   smoker      244 non-null    category\n",
      " 4   day         244 non-null    category\n",
      " 5   time        244 non-null    category\n",
      " 6   size        244 non-null    int64   \n",
      "dtypes: category(4), float64(2), int64(1)\n",
      "memory usage: 7.4 KB\n",
      "None\n"
     ]
    }
   ],
   "source": [
    "# total_bill: 식사 금액\n",
    "# tip: 팁 금액\n",
    "# sex: 성별\n",
    "# smoker: 흡연 여부\n",
    "# day: 요일\n",
    "# time: 식사 시간(Lunch, Dinner)\n",
    "# size: 식사 인원 수\n",
    "print(tips.info())"
   ]
  },
  {
   "cell_type": "code",
   "execution_count": 4,
   "id": "9195df91-a522-43ad-8372-a219cb90b9ca",
   "metadata": {},
   "outputs": [
    {
     "name": "stdout",
     "output_type": "stream",
     "text": [
      "day\n",
      "Sat     87\n",
      "Sun     76\n",
      "Thur    62\n",
      "Fri     19\n",
      "Name: count, dtype: int64\n"
     ]
    }
   ],
   "source": [
    "# 빈도표1 : 요일별 주문 수\n",
    "print(tips.value_counts('day'))"
   ]
  },
  {
   "cell_type": "code",
   "execution_count": 5,
   "id": "60cc2e18-c790-43b1-9499-f6a9609a5564",
   "metadata": {},
   "outputs": [
    {
     "name": "stdout",
     "output_type": "stream",
     "text": [
      "day\n",
      "Sat     0.356557\n",
      "Sun     0.311475\n",
      "Thur    0.254098\n",
      "Fri     0.077869\n",
      "Name: proportion, dtype: float64\n"
     ]
    }
   ],
   "source": [
    "# 빈도표2 : 요일별 주문 비율\n",
    "print(tips.value_counts('day', normalize=True))"
   ]
  },
  {
   "cell_type": "code",
   "execution_count": 6,
   "id": "7ea6eb2d-dfe3-4f9f-849d-8ae823f56dcc",
   "metadata": {},
   "outputs": [
    {
     "name": "stdout",
     "output_type": "stream",
     "text": [
      "      빈도        비율\n",
      "day               \n",
      "Thur  62  0.254098\n",
      "Fri   19  0.077869\n",
      "Sat   87  0.356557\n",
      "Sun   76  0.311475\n"
     ]
    }
   ],
   "source": [
    "# 빈도표3 : 요일별 주문 수 및 비율 (범주 순서 지정)\n",
    "days = ['Thur', 'Fri', 'Sat', 'Sun']\n",
    "cat_type = pd.CategoricalDtype(categories=days, ordered=True)\n",
    "tips['day'] = tips['day'].astype(cat_type)\n",
    "\n",
    "freqency = tips['day'].value_counts().sort_index()\n",
    "proportion = tips['day'].value_counts(normalize=True).sort_index()\n",
    "\n",
    "summary = pd.DataFrame({'빈도': freqency, '비율': proportion})\n",
    "print(summary)"
   ]
  },
  {
   "cell_type": "code",
   "execution_count": 7,
   "id": "a2041591-9f71-4225-9c10-7f1d0bb2e253",
   "metadata": {},
   "outputs": [
    {
     "name": "stdout",
     "output_type": "stream",
     "text": [
      "time  Lunch  Dinner\n",
      "day                \n",
      "Thur     61       1\n",
      "Fri       7      12\n",
      "Sat       0      87\n",
      "Sun       0      76\n"
     ]
    }
   ],
   "source": [
    "# 교차표1 : 요일에 따른 식사 시간 빈도\n",
    "print(pd.crosstab(tips['day'], tips['time']))"
   ]
  },
  {
   "cell_type": "code",
   "execution_count": 8,
   "id": "4f782745-4b48-46ce-9a0f-6ef09f70c4a9",
   "metadata": {},
   "outputs": [
    {
     "name": "stdout",
     "output_type": "stream",
     "text": [
      "time     Lunch    Dinner\n",
      "day                     \n",
      "Thur  0.250000  0.004098\n",
      "Fri   0.028689  0.049180\n",
      "Sat   0.000000  0.356557\n",
      "Sun   0.000000  0.311475\n"
     ]
    }
   ],
   "source": [
    "# 교차표2 : 요일에 따른 식사 시간 비율 (전체 %)\n",
    "print(pd.crosstab(tips['day'], tips['time'], normalize=True))"
   ]
  },
  {
   "cell_type": "code",
   "execution_count": 9,
   "id": "4d24a6db-636a-4396-a9a9-f5cc2cfbb156",
   "metadata": {},
   "outputs": [
    {
     "name": "stdout",
     "output_type": "stream",
     "text": [
      "time     Lunch    Dinner\n",
      "day                     \n",
      "Thur  0.983871  0.016129\n",
      "Fri   0.368421  0.631579\n",
      "Sat   0.000000  1.000000\n",
      "Sun   0.000000  1.000000\n"
     ]
    }
   ],
   "source": [
    "# 교차표3 : 요일에 따른 식사 시간 비율 (행 기준 %)\n",
    "print(pd.crosstab(tips['day'], tips['time'], normalize='index'))"
   ]
  },
  {
   "cell_type": "code",
   "execution_count": 10,
   "id": "e375a54c-7906-459d-83f4-95cedc0d1261",
   "metadata": {},
   "outputs": [
    {
     "name": "stdout",
     "output_type": "stream",
     "text": [
      "time     Lunch    Dinner\n",
      "day                     \n",
      "Thur  0.897059  0.005682\n",
      "Fri   0.102941  0.068182\n",
      "Sat   0.000000  0.494318\n",
      "Sun   0.000000  0.431818\n"
     ]
    }
   ],
   "source": [
    "# 교차표4 : 요일에 따른 식사 시간 비율 (열 기준 %)\n",
    "print(pd.crosstab(tips['day'], tips['time'], normalize='columns'))"
   ]
  },
  {
   "cell_type": "markdown",
   "id": "1792aee0-29b0-4a8c-8936-97cfc6fcce88",
   "metadata": {},
   "source": [
    "<br>\n",
    "\n",
    "### 7.2.2. 수치형 변수 요약\n",
    "+ 중심위치 : 자료를 하나의 숫자로 표현할 수 있는 값으로, 분포의 중심을 나타냄\n",
    "  + 평균(mean) : 모든 값을 더한 후 데이터 개수로 나눈 값으로, 이상값의 영향을 크게 받음\n",
    "  + 중앙값(median) : 데이터를 크기 순으로 정렬했을 때 중앙에 위치하는 값으로, 이상값의 영향을 거의 받지 않음\n",
    "\n",
    "<br>\n",
    "\n",
    "+ 산포도 : 데이터가 흩어져 있는 정도로, 중심위치의 대표성을 평가하는데 중요함\n",
    "  + 분산(variance) : 각 데이터가 평균과 얼마나 떨어져 있는지 제곱한 값들의 평균\n",
    "  + 표준편차(standard deviation) : 분산의 양의 제곱근으로, 평균과 단위가 같아 해석이 용이함\n",
    "  + 산포도가 작으면 데이터들이 중심위치에 모여 있다는 것을 의미함\n",
    "\n",
    "<br>\n",
    "\n",
    "+ 사분위수(quartiles) : 데이터를 4등분하는 값\n",
    "  + 최소값\n",
    "  + 1사분위수(Q₁) : 데이터의 25% 순서에 있는 값\n",
    "  + 중앙값\n",
    "  + 3사분위수(Q₃) : 데이터의 75% 순서에 있는 값\n",
    "  + 최대값\n",
    "+ 사분위수범위(IQR) : Q₃ - Q₁으로, 중앙값에 대한 산포도를 나타냄\n",
    "\n",
    "<br>\n",
    "\n",
    "![](./images/fig7-1.gif)\n",
    "\n",
    "<br>\n",
    "\n",
    "+ 분포의 모양\n",
    "  + 왜도(skewness)\n",
    "    + 데이터의 비대칭 정도를 나타냄\n",
    "    + 0이면 대칭, 음수이면 왼쪽으로 꼬리가 긴 분포(skewed to left), 양수이면 오른쪽으로 꼬리가 긴 분포(skewed to right)임\n",
    "  + 첨도(kurtosis)\n",
    "    + 데이터가 중심위치에 얼마나 모여 있는가를 나타냄\n",
    "    + 0이면 정규분포와 유사, 양수이면 중심에 많이 모여 있음(뾰족함), 음수이면 넓게 퍼져있음(완만함)\n",
    "    + \\[참고\\]) Python은 초과 첨도를 기준으로 하여, 정규분포를 0으로 간주함\n",
    "\n",
    "<br>"
   ]
  },
  {
   "cell_type": "code",
   "execution_count": 11,
   "id": "5b09d3fa-f655-4576-80f5-5547b5e53c29",
   "metadata": {},
   "outputs": [],
   "source": [
    "from scipy import stats"
   ]
  },
  {
   "cell_type": "code",
   "execution_count": 12,
   "id": "34eef272-c8d6-43cd-ac31-99a9c563a78b",
   "metadata": {},
   "outputs": [
    {
     "name": "stdout",
     "output_type": "stream",
     "text": [
      "count    244.000000\n",
      "mean      19.785943\n",
      "std        8.902412\n",
      "min        3.070000\n",
      "25%       13.347500\n",
      "50%       17.795000\n",
      "75%       24.127500\n",
      "max       50.810000\n",
      "Name: total_bill, dtype: float64\n"
     ]
    }
   ],
   "source": [
    "# 요약 통계1 : 식사 금액 분포 \n",
    "print(tips['total_bill'].describe())"
   ]
  },
  {
   "cell_type": "code",
   "execution_count": 13,
   "id": "04e1e143-ec48-4840-842c-fd57060592ed",
   "metadata": {},
   "outputs": [
    {
     "name": "stdout",
     "output_type": "stream",
     "text": [
      "nobs: 244\n",
      "min-max: (np.float64(1.0), np.float64(10.0))\n",
      "mean: 3.00\n",
      "variance: 1.91\n",
      "skewness: 1.46\n",
      "kurtosis: 3.55\n"
     ]
    }
   ],
   "source": [
    "# 요약 통계2 : 팁 금액 분포\n",
    "summary = stats.describe(tips['tip'])\n",
    "print(f'nobs: {summary.nobs}')\n",
    "print(f'min-max: {summary.minmax}')\n",
    "print(f'mean: {summary.mean:.2f}')\n",
    "print(f'variance: {summary.variance:.2f}')\n",
    "print(f'skewness: {summary.skewness:.2f}')\n",
    "print(f'kurtosis: {summary.kurtosis:.2f}')"
   ]
  },
  {
   "cell_type": "markdown",
   "id": "92a3229d-001f-42fd-807d-f04d54e5f27f",
   "metadata": {},
   "source": [
    "<br>\n",
    "\n",
    "## 7.3. 변수 간 관계\n",
    "### 7.3.1. 집단별 비교\n",
    "+ 집단별로 수치형 변수의 분포(평균, 중앙값, 표준편차, 사분위수 등)를 비교함으로써 집단 간 차이를 파악할 수 있음\n",
    "\n",
    "<br>"
   ]
  },
  {
   "cell_type": "code",
   "execution_count": 14,
   "id": "3bb2c7b8-1e89-42b4-b496-1331351e4619",
   "metadata": {},
   "outputs": [
    {
     "name": "stdout",
     "output_type": "stream",
     "text": [
      "        count       mean       std   min     25%    50%     75%    max\n",
      "smoker                                                                \n",
      "Yes      93.0  20.756344  9.832154  3.07  13.420  17.92  26.860  50.81\n",
      "No      151.0  19.188278  8.255582  7.25  13.325  17.59  22.755  48.33\n"
     ]
    }
   ],
   "source": [
    "# 흡연 여부별 팁 금액 분포\n",
    "print(tips.groupby('smoker', observed=True)['total_bill'].describe())"
   ]
  },
  {
   "cell_type": "markdown",
   "id": "a37ad616-9192-420b-8e70-de396f36ece2",
   "metadata": {},
   "source": [
    "<br>\n",
    "\n",
    "### 7.3.2. 상관관계\n",
    "+ 상관관계(correlation)\n",
    "  + 두 수치형 변수 간 선형적인 관계(linear relationship)를 나타냄\n",
    "  + 상관계수(correlation coefficient)\n",
    "    + 두 변수 간 상관관계를 수치로 나타낸 지표\n",
    "    + 변수 측정 단위의 영향을 받지 않음\n",
    "\n",
    "<br>\n",
    "\n",
    "+ 상관계수의 성질\n",
    "  + 상관계수 r은 항상 -1에서 +1 사이의 값을 가짐\n",
    "  + 절대값 |r|은 선형성의 강도를 나타내며, 1에 가까울수록 강한 상관관계를 의미함\n",
    "  + 부호는 선형 관계의 방향을 나타냄\n",
    "    + r > 0 : 양의 상관관계(한 변수가 증가할 때 다른 변수도 증가)\n",
    "    + r < 0 : 음의 상관관계(한 변수가 증가할 때 다른 변수는 감소)\n",
    "    + r ≈ 0 : 상관관계 없음(한 변수가 증가할 때 다른 변수는 영향을 받지 않음)\n",
    "\n",
    "<br>\n",
    "\n",
    "![](./images/fig7-2.jpg){width=70%}\n",
    "\n",
    "<br>"
   ]
  },
  {
   "cell_type": "code",
   "execution_count": 15,
   "id": "423bed7c-596a-4faf-b8af-82104db346f6",
   "metadata": {},
   "outputs": [
    {
     "name": "stdout",
     "output_type": "stream",
     "text": [
      "상관계수: 0.68, p-value: 0.000\n"
     ]
    }
   ],
   "source": [
    "# 상관관계1 : 식사 금액과 팁 금액 간 상관계수\n",
    "from scipy.stats import pearsonr\n",
    "r, p = pearsonr(tips['total_bill'], tips['tip'])\n",
    "print(f'상관계수: {r:.2f}, p-value: {p:.3f}')"
   ]
  },
  {
   "cell_type": "code",
   "execution_count": 16,
   "id": "de27c8d7-3d64-439a-bb0a-212bb7249895",
   "metadata": {},
   "outputs": [
    {
     "data": {
      "text/html": [
       "<div>\n",
       "<style scoped>\n",
       "    .dataframe tbody tr th:only-of-type {\n",
       "        vertical-align: middle;\n",
       "    }\n",
       "\n",
       "    .dataframe tbody tr th {\n",
       "        vertical-align: top;\n",
       "    }\n",
       "\n",
       "    .dataframe thead th {\n",
       "        text-align: right;\n",
       "    }\n",
       "</style>\n",
       "<table border=\"1\" class=\"dataframe\">\n",
       "  <thead>\n",
       "    <tr style=\"text-align: right;\">\n",
       "      <th></th>\n",
       "      <th>total_bill</th>\n",
       "      <th>size</th>\n",
       "      <th>tip</th>\n",
       "    </tr>\n",
       "  </thead>\n",
       "  <tbody>\n",
       "    <tr>\n",
       "      <th>total_bill</th>\n",
       "      <td>1.000000</td>\n",
       "      <td>0.598315</td>\n",
       "      <td>0.675734</td>\n",
       "    </tr>\n",
       "    <tr>\n",
       "      <th>size</th>\n",
       "      <td>0.598315</td>\n",
       "      <td>1.000000</td>\n",
       "      <td>0.489299</td>\n",
       "    </tr>\n",
       "    <tr>\n",
       "      <th>tip</th>\n",
       "      <td>0.675734</td>\n",
       "      <td>0.489299</td>\n",
       "      <td>1.000000</td>\n",
       "    </tr>\n",
       "  </tbody>\n",
       "</table>\n",
       "</div>"
      ],
      "text/plain": [
       "            total_bill      size       tip\n",
       "total_bill    1.000000  0.598315  0.675734\n",
       "size          0.598315  1.000000  0.489299\n",
       "tip           0.675734  0.489299  1.000000"
      ]
     },
     "execution_count": 16,
     "metadata": {},
     "output_type": "execute_result"
    }
   ],
   "source": [
    "# 상관관계2 : 식사 금액, 식사 인원 수와 팁 금액 간 상관계수\n",
    "tips[['total_bill', 'size', 'tip']].corr()"
   ]
  },
  {
   "cell_type": "markdown",
   "id": "d818a572-9d9c-464f-aaa4-a36a6c99fff6",
   "metadata": {},
   "source": [
    "<br>\n",
    "\n",
    "## 7.4. 결측값 처리\n",
    "+ 결측값(missing value)\n",
    "  + Python에서는 누락된 데이터를 `NaN`(Not a Number)로 표기하며, 연산 시 자동으로 제외함\n",
    "  + 데이터프레임에서 `isna()`, `isnull()` 메소드를 이용하면 결측값을 확인할 수 있음\n",
    "\n",
    "<br>\n",
    "\n",
    "+ 결측값 처리 방법\n",
    "  + 가장 단순한 방법은 `dropna()` 메소드를 이용하여 결측값이 포함된 행이나 열을 삭제하는 것임\n",
    "    + `axis=0`이면 행, `axis=1`이면 열을 삭제함\n",
    "  + `fillna()` 메소드를 이용하여 결측값을 최빈값이나 평균, 중앙값으로 대체할 수도 있음\n",
    "\n",
    "<br>"
   ]
  },
  {
   "cell_type": "code",
   "execution_count": 17,
   "id": "0e5ed174-111e-4c29-b3ad-afc411e2ab0a",
   "metadata": {},
   "outputs": [],
   "source": [
    "## 실습 데이터 : titanic\n",
    "titanic = sns.load_dataset('titanic')"
   ]
  },
  {
   "cell_type": "code",
   "execution_count": 18,
   "id": "a56fbd9f-94df-49e4-963e-d5825d642444",
   "metadata": {},
   "outputs": [
    {
     "name": "stdout",
     "output_type": "stream",
     "text": [
      "<class 'pandas.core.frame.DataFrame'>\n",
      "RangeIndex: 891 entries, 0 to 890\n",
      "Data columns (total 15 columns):\n",
      " #   Column       Non-Null Count  Dtype   \n",
      "---  ------       --------------  -----   \n",
      " 0   survived     891 non-null    int64   \n",
      " 1   pclass       891 non-null    int64   \n",
      " 2   sex          891 non-null    object  \n",
      " 3   age          714 non-null    float64 \n",
      " 4   sibsp        891 non-null    int64   \n",
      " 5   parch        891 non-null    int64   \n",
      " 6   fare         891 non-null    float64 \n",
      " 7   embarked     889 non-null    object  \n",
      " 8   class        891 non-null    category\n",
      " 9   who          891 non-null    object  \n",
      " 10  adult_male   891 non-null    bool    \n",
      " 11  deck         203 non-null    category\n",
      " 12  embark_town  889 non-null    object  \n",
      " 13  alive        891 non-null    object  \n",
      " 14  alone        891 non-null    bool    \n",
      "dtypes: bool(2), category(2), float64(2), int64(4), object(5)\n",
      "memory usage: 80.7+ KB\n"
     ]
    }
   ],
   "source": [
    "# survived: 생존 여부(0, 1)\n",
    "# pclass: 객실 등급(1, 2, 3)\n",
    "# sex: 성별\n",
    "# age: 나이\n",
    "# sibsp: 함께 탑승한 형제자매, 배우자 수\n",
    "# parch: 함께 탑승한 부모, 자식 수\n",
    "# fare: 요금\n",
    "# embarked: 탑승 항구(S, C, Q)\n",
    "# class: 객실 등급(First, Second, Third)\n",
    "# who: 사람 구분(man, woman, child)\n",
    "# adult_male: 성인 남자 여부(True, False)\n",
    "# deck: 갑판\n",
    "# embark_town: 탑승 항구(Southhampton, Cherbourg, Queenstown)\n",
    "# alive: 생존여부(no, yes)\n",
    "# alone: 1인 탑승 여부(True, False)\n",
    "titanic.info()"
   ]
  },
  {
   "cell_type": "code",
   "execution_count": 19,
   "id": "46d97aad-e5cc-4c0e-869e-babbed28d658",
   "metadata": {},
   "outputs": [
    {
     "data": {
      "text/html": [
       "<div>\n",
       "<style scoped>\n",
       "    .dataframe tbody tr th:only-of-type {\n",
       "        vertical-align: middle;\n",
       "    }\n",
       "\n",
       "    .dataframe tbody tr th {\n",
       "        vertical-align: top;\n",
       "    }\n",
       "\n",
       "    .dataframe thead th {\n",
       "        text-align: right;\n",
       "    }\n",
       "</style>\n",
       "<table border=\"1\" class=\"dataframe\">\n",
       "  <thead>\n",
       "    <tr style=\"text-align: right;\">\n",
       "      <th></th>\n",
       "      <th>survived</th>\n",
       "      <th>pclass</th>\n",
       "      <th>sex</th>\n",
       "      <th>age</th>\n",
       "      <th>sibsp</th>\n",
       "      <th>parch</th>\n",
       "      <th>fare</th>\n",
       "      <th>embarked</th>\n",
       "      <th>class</th>\n",
       "      <th>who</th>\n",
       "      <th>adult_male</th>\n",
       "      <th>deck</th>\n",
       "      <th>embark_town</th>\n",
       "      <th>alive</th>\n",
       "      <th>alone</th>\n",
       "    </tr>\n",
       "  </thead>\n",
       "  <tbody>\n",
       "    <tr>\n",
       "      <th>61</th>\n",
       "      <td>1</td>\n",
       "      <td>1</td>\n",
       "      <td>female</td>\n",
       "      <td>38.0</td>\n",
       "      <td>0</td>\n",
       "      <td>0</td>\n",
       "      <td>80.0</td>\n",
       "      <td>NaN</td>\n",
       "      <td>First</td>\n",
       "      <td>woman</td>\n",
       "      <td>False</td>\n",
       "      <td>B</td>\n",
       "      <td>NaN</td>\n",
       "      <td>yes</td>\n",
       "      <td>True</td>\n",
       "    </tr>\n",
       "    <tr>\n",
       "      <th>829</th>\n",
       "      <td>1</td>\n",
       "      <td>1</td>\n",
       "      <td>female</td>\n",
       "      <td>62.0</td>\n",
       "      <td>0</td>\n",
       "      <td>0</td>\n",
       "      <td>80.0</td>\n",
       "      <td>NaN</td>\n",
       "      <td>First</td>\n",
       "      <td>woman</td>\n",
       "      <td>False</td>\n",
       "      <td>B</td>\n",
       "      <td>NaN</td>\n",
       "      <td>yes</td>\n",
       "      <td>True</td>\n",
       "    </tr>\n",
       "  </tbody>\n",
       "</table>\n",
       "</div>"
      ],
      "text/plain": [
       "     survived  pclass     sex   age  sibsp  parch  fare embarked  class  \\\n",
       "61          1       1  female  38.0      0      0  80.0      NaN  First   \n",
       "829         1       1  female  62.0      0      0  80.0      NaN  First   \n",
       "\n",
       "       who  adult_male deck embark_town alive  alone  \n",
       "61   woman       False    B         NaN   yes   True  \n",
       "829  woman       False    B         NaN   yes   True  "
      ]
     },
     "execution_count": 19,
     "metadata": {},
     "output_type": "execute_result"
    }
   ],
   "source": [
    "# 결측값 확인\n",
    "titanic[titanic['embarked'].isna()]"
   ]
  },
  {
   "cell_type": "code",
   "execution_count": 20,
   "id": "82beb260-3960-4974-8e3c-bb0048da3187",
   "metadata": {},
   "outputs": [
    {
     "data": {
      "text/plain": [
       "survived         0\n",
       "pclass           0\n",
       "sex              0\n",
       "age            177\n",
       "sibsp            0\n",
       "parch            0\n",
       "fare             0\n",
       "embarked         2\n",
       "class            0\n",
       "who              0\n",
       "adult_male       0\n",
       "deck           688\n",
       "embark_town      2\n",
       "alive            0\n",
       "alone            0\n",
       "dtype: int64"
      ]
     },
     "execution_count": 20,
     "metadata": {},
     "output_type": "execute_result"
    }
   ],
   "source": [
    "# 각 열별 결측값 개수 확인\n",
    "# 부울형은 산술 연산 시 True는 1, False는 0으로 계산되므로\n",
    "# isna() 결과에 sum()을 적용하면 결측값 개수가 계산됨\n",
    "titanic.isna().sum()"
   ]
  },
  {
   "cell_type": "code",
   "execution_count": 21,
   "id": "2e9a98a2-e07c-4519-a1d9-96482606caa2",
   "metadata": {},
   "outputs": [
    {
     "data": {
      "text/plain": [
       "Index(['survived', 'pclass', 'sex', 'age', 'sibsp', 'parch', 'fare',\n",
       "       'embarked', 'class', 'who', 'adult_male', 'embark_town', 'alive',\n",
       "       'alone'],\n",
       "      dtype='object')"
      ]
     },
     "execution_count": 21,
     "metadata": {},
     "output_type": "execute_result"
    }
   ],
   "source": [
    "# 결측값이 많이 포함된 열 삭제\n",
    "titanic.drop('deck', axis=1, inplace=True)\n",
    "titanic.columns"
   ]
  },
  {
   "cell_type": "code",
   "execution_count": 22,
   "id": "06dc7ce8-44f4-4e0d-ac4b-67a015aa958c",
   "metadata": {},
   "outputs": [
    {
     "data": {
      "text/plain": [
       "survived         0\n",
       "pclass           0\n",
       "sex              0\n",
       "age            177\n",
       "sibsp            0\n",
       "parch            0\n",
       "fare             0\n",
       "embarked         0\n",
       "class            0\n",
       "who              0\n",
       "adult_male       0\n",
       "embark_town      0\n",
       "alive            0\n",
       "alone            0\n",
       "dtype: int64"
      ]
     },
     "execution_count": 22,
     "metadata": {},
     "output_type": "execute_result"
    }
   ],
   "source": [
    "# age 변수를 제외한 변수들 중 결측값이 하나라도 포함된 행 삭제\n",
    "cols = titanic.columns.difference(['age'])\n",
    "titanic_new = titanic.dropna(subset=cols, how='any')\n",
    "titanic_new.isna().sum()"
   ]
  },
  {
   "cell_type": "code",
   "execution_count": 23,
   "id": "e1917371-c97a-46d3-b7a4-11cec153d310",
   "metadata": {},
   "outputs": [
    {
     "data": {
      "text/plain": [
       "survived         0\n",
       "pclass           0\n",
       "sex              0\n",
       "age            177\n",
       "sibsp            0\n",
       "parch            0\n",
       "fare             0\n",
       "embarked         0\n",
       "class            0\n",
       "who              0\n",
       "adult_male       0\n",
       "embark_town      2\n",
       "alive            0\n",
       "alone            0\n",
       "dtype: int64"
      ]
     },
     "execution_count": 23,
     "metadata": {},
     "output_type": "execute_result"
    }
   ],
   "source": [
    "# 결측값을 최빈값으로 대체\n",
    "mode = titanic['embarked'].mode()[0]\n",
    "titanic['embarked'] = titanic['embarked'].fillna(mode)\n",
    "titanic.isna().sum()"
   ]
  },
  {
   "cell_type": "code",
   "execution_count": 24,
   "id": "57f9386e-af8e-43b0-b471-92be21a5ee46",
   "metadata": {},
   "outputs": [
    {
     "data": {
      "text/plain": [
       "survived       0\n",
       "pclass         0\n",
       "sex            0\n",
       "age            0\n",
       "sibsp          0\n",
       "parch          0\n",
       "fare           0\n",
       "embarked       0\n",
       "class          0\n",
       "who            0\n",
       "adult_male     0\n",
       "embark_town    2\n",
       "alive          0\n",
       "alone          0\n",
       "dtype: int64"
      ]
     },
     "execution_count": 24,
     "metadata": {},
     "output_type": "execute_result"
    }
   ],
   "source": [
    "# 결측값을 중앙값으로 대체\n",
    "median = titanic.groupby(['sex', 'who'])['age'].transform('median')\n",
    "titanic['age'] = titanic['age'].fillna(median)\n",
    "titanic.isna().sum()"
   ]
  },
  {
   "cell_type": "markdown",
   "id": "367fc140-38ea-47c8-bee7-368ec327bd4c",
   "metadata": {},
   "source": [
    "<br>\n",
    "\n",
    "## 7.5. 이상값 처리\n",
    "+ 이상값(outlier)\n",
    "  + 정상적인 데이터 분포에서 벗어나 극단적으로 크거나 작은 값\n",
    "  + 데이터 분석과 모델링 과정에서 결과에 큰 영향을 미칠 수 있음\n",
    "\n",
    "<br>\n",
    "\n",
    "+ 이상값 탐지 방법\n",
    "  + 사분위수범위(IQR) 활용 : (Q₁-1.5×IQR, Q₃+1.5×IQR) 범위를 벗어나는 값을 이상값으로 판단\n",
    "  + 표준점수(Z-score) 활용 : 분포가 대칭일때, 일반적으로 |Z|>3인 값을 이상값으로 판단\n",
    "\n",
    "<br>\n",
    "\n",
    "+ 이상값 처리 방법\n",
    "  + 이상값이 소수이고 데이터 손실이 크지 않다면 해당 데이터를 삭제\n",
    "  + 평균, 중앙값 등 적절한 값으로 대체 가능\n",
    "  + 로그 변환, 제곱근 변환 등 데이터 변환 기법 활용\n",
    "\n",
    "<br>"
   ]
  },
  {
   "cell_type": "code",
   "execution_count": 25,
   "id": "025796b9-66f2-41e0-9d09-19492aa96d64",
   "metadata": {},
   "outputs": [
    {
     "name": "stdout",
     "output_type": "stream",
     "text": [
      "survived 변수의 이상값 개수: 0\n",
      "pclass 변수의 이상값 개수: 0\n",
      "age 변수의 이상값 개수: 66\n",
      "sibsp 변수의 이상값 개수: 46\n",
      "parch 변수의 이상값 개수: 213\n",
      "fare 변수의 이상값 개수: 116\n"
     ]
    }
   ],
   "source": [
    "# 이상값 확인 및 삭제1 : 사분위수 범위(IQR) 활용\n",
    "def iqr_outlier(data, column):\n",
    "    col_data = data[column].dropna()\n",
    "    Q1 = col_data.quantile(0.25)\n",
    "    Q3 = col_data.quantile(0.75)\n",
    "    IQR = Q3 - Q1\n",
    "    lower_bound = Q1 - 1.5 * IQR\n",
    "    upper_bound = Q3 + 1.5 * IQR\n",
    "    outliers = data[(data[column] < lower_bound) | (data[column] > upper_bound)]\n",
    "    return outliers\n",
    "\n",
    "for column in titanic.select_dtypes(include='number').columns:\n",
    "    outlier = iqr_outlier(titanic, column)\n",
    "    print(f'{column} 변수의 이상값 개수: {len(outlier)}')"
   ]
  },
  {
   "cell_type": "code",
   "execution_count": 26,
   "id": "57c034d3-6c28-4d28-8529-718af1e2cfb6",
   "metadata": {},
   "outputs": [
    {
     "name": "stdout",
     "output_type": "stream",
     "text": [
      "survived 변수의 이상값 개수: 0\n",
      "pclass 변수의 이상값 개수: 0\n",
      "age 변수의 이상값 개수: 7\n",
      "sibsp 변수의 이상값 개수: 30\n",
      "parch 변수의 이상값 개수: 15\n",
      "fare 변수의 이상값 개수: 20\n"
     ]
    }
   ],
   "source": [
    "# 이상값 확인 및 삭제2 : Z-score 활용\n",
    "def z_outlier(df, c, t=3):\n",
    "    from scipy.stats import zscore\n",
    "    z = zscore(df[c].dropna())\n",
    "    return df.loc[df[c].dropna().index[(abs(z) > t)]]\n",
    "    \n",
    "for column in titanic.select_dtypes(include='number').columns:\n",
    "    outlier = z_outlier(titanic, column)\n",
    "    print(f'{column} 변수의 이상값 개수: {len(outlier)}')"
   ]
  },
  {
   "cell_type": "code",
   "execution_count": 27,
   "id": "ea3fbea0-8984-4107-bf6a-8303e76fa650",
   "metadata": {},
   "outputs": [
    {
     "name": "stdout",
     "output_type": "stream",
     "text": [
      "survived 변수의 왜도: 0.478\n",
      "pclass 변수의 왜도: -0.629\n",
      "age 변수의 왜도: 0.420\n",
      "sibsp 변수의 왜도: 3.689\n",
      "parch 변수의 왜도: 2.744\n",
      "fare 변수의 왜도: 4.779\n"
     ]
    }
   ],
   "source": [
    "# [참고] 변수 분포의 왜도를 확인하고, 적절한 이상값 탐지 방법(IQR, Z-score)을 선택\n",
    "for column in titanic.select_dtypes(include='number').columns:\n",
    "    print(f'{column} 변수의 왜도: {stats.skew(titanic[column]):.3f}')"
   ]
  }
 ],
 "metadata": {
  "kernelspec": {
   "display_name": "Python 3 (ipykernel)",
   "language": "python",
   "name": "python3"
  },
  "language_info": {
   "codemirror_mode": {
    "name": "ipython",
    "version": 3
   },
   "file_extension": ".py",
   "mimetype": "text/x-python",
   "name": "python",
   "nbconvert_exporter": "python",
   "pygments_lexer": "ipython3",
   "version": "3.9.21"
  }
 },
 "nbformat": 4,
 "nbformat_minor": 5
}
