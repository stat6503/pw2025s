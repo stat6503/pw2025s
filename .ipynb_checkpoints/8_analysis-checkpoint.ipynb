{
 "cells": [
  {
   "cell_type": "markdown",
   "id": "a71def2f-a2e0-498a-9b89-43e4d46f2390",
   "metadata": {},
   "source": [
    "<h1>8. 가설 검정</h1>\n",
    "<br>"
   ]
  },
  {
   "attachments": {},
   "cell_type": "markdown",
   "id": "b9761299-9a6c-4a5a-88a4-f5910269cd94",
   "metadata": {},
   "source": [
    "## 8.1. 통계적 가설 검정\n",
    "+ 통계적 가설(statistical hypothesis)\n",
    "  + 연구 대상인 모집단의 특성(모수)에 대해 세운 가설\n",
    "  + 기존에 알려진 사실에 기반하지만, 아직 통계적으로 검증되지 않은 설명이나 주장\n",
    "  + 귀무가설(null hypothesis; $H_0$)\n",
    "    + 일반적으로 현재의 상태가 유지되거나, 변화가 없음을 나타냄(효과 없음, 차이 없음)\n",
    "    + 수식에서는 = 기호로 표현됨\n",
    "    + 예: A약과 B약의 효과는 차이가 없다 ($H_0: \\mu_A = \\mu_B$)\n",
    "  + 대립가설(alternative hypothesis; $H_1$)\n",
    "    + 연구자가 입증하고자 하는 가설(효과 있음, 차이 있음)\n",
    "    + 수식에서는 >, <, ≠ 기호로 표현됨\n",
    "    + 예: A약이 B약보다 효과가 좋다 ($H_1: \\mu_A > \\mu_B$)\n",
    "\n",
    "<br>"
   ]
  },
  {
   "cell_type": "markdown",
   "id": "db236b03-4d9a-4e7d-9f12-6d30c5e6da63",
   "metadata": {},
   "source": [
    "+ 통계적 가설 검정(statistical hypothesis test)\n",
    "  + **귀무가설이 참이라고 가정**할 때, 수집된 데이터가 귀무가설과 얼마나 일치하는지를 검정하는 과정\n",
    "  + 데이터가 귀무가설과 일치하지 않을수록, 대립가설을 지지하는 통계적 근거가 강하다고 판단 → 귀무가설 기각(reject $H_0$)\n",
    "  + (예) 형사 재판에서 피고인 A씨는 무죄일까? 유죄일까?\n",
    "    + 자백을 하지 않는 한 실제로 범죄를 저질렀는지는 알 수 없다. 증거(데이터)를 통해 무죄인지 유죄인지 판단하자(가설검증).\n",
    "    + 모수(실제 범죄행위 여부)에 대한 두 가지 주장 → 이 중 무엇이 귀무가설? 대립가설?\n",
    "      1. A씨는 실제로 범죄를 저지르지 않았다(무죄)\n",
    "      2. A씨는 실제로 범죄를 저질렀다(유죄)\n",
    "    + 대한민국 헌법 제27조 제4항 - 형사피고인은 유죄의 판결이 확정될 때까지 무죄로 추정된다.\n",
    "      + 귀무가설 $H_0$ : 실제로 범죄를 저지르지 않았다(무죄)\n",
    "      + 대립가설 $H_1$ : 실제로 범죄를 저질렀다(유죄)\n",
    "    + <u>무죄를 가정하고 살펴봤을 때, 범죄의 증거가 충분하다면 유죄로 판결함</u>\n",
    "      + \"`무죄를 가정` = `귀무가설이 참이라고 가정`\"하고 살펴봤을 때,\n",
    "      + \"`범죄의 증거` = `무죄가 아니라는 증거` = `귀무가설과 일치하지 않는 증거`\"가 충분하다면\n",
    "      + \"`유죄로 판결함` = `귀무가설을 기각함`\"\n",
    "  + **\"귀무가설을 기각하지 않는다\"** 의 의미\n",
    "    + 귀무가설이 반드시 참이라는 뜻이 아니며, 단지 귀무가설을 유지하는 상태임\n",
    "    + 즉 수집된 데이터로는 귀무가설이 틀렸다고 판단할 충분한 증거가 없다는 의미\n",
    "\n",
    "<br>"
   ]
  },
  {
   "cell_type": "markdown",
   "id": "7f8b0fce-098e-4f78-a1e4-937bb43015cc",
   "metadata": {},
   "source": [
    "+ 통계적 가설 검정 절차\n",
    "  1. 가설 설정\n",
    "  2. 유의수준 α 결정\n",
    "     + 귀무가설이 참인데도 불구하고 이를 잘못 기각하는 최대 허용 확률\n",
    "     + 일반적으로 1%, **5%**, 10%를 사용함\n",
    "  3. p-value 계산\n",
    "     + 귀무가설이 참일 때, 관측된 데이터보다 극단적인 데이터가 나올 확률\n",
    "     + p-value가 작을수록 데이터가 귀무가설과 일치하지 않는다는 의미\n",
    "  4. 가설 검정 및 의사결정\n",
    "     + **`p-value < α`** : 귀무가설 기각(**통계적으로 유의하다; statistical significant**)\n",
    "     + 가설 검정 결과는 최종적인 의사결정(정책 수립, 제품 출시, 실험 중단 등)의 근거로 활용함\n",
    "\n",
    "<br>"
   ]
  },
  {
   "cell_type": "markdown",
   "id": "a5a330ac-d4a6-46bf-ba0a-da2824844d5b",
   "metadata": {},
   "source": [
    "## 8.2. t-test\n",
    "+ 두 집단의 평균 차이를 비교하는 데 사용되는 통계적 검정 방법\n",
    "+ 전제 조건\n",
    "  + 정규성 가정 : 각 집단의 데이터가 정규분포를 따른다고 가정함\n",
    "  + 등분산성 가정 : 두 집단의 분산이 같다고 가정함\n",
    "+ 가설 형태\n",
    "  + 귀무가설 $H_0$ : 집단1과 집단2의 평균은 같다\n",
    "  + 대립가설 $H_1$ : 집단1과 집단2의 평균은 같지 않다(양측검정), 집단1이 집단2보다 평균이 더 크다/작다(단측검정)\n",
    "\n",
    "<br>\n",
    "\n",
    "|구분|설명|\n",
    "|:------:|:------------------|\n",
    "|독립표본 t-test|- 서로 독립된 두 집단의 평균 비교 <br>- (예) 성별에 따른 시험 점수 비교|\n",
    "|대응표본 t-test|- 짝지은 두 집단의 평균 비교 <br>- (예) 운동 전과 후의 체중 변화, 일란성 쌍둥이의 책임감 비교|\n",
    "\n",
    "<br>"
   ]
  },
  {
   "cell_type": "code",
   "execution_count": null,
   "id": "fefd4e04-8e6a-4ac9-ba22-de4968a4742f",
   "metadata": {},
   "outputs": [],
   "source": [
    "import numpy as np\n",
    "import pandas as pd"
   ]
  },
  {
   "cell_type": "code",
   "execution_count": null,
   "id": "275d0a64-afb7-41ef-a29f-6353dff54231",
   "metadata": {},
   "outputs": [],
   "source": [
    "## 실습 데이터 : penguins 데이터셋\n",
    "import seaborn as sns\n",
    "penguins = sns.load_dataset('penguins')"
   ]
  },
  {
   "cell_type": "code",
   "execution_count": null,
   "id": "4ae62b3c-b36e-4281-ad0f-e02c6a78d7e0",
   "metadata": {},
   "outputs": [],
   "source": [
    "# species: 펭귄 종(Adelie, Chinstrap, Gentoo)\n",
    "# island: 서식하는 섬(Torgersen, Biscoe, Dream)\n",
    "# bill_length_mm: 부리 길이(mm)\n",
    "# bill_depth_mm: 부리 깊이(mm)\n",
    "# flipper_length_mm: 지느러미 길이(mm)\n",
    "# body_mass_g: 체질량(g)\n",
    "# sex: 성별(Male, Female)\n",
    "penguins.info()"
   ]
  },
  {
   "cell_type": "code",
   "execution_count": null,
   "id": "7108422a-8ac8-4360-8a02-90c821060de9",
   "metadata": {},
   "outputs": [],
   "source": [
    "## 독립표본 t-test : Adelie와 Chinstrap의 평균 부리 길이(bill_length_mm) 비교\n",
    "## 방법1 : scipy 사용\n",
    "from scipy.stats import ttest_ind, shapiro, levene\n",
    "\n",
    "# 1. 두 집단 데이터 (결측치 제거)\n",
    "bill_length1 = penguins[penguins['species'] == 'Adelie']['bill_length_mm'].dropna()\n",
    "bill_length2 = penguins[penguins['species'] == 'Chinstrap']['bill_length_mm'].dropna()\n",
    "\n",
    "# 2. 정규성 검정\n",
    "stat1, p1 = shapiro(bill_length1)\n",
    "stat2, p2 = shapiro(bill_length2)\n",
    "print('[Shapiro-Wilk test]')\n",
    "print(f'Adelie:    W={stat1:.3f}, p-value={p1:.3f}')\n",
    "print(f'Chinstrap: W={stat2:.3f}, p-value={p2:.3f}\\n')"
   ]
  },
  {
   "cell_type": "code",
   "execution_count": null,
   "id": "c4197af1-7e98-44e3-814c-e27f09011f6c",
   "metadata": {},
   "outputs": [],
   "source": [
    "# 3. 등분산성 검정\n",
    "stat3, p3 = levene(bill_length1, bill_length1)\n",
    "print(\"[Levene's test]\")\n",
    "print(f'F={stat3:.3f}, p-value={p3:.3f}\\n')"
   ]
  },
  {
   "cell_type": "code",
   "execution_count": null,
   "id": "787b73ed-ab74-4d35-a543-6dce408fc6da",
   "metadata": {},
   "outputs": [],
   "source": [
    "# 4. 독립표본 t-test\n",
    "t_stat, p_val = ttest_ind(bill_length1, bill_length2, equal_var=True)\n",
    "print(f'[Independent t-test]')\n",
    "print(f't={t_stat:.3f}, p-value={p_val:.3f}')"
   ]
  },
  {
   "cell_type": "code",
   "execution_count": null,
   "id": "a728307e-a3d4-42a3-83c2-0fc6dcea22f1",
   "metadata": {},
   "outputs": [],
   "source": [
    "## 독립표본 t-test : Adelie와 Chinstrap의 평균 부리 길이(bill_length_mm) 비교\n",
    "## 방법2 : statsmodels 사용\n",
    "from statsmodels.formula.api import ols\n",
    "\n",
    "# 독립표본 t-test\n",
    "penguins2 = penguins[penguins['species']!='Gentoo']\n",
    "model = ols('bill_length_mm ~ C(species)', data=penguins2).fit()\n",
    "print(model.summary())"
   ]
  },
  {
   "cell_type": "code",
   "execution_count": null,
   "id": "2ccf80d0-10a7-42c1-a5f6-da6806246aac",
   "metadata": {},
   "outputs": [],
   "source": [
    "## 대응표본 t-test : 학습 프로그램 참여 전후 평균 시험 점수 비교\n",
    "from scipy.stats import ttest_rel, shapiro, levene\n",
    "\n",
    "# 1. 학습 프로그램 참여 전후 시험 점수 데이터\n",
    "pre_scores = [68, 74, 71, 69, 75, 65, 72, 78, 70, 73, 67, 76, 74, 71, 69, 68, 77, 72, 70, 74]\n",
    "post_scores = [72, 78, 75, 74, 80, 68, 75, 83, 75, 77, 70, 80, 78, 75, 73, 72, 82, 76, 74, 78]\n",
    "df = pd.DataFrame({'pre': pre_scores, 'post': post_scores})\n",
    "\n",
    "# 2. 정규성 검정\n",
    "stat1, p1 = shapiro(pre_scores)\n",
    "stat2, p2 = shapiro(post_scores)\n",
    "print('[Shapiro-Wilk test]')\n",
    "print(f'Pre_scores:  W={stat1:.3f}, p-value={p1:.3f}')\n",
    "print(f'Post_scores: W={stat2:.3f}, p-value={p2:.3f}\\n')"
   ]
  },
  {
   "cell_type": "code",
   "execution_count": null,
   "id": "785c9556-f567-4131-865f-8a9ca6916f08",
   "metadata": {},
   "outputs": [],
   "source": [
    "# 3. 대응표본 t-test\n",
    "t_stat, p_val = ttest_rel(pre_scores, post_scores)\n",
    "print(f'[Paired t-test]')\n",
    "print(f't={t_stat:.3f}, p-value={p_val:.3f}')"
   ]
  },
  {
   "cell_type": "markdown",
   "id": "17175b34-41cb-4d3b-aefa-f69b80c5b6a4",
   "metadata": {},
   "source": [
    "<br>\n",
    "\n",
    "## 8.4. ANOVA\n",
    "+ 여러 집단의 평균 차이를 비교하는 데 사용되는 통계적 검정 방법\n",
    "+ 전제 조건\n",
    "  + 정규성 가정 : 각 집단의 데이터가 정규분포를 따른다고 가정함\n",
    "  + 등분산성 가정 : 모든 집단의 분산이 동일하다고 가정함\n",
    "  + 독립성 가정 : 각 집단의 데이터는 서로 독립적이어야 함\n",
    "+ 가설 형태\n",
    "  + 귀무가설 $H_0$ : 모든 집단의 평균은 같다\n",
    "  + 대립가설 $H_1$ : 적어도 하나의 집단 평균은 다르다\n",
    "+ 사후 검정(Post-hoc test)\n",
    "  + ANOVA 결과에서 유의한 경우, 어떤 집단 간에 차이가 있는지를 확인하기 위해 추가 분석을 수행해야 함\n",
    "  + 대표적인 방법으로는 Tukey HSD, Bonferroni 등이 있음\n",
    "\n",
    "<br>"
   ]
  },
  {
   "cell_type": "code",
   "execution_count": null,
   "id": "91125f46-47a2-47be-9c1c-1df0999a3e5d",
   "metadata": {},
   "outputs": [],
   "source": [
    "## One-way ANOVA : 암컷 펭귄의 종에 따른 평균 체질량 비교\n",
    "## 방법1 : scipy 사용\n",
    "from scipy.stats import f_oneway\n",
    "from statsmodels.stats.multicomp import pairwise_tukeyhsd\n",
    "\n",
    "# 1. 세 집단 데이터 (결측치 제거)\n",
    "female = penguins[penguins['sex']=='Female']\n",
    "body_mass1 = female[female['species'] == 'Adelie']['body_mass_g'].dropna()\n",
    "body_mass2 = female[female['species'] == 'Chinstrap']['body_mass_g'].dropna()\n",
    "body_mass3 = female[female['species'] == 'Gentoo']['body_mass_g'].dropna()\n",
    "\n",
    "# 2. 정규성 검정\n",
    "stat1, p1 = shapiro(body_mass1)\n",
    "stat2, p2 = shapiro(body_mass2)\n",
    "stat3, p3 = shapiro(body_mass3)\n",
    "print('[Shapiro-Wilk test]')\n",
    "print(f'Adelie:    W={stat1:.3f}, p-value={p1:.3f}')\n",
    "print(f'Chinstrap: W={stat2:.3f}, p-value={p2:.3f}')\n",
    "print(f'Gentoo:    W={stat3:.3f}, p-value={p3:.3f}\\n')"
   ]
  },
  {
   "cell_type": "code",
   "execution_count": null,
   "id": "0cb5264f-d8b6-498d-99cf-ff0e77b1da60",
   "metadata": {},
   "outputs": [],
   "source": [
    "# 3. 등분산성 검정\n",
    "stat3, p3 = levene(body_mass1, body_mass2, body_mass3)\n",
    "print(\"[Levene's test]\")\n",
    "print(f'F={stat3:.3f}, p-value={p3:.3f}\\n')"
   ]
  },
  {
   "cell_type": "code",
   "execution_count": null,
   "id": "bc3e68a0-5a27-4838-b902-52fe9972006f",
   "metadata": {},
   "outputs": [],
   "source": [
    "# 4. 일원분산분석\n",
    "F, p_value = f_oneway(body_mass1, body_mass2, body_mass3)\n",
    "print(f'[One-way ANOVA]')\n",
    "print(f'F={F:.3f}, p-value={p_value:.3f}\\n\\n')"
   ]
  },
  {
   "cell_type": "code",
   "execution_count": null,
   "id": "9f13d52b-73b3-42bc-9c93-ceee67eee752",
   "metadata": {},
   "outputs": [],
   "source": [
    "# 5. 사후 검정 : Tukey HSD 방법 사용\n",
    "tukey = pairwise_tukeyhsd(endog=female['body_mass_g'], groups=female['species'], alpha=0.05)\n",
    "print(tukey.summary())"
   ]
  },
  {
   "cell_type": "code",
   "execution_count": null,
   "id": "5125fa30-34f0-4a25-8c81-ae1763362529",
   "metadata": {},
   "outputs": [],
   "source": [
    "## One-way ANOVA : 암컷 펭귄의 종에 따른 평균 체질량 비교\n",
    "## 방법2 : statsmodels 사용\n",
    "import statsmodels.api as sm\n",
    "\n",
    "# 4. 일원분산분석\n",
    "model = ols('body_mass_g ~ C(species)', data=female).fit()\n",
    "anova_table = sm.stats.anova_lm(model, typ=2)\n",
    "print(anova_table)"
   ]
  },
  {
   "cell_type": "markdown",
   "id": "6016731c-ab69-4592-8ed8-3962f28a7fc7",
   "metadata": {},
   "source": [
    "<br>\n",
    "\n",
    "## 8.5. 회귀분석\n",
    "+ 하나 이상의 독립변수(x)가 종속변수(y)에 미치는 영향력의 크기를 수학적 관계식(모형)으로 추정하는 통계적 검정 방법\n",
    "  + 독립변수(independent variable) : 다른 변수의 변화를 일으키는 변수\n",
    "  + 종속변수(dependent variable) : 다른 변수의 영향으로 변화하는 변수\n",
    "+ 독립변수가 종속변수에 미치는 영향이 통계적으로 유의한지 검정하고, 이를 바탕으로 새로운 독립변수 값에 대한 종속변수의 값을 예측함\n",
    "+ 독립변수 개수에 따른 구분\n",
    "  + 단순선형 회귀분석\n",
    "    + 독립변수가 1개인 경우\n",
    "    + 모형 : $y = \\beta_0 + \\beta_1x + \\epsilon$\n",
    "  + 다중선형 회귀분석\n",
    "    + 독립변수가 2개 이상인 경우\n",
    "    + 모형 : $y = \\beta_0 + \\beta_1x_1 + \\beta_2x_2 + \\cdots + \\beta_p x_p + \\epsilon$\n",
    "+ 일반적으로 최소제곱추정법(OLS)을 통해 주어진 데이터에 가장 적합한 회귀선을 구함\n",
    "  $$\\hat{y} = b_0 + b_1x$$\n",
    "  $$\\hat{y} = b_0 + b_1x+ b_2x_2 + \\cdots + b_p x_p$$\n",
    "+ 잔차(residual) : 관측값과 예측값의 차이, $y-\\hat{y}$\n",
    "+ 결정계수($R^2$)\n",
    "  + 회귀모형이 데이터를 얼마나 잘 설명하는지 나타내는 지표\n",
    "  + 0에서 1 사이의 값을 가지며, 1에 가까울수록 회귀모형의 설명력이 높음\n",
    "\n",
    "<br>\n",
    "\n",
    "![](./images/fig8-1.jpg)\n",
    "\n",
    "<br>"
   ]
  },
  {
   "cell_type": "code",
   "execution_count": null,
   "id": "23647af3-f5f6-4a73-8f3f-077271e5da65",
   "metadata": {},
   "outputs": [],
   "source": [
    "## 다중선형 회귀분석 : 펭귄의 체질량에 영향을 미치는 요인\n",
    "from scipy.stats import pearsonr\n",
    "\n",
    "# 1. 결측치 제거\n",
    "penguins_df = penguins.dropna(axis=0)\n",
    "\n",
    "# 2. 상관계수\n",
    "print(penguins_df.select_dtypes(include='number').corr())"
   ]
  },
  {
   "cell_type": "code",
   "execution_count": null,
   "id": "267df1ce-4a50-4d7d-b47c-56a864dc6682",
   "metadata": {},
   "outputs": [],
   "source": [
    "# [참고] 상관분석\n",
    "r, p_value = pearsonr(penguins_df['bill_length_mm'], penguins_df['bill_depth_mm'])\n",
    "print(f'\\n[Pearson Correlation between bill length and bill depth]')\n",
    "print(f'r={r:.3f}, p-value={p_value:.3f}\\n\\n')"
   ]
  },
  {
   "cell_type": "code",
   "execution_count": null,
   "id": "a13ab623-fa63-4f3e-97f6-b2e1c9d2c50b",
   "metadata": {},
   "outputs": [],
   "source": [
    "# 3. 다중선형 회귀분석\n",
    "model = ols('body_mass_g ~ C(species) + C(island) + C(sex) + bill_length_mm + bill_depth_mm + flipper_length_mm', data=penguins_df).fit()\n",
    "print(model.summary())"
   ]
  }
 ],
 "metadata": {
  "kernelspec": {
   "display_name": "Python 3 (ipykernel)",
   "language": "python",
   "name": "python3"
  },
  "language_info": {
   "codemirror_mode": {
    "name": "ipython",
    "version": 3
   },
   "file_extension": ".py",
   "mimetype": "text/x-python",
   "name": "python",
   "nbconvert_exporter": "python",
   "pygments_lexer": "ipython3",
   "version": "3.9.21"
  }
 },
 "nbformat": 4,
 "nbformat_minor": 5
}
