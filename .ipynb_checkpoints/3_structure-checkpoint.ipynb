{
 "cells": [
  {
   "cell_type": "markdown",
   "id": "45af432c-3e27-4099-ab9e-c87e087fc9d1",
   "metadata": {},
   "source": [
    "<h1>3. 자료구조</h1>\n",
    "<br>"
   ]
  },
  {
   "cell_type": "markdown",
   "id": "d52a2f5f-b693-415a-95f0-ef7efbb1dbd9",
   "metadata": {},
   "source": [
    "## 3.1. 자료구조\n",
    "### 3.1.1. 자료구조의 중요성\n",
    "+ 자료구조(data structure)\n",
    "  + 데이터를 효율적으로 저장하고 접근하기 위한 구조적 방식\n",
    " \n",
    "<br>\n",
    "\n",
    "+ 자료구조의 중요성\n",
    "  + 데이터 저장과 검색 효율화 : (예) 빠른 검색이 필요한 경우 딕셔너리 사용\n",
    "  + 연산 속도 최적화 : (예) 중복을 제거하는 경우 리스트보다 세트가 효율적임\n",
    "  + 메모리 사용 절약 : (예) 불변형 객체를 다룰 때는 리스트 대신 튜플 사용\n",
    "  + 코드 가독성 및 유지보수성 향상\n",
    "\n",
    "<br>\n",
    "\n",
    "### 3.1.2. Python 자료구조\n",
    "+ 대표적인 자료구조에는 리스트(list), 튜플(tuple), 세트(set), 딕셔너리(dictionary)가 있음\n",
    "\n",
    "|자료구조|설명|\n",
    "|:---:|:------------|\n",
    "|리스트(list)|여러 개의 값을 저장할 수 있는 순차적인 자료구조|\n",
    "|튜플(tuple)|리스트와 같지만 데이터의 변경을 허용하지 않는 자료구조|\n",
    "|세트(set)|데이터의 중복을 허용하지 않고, 수학의 집합 연산을 지원하는 자료구조|\n",
    "|딕셔너리(dictionary)|키(key)와 값(value)의 형태로 데이터를 저장하는 자료구조|\n",
    "\n",
    "<br>\n",
    "\n",
    "+ 자료구조 비교\n",
    "\n",
    "|자료구조|순서 유지|변경 가능|중복 허용|특징|\n",
    "|:------:|:---:|:---:|:---:|:------------------|\n",
    "|리스트(list)|○|○|○|가장 기본적인 자료구조, 인덱스로 접근|\n",
    "|튜플(tuple)|○|×|○|리스트와 유사하지만 불변형(immutable)|\n",
    "|세트(set)|×|○|×|중복 제거, 수학적 집합 연산 가능|\n",
    "|딕셔너리(dictionary)|○|○|△|키-값(key-value) 형태로 저장|\n",
    "\n",
    "<br>"
   ]
  },
  {
   "cell_type": "markdown",
   "id": "c7107259-a0fc-4e7c-8777-f5be18d78a8a",
   "metadata": {},
   "source": [
    "<br>\n",
    "\n",
    "## 3.2. 리스트\n",
    "### 3.2.1. 리스트 생성\n",
    "+ 리스트(list)\n",
    "  + 여러 개의 값을 저장할 수 있는 컬렉션 자료형(collection data type)\n",
    "  + 순서가 존재하는 시퀀스 자료형(sequence data type)\n",
    "  + 한 번 생성된 이후에도 수정할 수 있는 가변형(mutable) 객체\n",
    "  + 정수, 부동소수점수, 문자열, bool, 리스트, 튜플, 딕셔너리 등 다양한 자료형을 저장할 수 있는 컨테이너형 객체\n",
    "\n",
    "<br>\n",
    "\n",
    "+ 리스트 생성\n",
    "  + 리터럴 방식(list literal)\n",
    "    + `[]` 사용하여 리스트를 직접 정의하는 방법\n",
    "    + `[]` 안에 원소(element)를 `,`로 구분하여 나열함\n",
    "  + 생성자 방식(list constructor)\n",
    "    + `list()` 함수를 사용하여 리스트를 생성하는 방법\n",
    "    + 다른 iterable 객체(리스트, 튜플, 세트, 딕셔너리, 문자열 등)을 인수로 받아 리스트를 생성할 때 유용함\n",
    "\n",
    "<br>"
   ]
  },
  {
   "cell_type": "code",
   "execution_count": 1,
   "id": "01bc35fc-c1c8-4cb1-84a9-5c346f795033",
   "metadata": {},
   "outputs": [
    {
     "name": "stdout",
     "output_type": "stream",
     "text": [
      "[1, 2, 3, 4, 5]\n"
     ]
    }
   ],
   "source": [
    "# 리스트 생성1\n",
    "lst = [1, 2, 3, 4, 5]\n",
    "print(lst)"
   ]
  },
  {
   "cell_type": "code",
   "execution_count": 2,
   "id": "087ccc92-3bf2-4f45-9e4f-8826de446c13",
   "metadata": {},
   "outputs": [
    {
     "name": "stdout",
     "output_type": "stream",
     "text": [
      "[1, 2, 3, 4, 5]\n"
     ]
    }
   ],
   "source": [
    "# 리스트 생성2\n",
    "lst = list([1, 2, 3, 4, 5])\n",
    "print(lst)"
   ]
  },
  {
   "cell_type": "code",
   "execution_count": 3,
   "id": "4dc4f8b2-5fb6-46ef-ab6f-ad5388385852",
   "metadata": {},
   "outputs": [
    {
     "name": "stdout",
     "output_type": "stream",
     "text": [
      "[1, 3.14, 'Hello', True, [11, 12, 13]]\n"
     ]
    }
   ],
   "source": [
    "# 리스트 생성3 : 리스트는 다양한 자료형을 저장할 수 있음\n",
    "lst = [1, 3.14, \"Hello\", True, [11, 12, 13]]\n",
    "print(lst)"
   ]
  },
  {
   "cell_type": "code",
   "execution_count": 4,
   "id": "5610cf21-7991-4e96-a295-89d1b81c9629",
   "metadata": {},
   "outputs": [
    {
     "name": "stdout",
     "output_type": "stream",
     "text": [
      "['H', 'e', 'l', 'l', 'o']\n"
     ]
    }
   ],
   "source": [
    "# 리스트 생성4 : iterable 객체 사용\n",
    "lst = list(\"Hello\")\n",
    "print(lst)"
   ]
  },
  {
   "cell_type": "code",
   "execution_count": 5,
   "id": "fc853db3-0182-4a3f-b3ef-46a5939153c7",
   "metadata": {},
   "outputs": [
    {
     "name": "stdout",
     "output_type": "stream",
     "text": [
      "[0, 1, 2, 3, 4, 5, 6, 7, 8, 9]\n"
     ]
    }
   ],
   "source": [
    "# 리스트 생성5 : iterable 객체 사용\n",
    "lst = list(range(10))\n",
    "print(lst)"
   ]
  },
  {
   "cell_type": "markdown",
   "id": "c5ca6531-30f9-4278-b227-cf9198d162b9",
   "metadata": {},
   "source": [
    "<br>\n",
    "\n",
    "### 3.2.2. 리스트 연산\n",
    "+ 리스트 연결 연산자 `+` : 두 리스트를 연결해서 새로운 리스트 생성\n",
    "+ 리스트 반복 연산자 `*` : 리스트를 숫자만큼 반복하여 새로운 리스트 생성 - (예) 리스트\\*숫자\n",
    "\n",
    "<br>"
   ]
  },
  {
   "cell_type": "code",
   "execution_count": 6,
   "id": "75810b14-02d3-432a-8077-cc5b0a25c0e3",
   "metadata": {},
   "outputs": [
    {
     "name": "stdout",
     "output_type": "stream",
     "text": [
      "[1, 2, 3, 11, 12, 13]\n"
     ]
    }
   ],
   "source": [
    "# 리스트 연결\n",
    "lst1 = [1, 2, 3]\n",
    "lst2 = [11, 12, 13]\n",
    "print(lst1 + lst2)"
   ]
  },
  {
   "cell_type": "code",
   "execution_count": 7,
   "id": "e8b96575-6038-47ef-aae2-8e27e7227f4f",
   "metadata": {},
   "outputs": [
    {
     "name": "stdout",
     "output_type": "stream",
     "text": [
      "[1, 2, 3, 1, 2, 3, 1, 2, 3]\n"
     ]
    }
   ],
   "source": [
    "# 리스트 반복\n",
    "print(lst1 * 3)"
   ]
  },
  {
   "cell_type": "markdown",
   "id": "c6e1ade0-2c02-4e44-877a-20907a2ca67a",
   "metadata": {},
   "source": [
    "<br>\n",
    "\n",
    "### 3.2.3. 인덱싱과 슬라이싱\n",
    "+ 인덱싱(indexing) : `[index]`를 사용하여 리스트의 특정 위치에 있는 원소에 접근함\n",
    "+ 슬라이싱(slicing) : `[(start index):(stop index)]`를 사용하여 리스트의 일부 원소를 추출함\n",
    "  + `list[(start index):(end index)] = iterable`를 사용하면 `start:end`로 지정한 부분이 iterable 객체의 모든 원소로 대체됨\n",
    "  + 슬라이싱을 이용하여 기존 리스트의 일부를 삭제하거나, 새로운 원소를 추가 및 변경할 수 있음\n",
    "\n",
    "<br>\n",
    "\n",
    "![](./images/fig3-2.png){width=60%}\n",
    "\n",
    "<br>"
   ]
  },
  {
   "cell_type": "code",
   "execution_count": 8,
   "id": "729683a6-fe3c-4c62-b296-f8ccf7fc4f2c",
   "metadata": {},
   "outputs": [
    {
     "name": "stdout",
     "output_type": "stream",
     "text": [
      "10\n"
     ]
    }
   ],
   "source": [
    "# 리스트 인덱싱1\n",
    "lst = [10, 20, 30, 40, 50]\n",
    "print(lst[0])"
   ]
  },
  {
   "cell_type": "code",
   "execution_count": 9,
   "id": "0dd7acb6-3a94-4424-8dde-2f1cb8e7d84f",
   "metadata": {},
   "outputs": [
    {
     "name": "stdout",
     "output_type": "stream",
     "text": [
      "50\n"
     ]
    }
   ],
   "source": [
    "# 리스트 인덱싱2\n",
    "lst = [10, 20, 30, 40, 50]\n",
    "print(lst[-1])"
   ]
  },
  {
   "cell_type": "code",
   "execution_count": 10,
   "id": "75141fd8-899b-4e24-93aa-e78761616f02",
   "metadata": {},
   "outputs": [
    {
     "name": "stdout",
     "output_type": "stream",
     "text": [
      "Hello\n",
      "H\n"
     ]
    }
   ],
   "source": [
    "# 리스트 접근 연산자 []를 이중으로 사용할 수 있음\n",
    "lst = [1, 3.14, \"Hello\", True, [11, 12, 13]]\n",
    "print(lst[2])\n",
    "print(lst[2][0])"
   ]
  },
  {
   "cell_type": "code",
   "execution_count": 11,
   "id": "faec7210-e238-4693-8321-302e31d712d8",
   "metadata": {},
   "outputs": [
    {
     "name": "stdout",
     "output_type": "stream",
     "text": [
      "[10, 20]\n"
     ]
    }
   ],
   "source": [
    "# 리스트 슬라이싱1\n",
    "lst = [10, 20, 30, 40, 50]\n",
    "print(lst[0:2])"
   ]
  },
  {
   "cell_type": "code",
   "execution_count": 12,
   "id": "f442c703-8e8d-436a-a1ee-700982e5664a",
   "metadata": {},
   "outputs": [
    {
     "name": "stdout",
     "output_type": "stream",
     "text": [
      "[10, 20]\n",
      "[30, 40, 50]\n",
      "[10, 30, 50]\n"
     ]
    }
   ],
   "source": [
    "# 리스트 슬라이싱2\n",
    "lst = [10, 20, 30, 40, 50]\n",
    "print(lst[:2])\n",
    "print(lst[2:])\n",
    "print(lst[::2])"
   ]
  },
  {
   "cell_type": "code",
   "execution_count": 13,
   "id": "fd7363c2-7ac8-41d2-8a30-0d43af11aaef",
   "metadata": {},
   "outputs": [
    {
     "name": "stdout",
     "output_type": "stream",
     "text": [
      "[10, 20, 3, 40, 50]\n"
     ]
    }
   ],
   "source": [
    "# 리스트는 가변형 객체이므로 인덱스를 이용한 수정이 가능함\n",
    "lst = [10, 20, 30, 40, 50]\n",
    "lst[2] = 3\n",
    "print(lst)"
   ]
  },
  {
   "cell_type": "code",
   "execution_count": 14,
   "id": "ed428017-a0b1-43d0-ad8a-c0d49b5faf3a",
   "metadata": {},
   "outputs": [
    {
     "name": "stdout",
     "output_type": "stream",
     "text": [
      "[10, 50]\n"
     ]
    }
   ],
   "source": [
    "# 슬라이싱을 이용한 원소 삭제\n",
    "lst = [10, 20, 30, 40, 50]\n",
    "lst[1:4] = []                              # 빈 리스트를 할당하면 해당 부분이 삭제됨\n",
    "print(lst)"
   ]
  },
  {
   "cell_type": "code",
   "execution_count": 15,
   "id": "e01f710e-c9ae-45bd-a524-d48251860687",
   "metadata": {},
   "outputs": [
    {
     "name": "stdout",
     "output_type": "stream",
     "text": [
      "[10, 6, 7, 20, 30, 40, 50]\n"
     ]
    }
   ],
   "source": [
    "# 슬라이싱을 이용한 원소 추가\n",
    "lst = [10, 20, 30, 40, 50]\n",
    "lst[1:1] = [6, 7]                          # 인덱스 1 위치에 [6, 7]의 원소를 개별적으로 추가\n",
    "print(lst)"
   ]
  },
  {
   "cell_type": "code",
   "execution_count": 16,
   "id": "f9ad3a0f-35d2-4f43-a4c5-4977cf215126",
   "metadata": {},
   "outputs": [
    {
     "name": "stdout",
     "output_type": "stream",
     "text": [
      "[10, 6, 7, 8, 40, 50]\n"
     ]
    }
   ],
   "source": [
    "# 슬라이싱을 이용한 원소 수정\n",
    "lst = [10, 20, 30, 40, 50]\n",
    "lst[1:3] = [6, 7, 8]                       # 인덱스 1~2 부분을 [6, 7, 8]로 수정\n",
    "print(lst)"
   ]
  },
  {
   "cell_type": "markdown",
   "id": "04aa0a3f-efd9-43b0-a5de-ccabf6b5c82f",
   "metadata": {},
   "source": [
    "<br>\n",
    "\n",
    "### 3.2.4. 중첩 리스트\n",
    "+ 리스트 안에 또 다른 리스트가 포함된 구조\n",
    "+ 2차원 리스트\n",
    "  + 모든 내부 리스트가 동일한 길이를 가진 경우\n",
    "  + 일반적으로 행(row)과 열(column)로 이루어짐\n",
    "  + 행렬(matrix)처럼 활용하거나, 데이터를 일정한 구조로 관리할 때 유용함\n",
    "\n",
    "<br>"
   ]
  },
  {
   "cell_type": "code",
   "execution_count": 17,
   "id": "270358d5-c7ab-4915-8f2c-63c22d2c22a2",
   "metadata": {},
   "outputs": [
    {
     "name": "stdout",
     "output_type": "stream",
     "text": [
      "[[1, 2, 3], [4, 5, 6, 7], [8, 9]]\n"
     ]
    }
   ],
   "source": [
    "# 중첩 리스트\n",
    "nested_lst = [\n",
    "    [1, 2, 3],\n",
    "    [4, 5, 6, 7],\n",
    "    [8, 9]\n",
    "]\n",
    "\n",
    "print(nested_lst)"
   ]
  },
  {
   "cell_type": "code",
   "execution_count": 18,
   "id": "9d85341f-7e5a-4cb4-a406-f238fac9d5e8",
   "metadata": {},
   "outputs": [
    {
     "name": "stdout",
     "output_type": "stream",
     "text": [
      "1\n",
      "2\n",
      "3\n",
      "4\n",
      "5\n",
      "6\n",
      "7\n",
      "8\n",
      "9\n"
     ]
    }
   ],
   "source": [
    "for items in nested_lst:\n",
    "    for item in items:\n",
    "        print(item)"
   ]
  },
  {
   "cell_type": "code",
   "execution_count": 19,
   "id": "6550e926-e552-4aa8-8c0d-d66c3fa7d636",
   "metadata": {},
   "outputs": [
    {
     "name": "stdout",
     "output_type": "stream",
     "text": [
      "[[80, 82, 75, 95], [67, 95, 84, 83], [74, 88, 82, 76]]\n"
     ]
    }
   ],
   "source": [
    "# 2차원 리스트\n",
    "kor = [80, 82, 75, 95]\n",
    "eng = [67, 95, 84, 83]\n",
    "math = [74, 88, 82, 76]\n",
    "midterm = [kor, eng, math]\n",
    "print(midterm)"
   ]
  },
  {
   "cell_type": "code",
   "execution_count": 20,
   "id": "bb56e2e9-b452-4958-b3bc-1b714db4e3dd",
   "metadata": {},
   "outputs": [
    {
     "data": {
      "text/plain": [
       "95"
      ]
     },
     "execution_count": 20,
     "metadata": {},
     "output_type": "execute_result"
    }
   ],
   "source": [
    "# 2차원 리스트 인덱싱\n",
    "midterm[0][3]"
   ]
  },
  {
   "cell_type": "markdown",
   "id": "d00e6def-3240-4b80-b31d-3a2cb555dea8",
   "metadata": {},
   "source": [
    "<br>\n",
    "\n",
    "### 3.2.5. 리스트 메소드\n",
    "#### 3.2.5.1. 리스트 추가\n",
    "|함수|설명|\n",
    "|:---:|:------------|\n",
    "|append()|- 새로운 값을 기존 리스트의 맨 끝에 추가|\n",
    "|extend()|- 새로운 리스트를 기존 리스트에 추가(덧셈 연산과 같은 효과)|\n",
    "|insert()|- 기존 리스트의 i번째 인덱스에 새로운 값을 추가 <br>- i번째 인덱스를 기준으로 뒤쪽의 인덱스는 하나씩 밀림|\n",
    "\n",
    "<br>"
   ]
  },
  {
   "cell_type": "code",
   "execution_count": 21,
   "id": "d2c2157f-a1e3-404e-8e1f-905deae14b50",
   "metadata": {},
   "outputs": [
    {
     "name": "stdout",
     "output_type": "stream",
     "text": [
      "[1, 2, 3, 4]\n"
     ]
    }
   ],
   "source": [
    "# 리스트에 한 개의 원소 추가1\n",
    "lst = [1, 2, 3]\n",
    "lst.append(4)                              # 실행 결과로 아무것도 출력하지 않음\n",
    "print(lst)                                 # lst 원본 값이 변함"
   ]
  },
  {
   "cell_type": "code",
   "execution_count": 22,
   "id": "cd72d314-dc2f-4459-bb0b-a496975b5137",
   "metadata": {},
   "outputs": [
    {
     "name": "stdout",
     "output_type": "stream",
     "text": [
      "[1, 2, 3]\n",
      "[1, 2, 3, 4]\n"
     ]
    }
   ],
   "source": [
    "# 리스트에 한 개의 원소 추가2\n",
    "# 원본 값 변화 없이 리스트에 한 개의 원소를 추가하려면 전개 연산자 *를 사용하면 됨\n",
    "lst = [1, 2, 3]\n",
    "new_lst = [*lst, 4]\n",
    "print(lst)                                 # lst 원본 값이 변하지 않음\n",
    "print(new_lst)"
   ]
  },
  {
   "cell_type": "code",
   "execution_count": 23,
   "id": "d5cf0c45-ff1d-4567-b28f-466c957eb27a",
   "metadata": {},
   "outputs": [],
   "source": [
    "# append() 함수는 여러 개의 인수를 입력하거나, 연속으로 사용할 수 없음\n",
    "lst = [1, 2, 3]\n",
    "#lst.append(4,5)\n",
    "#lst.append(4).append(5)"
   ]
  },
  {
   "cell_type": "code",
   "execution_count": 24,
   "id": "fc8c5d17-ef41-4051-8692-c3381062170f",
   "metadata": {},
   "outputs": [
    {
     "name": "stdout",
     "output_type": "stream",
     "text": [
      "[1, 2, 3, 11, 12]\n"
     ]
    }
   ],
   "source": [
    "# 리스트에 여러 개의 원소 추가\n",
    "lst = [1, 2, 3]\n",
    "lst.extend([11, 12])                       # 실행 결과로 아무것도 출력하지 않음\n",
    "print(lst)                                 # lst1 원본 값이 변함"
   ]
  },
  {
   "cell_type": "code",
   "execution_count": 25,
   "id": "cd099ef1-9b2d-474d-af47-7bbadab35179",
   "metadata": {},
   "outputs": [
    {
     "name": "stdout",
     "output_type": "stream",
     "text": [
      "[1, 2, 3]\n",
      "[11, 12, 13]\n"
     ]
    }
   ],
   "source": [
    "# extend() 함수와 리스트 연결 연산자 +의 차이\n",
    "lst1 = [1, 2, 3]\n",
    "lst2 = [11, 12, 13]\n",
    "lst1 + lst2                                # 실행 결과가 출력됨\n",
    "print(lst1)                                # lst1 원본 값이 변하지 않음\n",
    "print(lst2)                                # lst2 원본 값이 변하지 않음"
   ]
  },
  {
   "cell_type": "code",
   "execution_count": 26,
   "id": "a3bc9c22-8ec9-4ac3-867b-665f88b0241c",
   "metadata": {},
   "outputs": [
    {
     "name": "stdout",
     "output_type": "stream",
     "text": [
      "[100, 1, 2, 3]\n"
     ]
    }
   ],
   "source": [
    "# 특정 위치에 한 개의 원소 추가\n",
    "lst = [1, 2, 3]\n",
    "lst.insert(0, 100)                         # 실행 결과로 아무것도 출력하지 않음\n",
    "print(lst)                                 # lst 원본 값이 변함"
   ]
  },
  {
   "cell_type": "code",
   "execution_count": 27,
   "id": "648ffa4a-0268-459b-866c-235cd7542bcb",
   "metadata": {},
   "outputs": [
    {
     "name": "stdout",
     "output_type": "stream",
     "text": [
      "[1, 11, 12, 2, 3]\n"
     ]
    }
   ],
   "source": [
    "# 특정 위치에 여러 개의 원소 추가 : 슬라이싱을 이용\n",
    "lst = [1, 2, 3]\n",
    "lst[1:1] = [11, 12]                        # 인덱스 1의 위치에 리스트 [11, 12]의 원소를 개별적으로 삽입\n",
    "print(lst)                                 # lst 원본 값이 변함"
   ]
  },
  {
   "cell_type": "markdown",
   "id": "16cc0e37-dcae-4217-ab67-ede3e205ee18",
   "metadata": {},
   "source": [
    "<br>\n",
    "\n",
    "#### 3.2.5.2. 리스트 삭제\n",
    "|함수|설명|\n",
    "|:---:|:------------|\n",
    "|pop()|- 특정 인덱스 값을 삭제하고 그 값을 반환 <br>- 인덱스를 생략하면 마지막 원소를 삭제|\n",
    "|del 키워드|- 특정 인덱스 값을 삭제 <br>- 리스트 객체 자체를 삭제 가능함|\n",
    "|remove()|- 리스트에서 첫 번째로 일치하는 값을 삭제 <br>- 값으로 삭제하므로 인덱스를 사용하지 않음|\n",
    "|clear()|- 리스트의 모든 원소를 삭제|\n",
    "\n",
    "<br>"
   ]
  },
  {
   "cell_type": "code",
   "execution_count": 28,
   "id": "b6453fcf-eafe-419c-b323-67050b5117b4",
   "metadata": {},
   "outputs": [
    {
     "name": "stdout",
     "output_type": "stream",
     "text": [
      "[1, 2, 3, 5]\n",
      "4\n"
     ]
    }
   ],
   "source": [
    "# 특정 인덱스 값 삭제1\n",
    "lst = [1, 2, 3, 4, 5]\n",
    "result = lst.pop(3)                        # 실행 결과로 삭제한 값을 반환\n",
    "print(lst)                                 # lst 원본 값이 변함\n",
    "print(result)"
   ]
  },
  {
   "cell_type": "code",
   "execution_count": 29,
   "id": "b186a9e6-f832-4282-823c-49ddc003b51e",
   "metadata": {},
   "outputs": [
    {
     "name": "stdout",
     "output_type": "stream",
     "text": [
      "[1, 2, 3, 4]\n",
      "5\n"
     ]
    }
   ],
   "source": [
    "# 특정 인덱스 값 삭제2\n",
    "lst = [1, 2, 3, 4, 5]\n",
    "result = lst.pop()                         # 인덱스를 생략하면 마지막 원소를 삭제 후 반환\n",
    "print(lst)                                 # lst 원본 값이 변함\n",
    "print(result)"
   ]
  },
  {
   "cell_type": "code",
   "execution_count": 30,
   "id": "6bf4e5cf-51df-456c-8a03-20a515e0809e",
   "metadata": {},
   "outputs": [
    {
     "name": "stdout",
     "output_type": "stream",
     "text": [
      "[1, 2, 3, 5]\n"
     ]
    }
   ],
   "source": [
    "# 특정 인덱스 값 삭제3\n",
    "lst = [1, 2, 3, 4, 5]\n",
    "del lst[3]                                 # 실행 결과로 아무것도 반환하지 않음\n",
    "print(lst)                                 # lst 원본 값이 변함"
   ]
  },
  {
   "cell_type": "code",
   "execution_count": 31,
   "id": "cb5bd05e-529c-483e-a2ae-cec0a69cdf6b",
   "metadata": {},
   "outputs": [],
   "source": [
    "# 리스트 객체 삭제\n",
    "lst = [1, 2, 3, 4, 5]\n",
    "del lst\n",
    "#print(lst)"
   ]
  },
  {
   "cell_type": "code",
   "execution_count": 32,
   "id": "0fdfb38f-7fdb-440c-89b9-db43c6ef8c16",
   "metadata": {},
   "outputs": [
    {
     "name": "stdout",
     "output_type": "stream",
     "text": [
      "[1, 2, 3, 5]\n"
     ]
    }
   ],
   "source": [
    "# 일치하는 값 삭제1\n",
    "lst = [1, 2, 3, 4, 5]\n",
    "lst.remove(4)                              # 실행 결과로 아무것도 출력하지 않음\n",
    "print(lst)                                 # lst 원본 값이 변함"
   ]
  },
  {
   "cell_type": "code",
   "execution_count": 33,
   "id": "88d029d9-d670-4426-9c52-a1339b9d0e66",
   "metadata": {},
   "outputs": [
    {
     "name": "stdout",
     "output_type": "stream",
     "text": [
      "[2, 3, 1, 4, 5, 1, 6, 7]\n"
     ]
    }
   ],
   "source": [
    "# 일치하는 값 삭제2\n",
    "lst = [1, 2, 3, 1, 4, 5, 1, 6, 7]\n",
    "lst.remove(1)                              # 첫 번째로 일치하는 값만 삭제됨\n",
    "print(lst)                                 # lst 원본 값이 변함"
   ]
  },
  {
   "cell_type": "code",
   "execution_count": 34,
   "id": "4e8df3b6-2d21-4df5-b392-03c13432c183",
   "metadata": {},
   "outputs": [
    {
     "name": "stdout",
     "output_type": "stream",
     "text": [
      "[]\n"
     ]
    }
   ],
   "source": [
    "# 리스트 모든 원소 삭제\n",
    "lst = [1, 2, 3, 4, 5]\n",
    "lst.clear()                                # 실행 결과로 아무것도 출력하지 않음\n",
    "print(lst)                                 # lst 원본 값이 변함"
   ]
  },
  {
   "cell_type": "markdown",
   "id": "4feae789-7522-4669-bd68-0b6dda6aed17",
   "metadata": {},
   "source": [
    "<br>\n",
    "\n",
    "#### 3.2.5.3. 리스트 재배열\n",
    "|함수|설명|\n",
    "|:---:|:------------|\n",
    "|reverse()|- 리스트 원소를 역순으로 재배열|\n",
    "|sort()|- 리스트 원소를 오름차순(default)으로 정렬 <br>- 내림차순으로 정렬하려면 reverse=True로 설정|\n",
    "\n",
    "<br>"
   ]
  },
  {
   "cell_type": "code",
   "execution_count": 35,
   "id": "d5912710-4a3a-4fe3-9a1c-c453712f86d6",
   "metadata": {},
   "outputs": [
    {
     "name": "stdout",
     "output_type": "stream",
     "text": [
      "[7, 1, 275, 32, 103, 273, 52]\n"
     ]
    }
   ],
   "source": [
    "# 리스트 역순 재배열\n",
    "lst = [52, 273, 103, 32, 275, 1, 7]\n",
    "lst.reverse()                              # 실행 결과로 아무것도 출력하지 않음\n",
    "print(lst)                                 # lst 원본 값이 변함"
   ]
  },
  {
   "cell_type": "code",
   "execution_count": 36,
   "id": "d0419097-d3b3-464c-91a4-853bc6ef9c86",
   "metadata": {},
   "outputs": [
    {
     "name": "stdout",
     "output_type": "stream",
     "text": [
      "[1, 7, 32, 52, 103, 273, 275]\n",
      "[275, 273, 103, 52, 32, 7, 1]\n"
     ]
    }
   ],
   "source": [
    "# 리스트 정렬\n",
    "lst = [52, 273, 103, 32, 275, 1, 7]\n",
    "lst.sort()                                 # 실행 결과로 아무것도 출력하지 않음, 오름차순 정렬\n",
    "print(lst)                                 # lst 원본 값이 변함\n",
    "\n",
    "lst.sort(reverse=True)                     # 내림차순 정렬\n",
    "print(lst)                                 # lst 원본 값이 변함"
   ]
  },
  {
   "cell_type": "markdown",
   "id": "475f0d3b-b894-4c24-af04-b9fd6cc7dc36",
   "metadata": {},
   "source": [
    "<br>\n",
    "\n",
    "#### 3.2.5.4. 리스트 검색\n",
    "|함수|설명|\n",
    "|:---:|:------------|\n",
    "|count()|리스트 내부에 특정 값이 몇 번 나타나는지 개수를 반환|\n",
    "|index()|리스트 내부에 특정 값의 첫 번째 인덱스를 반환하며, 없으면 오류 발생|\n",
    "|in 연산자|리스트 내부에 특정 값이 있다면 True, 없다면 False를 반환|\n",
    "\n",
    "<br>"
   ]
  },
  {
   "cell_type": "code",
   "execution_count": 37,
   "id": "1c00ff82-188a-4826-a67a-d3ad4e6763fd",
   "metadata": {},
   "outputs": [
    {
     "name": "stdout",
     "output_type": "stream",
     "text": [
      "3\n",
      "0\n"
     ]
    }
   ],
   "source": [
    "# 특정 값 개수\n",
    "lst = [1, 2, 3, 1, 4, 5, 1, 6, 7]\n",
    "print(lst.count(1))\n",
    "print(lst.count(9))"
   ]
  },
  {
   "cell_type": "code",
   "execution_count": 38,
   "id": "e1881529-426f-4072-bd8d-f7939bd2eb82",
   "metadata": {},
   "outputs": [
    {
     "name": "stdout",
     "output_type": "stream",
     "text": [
      "0\n"
     ]
    }
   ],
   "source": [
    "# 특정 값의 첫 번쩨 인덱스\n",
    "lst = [1, 2, 3, 1, 4, 5, 1, 6, 7]\n",
    "print(lst.index(1))\n",
    "#print(lst.index(9))"
   ]
  },
  {
   "cell_type": "code",
   "execution_count": 39,
   "id": "49c67f75-7dda-43c2-9c65-ea6ffa082ef8",
   "metadata": {},
   "outputs": [
    {
     "name": "stdout",
     "output_type": "stream",
     "text": [
      "True\n",
      "False\n"
     ]
    }
   ],
   "source": [
    "# 특정 값 찾기\n",
    "lst = [1, 2, 3, 4, 5]\n",
    "print(3 in lst)\n",
    "print(6 in lst)"
   ]
  },
  {
   "cell_type": "markdown",
   "id": "ed870152-e1d7-4644-a350-2f5e77d202c7",
   "metadata": {},
   "source": [
    "<br>\n",
    "\n",
    "#### 3.2.5.5. 리스트 통계\n",
    "|함수|설명|\n",
    "|:---:|:------------|\n",
    "|len()|리스트 원소의 개수(리스트 길이) 반환|\n",
    "|sum()|리스트 원소의 합계 반환|\n",
    "|max()|리스트 원소 중 최대값 반환|\n",
    "|min()|리스트 원소 중 최소값 반환|\n",
    "\n",
    "<br>"
   ]
  },
  {
   "cell_type": "code",
   "execution_count": 40,
   "id": "38ddab13-b4dc-4379-9b14-6a08b3f74831",
   "metadata": {},
   "outputs": [
    {
     "name": "stdout",
     "output_type": "stream",
     "text": [
      "5\n",
      "15\n",
      "5\n",
      "1\n"
     ]
    }
   ],
   "source": [
    "lst = [1, 2, 3, 4, 5]\n",
    "print(len(lst))\n",
    "print(sum(lst))\n",
    "print(max(lst))\n",
    "print(min(lst))"
   ]
  },
  {
   "cell_type": "markdown",
   "id": "cbae2fae-8c48-4f28-b101-49b1b9c16d3b",
   "metadata": {},
   "source": [
    "<br>\n",
    "\n",
    "### 3.2.6. 리스트 컴프리헨션\n",
    "\n",
    "> [식 for 변수 in 반복범위 if 조건식]\n",
    "\n",
    "<br>\n",
    "\n",
    "+ 기존 리스트를 사용하여 간결하게 새로운 리스트를 생성하는 기법\n",
    "+ 리스트와 for 문을 한 줄에 사용할 수 있어 코드가 더 직관적으로 작성됨\n",
    "+ 필터링, 중첩 반복문, 이차원 리스트 등 다양한 방식으로 활용됨\n",
    "\n",
    "<br>\n",
    "\n",
    "+ 리스트 컴프리헨션은 수학에서 집합을 정의할 때 **특정 조건을 만족하는 원소들의 집합**으로 표현하는 방법과 유사함\n",
    "  + 수학적 집합 :  S = {x | x는 0 이상 10 이하의 정수}\n",
    "  + 리스트 컴프리헨션 :  `[x for x in range(10)]`\n",
    "\n",
    "<br>"
   ]
  },
  {
   "cell_type": "code",
   "execution_count": 41,
   "id": "607c8e0b-988e-4505-b07e-cf9a4015ebee",
   "metadata": {},
   "outputs": [
    {
     "name": "stdout",
     "output_type": "stream",
     "text": [
      "[0, 1, 2, 3, 4, 5, 6, 7, 8, 9]\n"
     ]
    }
   ],
   "source": [
    "## 0~9 정수 저장\n",
    "# 일반적인 반복문 + 리스트\n",
    "result1 = []\n",
    "for i in range(10):\n",
    "    result1.append(i)\n",
    "\n",
    "print(result1)"
   ]
  },
  {
   "cell_type": "code",
   "execution_count": 42,
   "id": "2a237176-9a22-458c-82fd-87534c4267d8",
   "metadata": {},
   "outputs": [
    {
     "name": "stdout",
     "output_type": "stream",
     "text": [
      "[0, 1, 2, 3, 4, 5, 6, 7, 8, 9]\n"
     ]
    }
   ],
   "source": [
    "## 0~9 정수 저장\n",
    "# 리스트 컴프리헨션\n",
    "result2 = [i for i in range(10)]\n",
    "print(result2)"
   ]
  },
  {
   "cell_type": "code",
   "execution_count": 43,
   "id": "48796e3a-0fa7-4fcd-b34a-5cdb56176212",
   "metadata": {},
   "outputs": [
    {
     "name": "stdout",
     "output_type": "stream",
     "text": [
      "[0, 2, 4, 6, 8]\n"
     ]
    }
   ],
   "source": [
    "## 짝수만 저장 (필터링, if 문과 함께 사용)\n",
    "# 일반적인 반복문 + 리스트\n",
    "result1 = []\n",
    "for i in range(10):\n",
    "    if i % 2 == 0:\n",
    "        result1.append(i)\n",
    "\n",
    "print(result1)"
   ]
  },
  {
   "cell_type": "code",
   "execution_count": 44,
   "id": "86fe92a5-641d-4ac0-b2a5-07d7d047226f",
   "metadata": {},
   "outputs": [
    {
     "name": "stdout",
     "output_type": "stream",
     "text": [
      "[0, 2, 4, 6, 8]\n"
     ]
    }
   ],
   "source": [
    "## 짝수만 저장 (필터링, if 문과 함께 사용)\n",
    "# 리스트 컴프리헨션\n",
    "result2 = [i for i in range(10) if i % 2 == 0]\n",
    "print(result2)"
   ]
  },
  {
   "cell_type": "code",
   "execution_count": 45,
   "id": "cd481373-737d-49b1-b1de-b709454f31ac",
   "metadata": {},
   "outputs": [
    {
     "name": "stdout",
     "output_type": "stream",
     "text": [
      "['HW', 'Ho', 'Hr', 'Hl', 'Hd', 'eW', 'eo', 'er', 'el', 'ed', 'lW', 'lo', 'lr', 'll', 'ld', 'lW', 'lo', 'lr', 'll', 'ld', 'oW', 'oo', 'or', 'ol', 'od']\n"
     ]
    }
   ],
   "source": [
    "## 두 개의 문자열 조합하여 새로운 리스트 생성 (중첩 반복문)\n",
    "# 일반적인 반복문 + 리스트\n",
    "word1 = \"Hello\"\n",
    "word2 = \"World\"\n",
    "result1 = []\n",
    "\n",
    "for i in word1:\n",
    "    for j in word2:\n",
    "        result1.append(i+j)\n",
    "\n",
    "print(result1)"
   ]
  },
  {
   "cell_type": "code",
   "execution_count": 46,
   "id": "7607006e-901c-4c4e-b5bd-3d7a3ddf7d26",
   "metadata": {},
   "outputs": [
    {
     "name": "stdout",
     "output_type": "stream",
     "text": [
      "['HW', 'Ho', 'Hr', 'Hl', 'Hd', 'eW', 'eo', 'er', 'el', 'ed', 'lW', 'lo', 'lr', 'll', 'ld', 'lW', 'lo', 'lr', 'll', 'ld', 'oW', 'oo', 'or', 'ol', 'od']\n"
     ]
    }
   ],
   "source": [
    "## 두 개의 문자열 조합하여 새로운 리스트 생성 (중첩 반복문)\n",
    "# 리스트 컴프리헨션\n",
    "word1 = \"Hello\"\n",
    "word2 = \"World\"\n",
    "\n",
    "result2 = [i+j for i in word1 for j in word2]\n",
    "print(result2)"
   ]
  },
  {
   "cell_type": "code",
   "execution_count": 47,
   "id": "7222e3c3-0185-49b7-86f2-f483ed0b6ceb",
   "metadata": {},
   "outputs": [
    {
     "name": "stdout",
     "output_type": "stream",
     "text": [
      "['AD', 'AE', 'BD', 'BE', 'BA', 'CD', 'CE', 'CA']\n"
     ]
    }
   ],
   "source": [
    "# 리스트 컴프리헨션 (필터링 + 중첩 반복문)\n",
    "case1 = [\"A\", \"B\", \"C\"]\n",
    "case2 = [\"D\", \"E\", \"A\"]\n",
    "result = [i + j for i in case1 for j in case2 if not(i==j)]\n",
    "print(result)"
   ]
  },
  {
   "cell_type": "code",
   "execution_count": 48,
   "id": "1711a982-1eaf-4f2a-bcc8-f475c4fb94c8",
   "metadata": {},
   "outputs": [
    {
     "data": {
      "text/plain": [
       "[['THE', 'the', 3],\n",
       " ['QUICK', 'quick', 5],\n",
       " ['BROWN', 'brown', 5],\n",
       " ['FOX', 'fox', 3],\n",
       " ['JUMPS', 'jumps', 5],\n",
       " ['OVER', 'over', 4],\n",
       " ['THE', 'the', 3],\n",
       " ['LAZY', 'lazy', 4],\n",
       " ['DOG', 'dog', 3]]"
      ]
     },
     "execution_count": 48,
     "metadata": {},
     "output_type": "execute_result"
    }
   ],
   "source": [
    "## 리스트의 각 원소를 대문자, 소문자, 길이로 변환하여 이차원 리스트 생성 (이차원 리스트)\n",
    "# 일반적인 반복문 + 리스트\n",
    "words = \"The quick brown fox jumps over the lazy dog\".split()\n",
    "word_info1 = []\n",
    "\n",
    "for w in words:\n",
    "    word_info1.append([w.upper(), w.lower(), len(w)])\n",
    "\n",
    "word_info1"
   ]
  },
  {
   "cell_type": "code",
   "execution_count": 49,
   "id": "a24bf9f9-d9f7-4f0c-a57e-9af649c242cc",
   "metadata": {},
   "outputs": [
    {
     "data": {
      "text/plain": [
       "[['THE', 'the', 3],\n",
       " ['QUICK', 'quick', 5],\n",
       " ['BROWN', 'brown', 5],\n",
       " ['FOX', 'fox', 3],\n",
       " ['JUMPS', 'jumps', 5],\n",
       " ['OVER', 'over', 4],\n",
       " ['THE', 'the', 3],\n",
       " ['LAZY', 'lazy', 4],\n",
       " ['DOG', 'dog', 3]]"
      ]
     },
     "execution_count": 49,
     "metadata": {},
     "output_type": "execute_result"
    }
   ],
   "source": [
    "## 리스트의 각 원소를 대문자, 소문자, 길이로 변환하여 이차원 리스트 생성 (이차원 리스트)\n",
    "# 리스트 컴프리헨션\n",
    "words = \"The quick brown fox jumps over the lazy dog\".split()\n",
    "word_info2 = [[w.upper(), w.lower(), len(w)] for w in words]\n",
    "word_info2"
   ]
  },
  {
   "cell_type": "code",
   "execution_count": 50,
   "id": "7878a3db-64a0-42e3-a661-485c122cccfe",
   "metadata": {},
   "outputs": [
    {
     "name": "stdout",
     "output_type": "stream",
     "text": [
      "['A1', 'A2', 'A3', 'B1', 'B2', 'B3', 'C1', 'C2', 'C3']\n",
      "[['A1', 'B1', 'C1'], ['A2', 'B2', 'C2'], ['A3', 'B3', 'C3']]\n"
     ]
    }
   ],
   "source": [
    "# [주의] 반복문에서 대괄호의 위치에 따라 리스트의 구조가 달라짐\n",
    "case1 = [\"A\", \"B\", \"C\"]\n",
    "case2 = [\"1\", \"2\", \"3\"]\n",
    "\n",
    "# 일차원 리스트, 앞의 for 문이 먼저 실행됨\n",
    "result1 = [i + j for i in case1 for j in case2]\n",
    "print(result1)\n",
    "\n",
    "# 이차원 리스트, 뒤의 for 문이 바깥쪽에서 먼저 실행됨\n",
    "result2 = [[i + j for i in case1] for j in case2]\n",
    "print(result2)"
   ]
  },
  {
   "cell_type": "markdown",
   "id": "f867a985-ad5f-4355-b0fc-8078f3057baa",
   "metadata": {},
   "source": [
    "<br>\n",
    "\n",
    "## 3.3. 튜플\n",
    "### 3.3.1. 튜플 생성\n",
    "+ 튜플(tuple)\n",
    "  + 여러 개의 값을 저장할 수 있는 컬렉션 자료형(collection data type)\n",
    "  + 순서가 존재하는 시퀀스 자료형(sequence data type)\n",
    "  + 한 번 생성된 이후에는 수정할 수 없는 불변형(immutable) 객체\n",
    "  + 정수, 부동소수점수, 문자열, bool, 리스트, 튜플, 딕셔너리 등 다양한 자료형을 저장할 수 있는 컨테이너형 객체\n",
    "  + 리스트와 구조 및 사용 방법이 거의 동일하지만, **수정이 불가능**하다는 차이점이 있음\n",
    "\n",
    "<br>\n",
    "\n",
    "+ 튜플 생성\n",
    "  + 리터럴 방식(tuple literal)\n",
    "    + `()`를 사용하여 튜플을 직접 정의하는 방법\n",
    "    + `()` 안에 원소(element)를 `,`로 구분하여 나열함\n",
    "    + `()`을 생략할 수도 있지만, 원소가 하나인 경우에는 `(값,)`처럼 반드시 `,`를 포함해야 함\n",
    "  + 생성자 방식(tuple constructor)\n",
    "    + `tuple()` 함수를 사용하여 튜플을 생성하는 방법\n",
    "    + 다른 iterable 객체(리스트, 튜플, 세트, 딕셔너리, 문자열 등)를 인수로 받아 튜플을 생성할 때 유용함\n",
    "\n",
    "<br>"
   ]
  },
  {
   "cell_type": "code",
   "execution_count": 51,
   "id": "5a8eade5-f392-4e47-b3bf-f7f9ff2a4160",
   "metadata": {},
   "outputs": [
    {
     "name": "stdout",
     "output_type": "stream",
     "text": [
      "(1, 2, 3, 4, 5)\n"
     ]
    }
   ],
   "source": [
    "# 튜플 생성1\n",
    "tpl = (1, 2, 3, 4, 5)\n",
    "print(tpl)"
   ]
  },
  {
   "cell_type": "code",
   "execution_count": 52,
   "id": "be9ffba2-b114-4a4b-8459-c1db12d4b618",
   "metadata": {},
   "outputs": [
    {
     "name": "stdout",
     "output_type": "stream",
     "text": [
      "(1, 2, 3, 4, 5)\n"
     ]
    }
   ],
   "source": [
    "# 튜플 생성2\n",
    "tpl = 1, 2, 3, 4, 5\n",
    "print(tpl)"
   ]
  },
  {
   "cell_type": "code",
   "execution_count": 53,
   "id": "f83195de-f678-4978-a133-3cdd2b88d100",
   "metadata": {},
   "outputs": [
    {
     "name": "stdout",
     "output_type": "stream",
     "text": [
      "(1,)\n"
     ]
    }
   ],
   "source": [
    "# 튜플 생성3 : 원소가 하나인 경우에는 반드시 ,를 포함해야 함\n",
    "tpl = (1,)\n",
    "print(tpl)"
   ]
  },
  {
   "cell_type": "code",
   "execution_count": 54,
   "id": "0ee06f2c-d5d7-4c60-8000-0e6e7c4153f1",
   "metadata": {},
   "outputs": [
    {
     "name": "stdout",
     "output_type": "stream",
     "text": [
      "(1, 3.14, 'Hello', True, [11, 12, 13], (21, 22))\n"
     ]
    }
   ],
   "source": [
    "# 튜플 생성4 : 튜플은 다양한 자료형을 저장할 수 있음\n",
    "tpl = (1, 3.14, \"Hello\", True, [11, 12, 13], (21, 22))\n",
    "print(tpl)"
   ]
  },
  {
   "cell_type": "code",
   "execution_count": 55,
   "id": "1095561a-e1c7-4df8-88c1-2cdd47ae613b",
   "metadata": {},
   "outputs": [
    {
     "name": "stdout",
     "output_type": "stream",
     "text": [
      "('H', 'e', 'l', 'l', 'o')\n"
     ]
    }
   ],
   "source": [
    "# 튜플 생성5 : iterable 객체 사용\n",
    "tpl = tuple(\"Hello\")\n",
    "print(tpl)"
   ]
  },
  {
   "cell_type": "code",
   "execution_count": 56,
   "id": "ab5f295a-dff9-4788-9ad9-cdb9f3c6fca0",
   "metadata": {},
   "outputs": [
    {
     "name": "stdout",
     "output_type": "stream",
     "text": [
      "(1, 2, 3)\n"
     ]
    }
   ],
   "source": [
    "# 튜플 생성6 : iterable 객체 사용\n",
    "tpl = tuple([1, 2, 3])\n",
    "print(tpl)"
   ]
  },
  {
   "cell_type": "markdown",
   "id": "ed4ff9b4-aed9-45d3-b882-6f367ae7a4da",
   "metadata": {},
   "source": [
    "<br>\n",
    "\n",
    "### 3.3.2. 튜플 연산\n",
    "+ 리스트 연산과 문법이 동일함\n",
    "+ 튜플 연결 연산자 `+` : 두 튜플을 연결해서 새로운 튜플 생성\n",
    "+ 튜플 반복 연산자 `*` : 튜플을 숫자만큼 반복하여 새로운 튜플 생성 - (예) 튜플\\*숫자\n",
    "\n",
    "<br>"
   ]
  },
  {
   "cell_type": "code",
   "execution_count": 57,
   "id": "bf76465a-8ed4-4f62-8758-ef418e9dfedc",
   "metadata": {},
   "outputs": [
    {
     "name": "stdout",
     "output_type": "stream",
     "text": [
      "(1, 2, 3, 11, 12, 13)\n"
     ]
    }
   ],
   "source": [
    "# 튜플 연결\n",
    "tpl1 = 1, 2, 3\n",
    "tpl2 = 11, 12, 13\n",
    "print(tpl1 + tpl2)"
   ]
  },
  {
   "cell_type": "code",
   "execution_count": 58,
   "id": "9a89095f-8bf7-4ab3-aca1-3241fa9282b7",
   "metadata": {},
   "outputs": [
    {
     "name": "stdout",
     "output_type": "stream",
     "text": [
      "(1, 2, 3, 1, 2, 3, 1, 2, 3)\n"
     ]
    }
   ],
   "source": [
    "# 튜플 반복\n",
    "print(tpl1 * 3)"
   ]
  },
  {
   "cell_type": "markdown",
   "id": "b6983af6-e82c-4baa-a993-b5d1b23a6944",
   "metadata": {},
   "source": [
    "<br>\n",
    "\n",
    "### 3.3.3. 인덱싱와 슬라이싱\n",
    "+ 리스트와 문법이 동일함\n",
    "+ 인덱싱(indexing) : `[index]`를 사용하여 튜플의 특정 위치에 있는 원소에 접근함\n",
    "+ 슬라이싱(slicing) : `[(start index):(stop index)]`를 사용하여 튜플의 일부 원소를 추출함\n",
    "  + 리스트와 달리 불변형 객체이므로 슬라이싱을 이용하여 기존 튜플의 일부를 삭제하거나, 새로운 원소를 추가 및 변경할 수 없음\n",
    "\n",
    "<br>"
   ]
  },
  {
   "cell_type": "code",
   "execution_count": 59,
   "id": "4069e912-584b-4ffc-bb3a-5358db64e2d2",
   "metadata": {},
   "outputs": [
    {
     "name": "stdout",
     "output_type": "stream",
     "text": [
      "1\n"
     ]
    }
   ],
   "source": [
    "# 튜플 인덱싱1\n",
    "tpl = 1, 2, 3, 4, 5\n",
    "print(tpl[0])"
   ]
  },
  {
   "cell_type": "code",
   "execution_count": 60,
   "id": "6b3cbc31-79ea-477f-bb73-2abf120b7756",
   "metadata": {},
   "outputs": [
    {
     "name": "stdout",
     "output_type": "stream",
     "text": [
      "5\n"
     ]
    }
   ],
   "source": [
    "# 튜플 인덱싱2\n",
    "tpl = 1, 2, 3, 4, 5\n",
    "print(tpl[-1])"
   ]
  },
  {
   "cell_type": "code",
   "execution_count": 61,
   "id": "5e93060a-39de-4785-b2a8-b2771cbcea6d",
   "metadata": {},
   "outputs": [
    {
     "name": "stdout",
     "output_type": "stream",
     "text": [
      "(1, 2)\n"
     ]
    }
   ],
   "source": [
    "# 튜플 슬라이싱1\n",
    "tpl = 1, 2, 3, 4, 5\n",
    "print(tpl[0:2])"
   ]
  },
  {
   "cell_type": "code",
   "execution_count": 62,
   "id": "d0f82c7f-488d-45d7-8ab9-5ceb658ea556",
   "metadata": {},
   "outputs": [
    {
     "name": "stdout",
     "output_type": "stream",
     "text": [
      "(1, 2)\n",
      "(3, 4, 5)\n",
      "(1, 3, 5)\n"
     ]
    }
   ],
   "source": [
    "# 튜플 슬라이싱2\n",
    "tpl = 1, 2, 3, 4, 5\n",
    "print(tpl[:2])\n",
    "print(tpl[2:])\n",
    "print(tpl[::2])"
   ]
  },
  {
   "cell_type": "code",
   "execution_count": 63,
   "id": "014c10a4-3b51-46f5-9bf5-a6702a45ccef",
   "metadata": {},
   "outputs": [],
   "source": [
    "# 튜플은 불변형 객체이므로 인덱스를 이용한 수정이 불가능함\n",
    "#tpl = 1, 2, 3, 4, 5\n",
    "#tpl[2] = 3\n",
    "#print(tpl)"
   ]
  },
  {
   "cell_type": "markdown",
   "id": "6267b400-9e3c-4b39-8cec-3be300bf290d",
   "metadata": {},
   "source": [
    "<br>\n",
    "\n",
    "### 3.3.4. 튜플 메소드\n",
    "|함수|설명|\n",
    "|:---:|:------------|\n",
    "|count()|튜플 내부에 특정 값이 몇 번 나타나는지 개수를 반환|\n",
    "|index()|튜플 내부에 특정 값의 첫 번째 인덱스를 반환하며, 없으면 오류 발생|\n",
    "|in 연산자|튜플 내부에 특정 값이 있다면 True, 없다면 False를 반환|\n",
    "|len()|튜플 원소의 개수(튜플 길이) 반환|\n",
    "|sum()|튜플 원소의 합계 반환|\n",
    "|max()|튜플 원소 중 최대값 반환|\n",
    "|min()|튜플 원소 중 최소값 반환|\n",
    "\n",
    "<br>"
   ]
  },
  {
   "cell_type": "code",
   "execution_count": 64,
   "id": "cea50cce-6e02-4178-8506-82b8a1b4bbab",
   "metadata": {},
   "outputs": [
    {
     "name": "stdout",
     "output_type": "stream",
     "text": [
      "3\n",
      "0\n"
     ]
    }
   ],
   "source": [
    "# 특정 값 개수\n",
    "tpl = 1, 2, 3, 1, 4, 5, 1, 6, 7\n",
    "print(tpl.count(1))\n",
    "print(tpl.count(9))"
   ]
  },
  {
   "cell_type": "code",
   "execution_count": 65,
   "id": "99936421-13db-44bd-b351-5039341a63a1",
   "metadata": {},
   "outputs": [
    {
     "name": "stdout",
     "output_type": "stream",
     "text": [
      "0\n"
     ]
    }
   ],
   "source": [
    "# 특정 값의 첫 번쩨 인덱스\n",
    "tpl = 1, 2, 3, 1, 4, 5, 1, 6, 7\n",
    "print(tpl.index(1))\n",
    "#print(tpl.index(9))"
   ]
  },
  {
   "cell_type": "code",
   "execution_count": 66,
   "id": "2c513609-485e-4eda-99c6-7c9ba862fd2f",
   "metadata": {},
   "outputs": [
    {
     "name": "stdout",
     "output_type": "stream",
     "text": [
      "True\n",
      "False\n"
     ]
    }
   ],
   "source": [
    "# 특정값 찾기\n",
    "tpl = 1, 2, 3, 4, 5\n",
    "print(3 in tpl)\n",
    "print(6 in tpl)"
   ]
  },
  {
   "cell_type": "code",
   "execution_count": 67,
   "id": "ecca5be0-5244-46e4-932d-f1b2fb1efefa",
   "metadata": {
    "scrolled": true
   },
   "outputs": [
    {
     "name": "stdout",
     "output_type": "stream",
     "text": [
      "5\n",
      "15\n",
      "5\n",
      "1\n"
     ]
    }
   ],
   "source": [
    "tpl = 1, 2, 3, 4, 5\n",
    "print(len(tpl))\n",
    "print(sum(tpl))\n",
    "print(max(tpl))\n",
    "print(min(tpl))"
   ]
  },
  {
   "cell_type": "markdown",
   "id": "e36cc83b-b48e-4336-b157-d1c26484d8d7",
   "metadata": {},
   "source": [
    "<br>\n",
    "\n",
    "## 3.4. 세트\n",
    "### 3.4.1. 세트 생성\n",
    "+ 세트(set)\n",
    "  + 여러 개의 값을 저장할 수 있는 컬렉션 자료형(collection data type)\n",
    "  + 순서가 없는 집합 자료형(set data type)\n",
    "  + 중복을 허용하지 않으며, 순서가 유지되지 않음\n",
    "    + 리스트, 튜플과 달리 인덱싱과 슬라이싱이 불가능함\n",
    "  + 한 번 생성된 이후에도 수정할 수 있는 가변형(mutable) 객체\n",
    "  + 정수, 부동소수점수, 문자열, bool, 튜플 등 해시 가능한(immutable) 자료형을 저장할 수 있는 컨테이너형 객체\n",
    "\n",
    "<br>\n",
    "\n",
    "+ [참고] 해시(hash)\n",
    "  + 데이터를 저장하거나 검색할 때 사용되는 고유한 숫자 값(해시 값)을 사용하는 과정\n",
    "  + 세트와 딕셔너리는 내부적으로 해시 값을 사용하여 원소 또는 key에 빠르게 접근함(검색 속도가 빠름)\n",
    "  + 해시 값은 변경되지 않아야 하므로, 불변형 객체만 사용할 수 있음\n",
    "\n",
    "<br>\n",
    "\n",
    "+ 세트 생성\n",
    "  + 리터럴 방식(set literal)\n",
    "    + `{}`를 사용하여 세트를 직접 정의하는 방법\n",
    "    + `{}` 안에 원소(element)를 `,`로 구분하여 나열함\n",
    "    + **중복된 원소는 자동으로 제거됨**\n",
    "  + 생성자 방식(set constructor)\n",
    "    + `set()` 함수를 사용하여 세트를 생성하는 방법\n",
    "    + 다른 iterable 객체(리스트, 튜플, 세트, 딕셔너리, 문자열 등)를 인수로 받아 세트를 생성할 때 유용함\n",
    "    + 빈 세트를 만들려면 반드시 `set()` 함수를 사용해야 함\n",
    "\n",
    "<br>"
   ]
  },
  {
   "cell_type": "code",
   "execution_count": 68,
   "id": "7d2934ad-fc6e-431d-952e-2a8bf4712d80",
   "metadata": {},
   "outputs": [
    {
     "name": "stdout",
     "output_type": "stream",
     "text": [
      "{1, 2, 3, 4}\n"
     ]
    }
   ],
   "source": [
    "# 세트 생성1\n",
    "st = {1, 2, 3, 1, 1, 4}\n",
    "print(st)"
   ]
  },
  {
   "cell_type": "code",
   "execution_count": 69,
   "id": "5f6ac2f6-2c32-446b-a795-ce81e2df45cc",
   "metadata": {},
   "outputs": [
    {
     "name": "stdout",
     "output_type": "stream",
     "text": [
      "{1, 2, 3, 4}\n"
     ]
    }
   ],
   "source": [
    "# 세트 생성2\n",
    "st = set({1, 2, 3, 1, 1, 4})\n",
    "print(st)"
   ]
  },
  {
   "cell_type": "code",
   "execution_count": 70,
   "id": "a21518e8-91e5-4a5f-84cc-e5901fba773f",
   "metadata": {},
   "outputs": [
    {
     "name": "stdout",
     "output_type": "stream",
     "text": [
      "{1, 3.14, 'Hello', (1, 2, 3)}\n"
     ]
    }
   ],
   "source": [
    "# 세트 생성3 : 세트는 해시 가능한(immutable) 자료형을 저장할 수 있음\n",
    "st = {1, 3.14, \"Hello\", True, (1, 2, 3), \"Hello\", 1, 1, 1}\n",
    "print(st)"
   ]
  },
  {
   "cell_type": "code",
   "execution_count": 71,
   "id": "9a91451d-c439-4c41-b4db-16ce89ead44e",
   "metadata": {},
   "outputs": [
    {
     "name": "stdout",
     "output_type": "stream",
     "text": [
      "{'o', 'e', 'l', 'H'}\n"
     ]
    }
   ],
   "source": [
    "# 세트 생성4: iterable 객체 사용\n",
    "st = set(\"Hello\")\n",
    "print(st)"
   ]
  },
  {
   "cell_type": "code",
   "execution_count": 72,
   "id": "3a7250fd-b66e-4fd0-9c6b-e8636afc2e66",
   "metadata": {},
   "outputs": [
    {
     "name": "stdout",
     "output_type": "stream",
     "text": [
      "{1, 2, 3, 4}\n",
      "{1, 2, 3, 4}\n"
     ]
    }
   ],
   "source": [
    "# 세트 생성5 : iterable 객체 사용\n",
    "st1 = set([1, 2, 3, 1, 1, 4])\n",
    "st2 = set((1, 2, 3, 1, 1, 4))\n",
    "print(st1)\n",
    "print(st2)"
   ]
  },
  {
   "cell_type": "markdown",
   "id": "89b9dd81-3f38-4a2d-884a-19b8bbbe2417",
   "metadata": {},
   "source": [
    "<br>\n",
    "\n",
    "### 3.4.2. 세트 집합 연산 및 메소드\n",
    "\n",
    "|연산|연산자|함수|\n",
    "|:---:|:---:|:------------:|\n",
    "|합집합|\\||union()|\n",
    "|교집합|&|intersection()|\n",
    "|차집합|-|difference()|\n",
    "|대칭차집합|^|symmetric_difference()|\n",
    "|부분집합 여부|<=|issubset()|\n",
    "\n",
    "<br>\n",
    "\n",
    "![](./images/fig3-3.png){width=60%}\n",
    "\n",
    "<br>"
   ]
  },
  {
   "cell_type": "code",
   "execution_count": 73,
   "id": "ea1d23e6-feae-4ded-a469-3f1e16c3f1fa",
   "metadata": {},
   "outputs": [
    {
     "name": "stdout",
     "output_type": "stream",
     "text": [
      "{1, 2, 3, 4, 5}\n",
      "{3}\n",
      "{1, 2}\n",
      "{1, 2, 4, 5}\n",
      "False\n"
     ]
    }
   ],
   "source": [
    "# 세트 연산1\n",
    "A = {1, 2, 3}\n",
    "B = {3, 4, 5}\n",
    "\n",
    "print(A | B)                               # 합집합\n",
    "print(A & B)                               # 교집합\n",
    "print(A - B)                               # 차집합\n",
    "print(A ^ B)                               # 대칭차집합\n",
    "print(A <= B)                              # 부분집합 여부"
   ]
  },
  {
   "cell_type": "code",
   "execution_count": 74,
   "id": "c23edd10-4b4f-4edf-9803-ef2c9d637af2",
   "metadata": {},
   "outputs": [
    {
     "name": "stdout",
     "output_type": "stream",
     "text": [
      "{1, 2, 3, 4, 5}\n",
      "{3}\n",
      "{1, 2}\n",
      "{1, 2, 4, 5}\n",
      "False\n"
     ]
    }
   ],
   "source": [
    "# 세트 연산2\n",
    "A = {1, 2, 3}\n",
    "B = {3, 4, 5}\n",
    "\n",
    "print(A.union(B))\n",
    "print(A.intersection(B))\n",
    "print(A.difference(B))\n",
    "print(A.symmetric_difference(B))\n",
    "print(A.issubset(B))"
   ]
  },
  {
   "cell_type": "code",
   "execution_count": 75,
   "id": "8846546c-3ca7-497c-a30c-b88255a9aea8",
   "metadata": {},
   "outputs": [
    {
     "name": "stdout",
     "output_type": "stream",
     "text": [
      "{1, 2, 3, 4, 5, 6, 7}\n",
      "set()\n",
      "{1, 2, 3, 4, 5, 6, 7}\n",
      "set()\n"
     ]
    }
   ],
   "source": [
    "# 세트 연산3 : 여러 개의 세트를 연쇄적으로 한 번에 연산 가능\n",
    "A = {1, 2, 3}\n",
    "B = {3, 4, 5}\n",
    "C = {5, 6, 7}\n",
    "\n",
    "# 연산자 사용\n",
    "print(A | B | C)\n",
    "print(A & B & C)\n",
    "\n",
    "# 메소드 사용\n",
    "print(A.union(B, C))\n",
    "print(A.intersection(B, C))"
   ]
  },
  {
   "cell_type": "markdown",
   "id": "3938825f-fd69-40a8-8a48-119ec2e009eb",
   "metadata": {},
   "source": [
    "<br>\n",
    "\n",
    "#### 3.4.2.3. 세트 추가/삭제/검색\n",
    "|함수|설명|\n",
    "|:---:|:------------|\n",
    "|add()|- 새로운 값을 세트에 추가|\n",
    "|update()|- 여러 개 값을 세트에 추가|\n",
    "|pop()|- 임의의 값을 삭제하고 그 값을 반환 <br>- 어떤 값을 삭제할지 예측 불가능|\n",
    "|remove()|- 세트에서 일치하는 값을 삭제 <br>- 일치하는 값이 없으면 오류가 발생함|\n",
    "|discard()|- 세트에서 일치하는 값을 삭제 <br>- 일치하는 값이 없어도 오류가 발생하지 않음|\n",
    "|clear()|- 세트의 모든 원소를 삭제|\n",
    "|in 연산자|세트 내부에 특정 값이 있다면 True, 없다면 False를 반환|\n",
    "\n",
    "<br>"
   ]
  },
  {
   "cell_type": "code",
   "execution_count": 76,
   "id": "aff89baf-e492-4f57-98da-7147c1e101ea",
   "metadata": {},
   "outputs": [
    {
     "name": "stdout",
     "output_type": "stream",
     "text": [
      "{1, 2, 3, 6}\n"
     ]
    }
   ],
   "source": [
    "# 세트에 한 개의 원소 추가\n",
    "st = {1, 2, 3}\n",
    "st.add(6)                                  # 실행 결과로 아무것도 출력하지 않음\n",
    "print(st)                                  # st 원본 값이 변함"
   ]
  },
  {
   "cell_type": "code",
   "execution_count": 77,
   "id": "a656e32d-5bab-408b-9403-69e89b4df75d",
   "metadata": {},
   "outputs": [
    {
     "name": "stdout",
     "output_type": "stream",
     "text": [
      "{1, 2, 3, 6}\n",
      "{1, 2, 3, 6, 7}\n",
      "{1, 2, 3, 6, 7, 8, 9}\n"
     ]
    }
   ],
   "source": [
    "# 세트에 여러 개의 원소 추가\n",
    "st = {1, 2, 3}\n",
    "st.update([1, 2, 6])                       # 리스트 사용\n",
    "print(st)\n",
    "\n",
    "st.update((1, 7))                          # 튜플 사용\n",
    "print(st)\n",
    "\n",
    "st.update({8, 9})                          # 세트 사용\n",
    "print(st)"
   ]
  },
  {
   "cell_type": "code",
   "execution_count": 78,
   "id": "090cd2e8-8cae-4656-8430-2ed8ec2d8836",
   "metadata": {},
   "outputs": [
    {
     "name": "stdout",
     "output_type": "stream",
     "text": [
      "{2, 3}\n",
      "1\n"
     ]
    }
   ],
   "source": [
    "# 임의의 원소 삭제\n",
    "st = {1, 2, 3}\n",
    "result = st.pop()                          # 임의의 원소를 삭제 후 반환\n",
    "print(st)                                  # st 원본 값이 변함\n",
    "print(result)"
   ]
  },
  {
   "cell_type": "code",
   "execution_count": 79,
   "id": "0bf9811d-5344-4814-8c11-a47a8d70ce23",
   "metadata": {},
   "outputs": [
    {
     "name": "stdout",
     "output_type": "stream",
     "text": [
      "{1, 2}\n"
     ]
    }
   ],
   "source": [
    "# 일치하는 값 삭제1\n",
    "st = {1, 2, 3}\n",
    "st.remove(3)\n",
    "print(st)"
   ]
  },
  {
   "cell_type": "code",
   "execution_count": 80,
   "id": "cf882389-dc82-4f92-ba3b-7424f3534ed3",
   "metadata": {},
   "outputs": [],
   "source": [
    "# 일치하는 값 삭제2 : remove() 함수는 일치하는 값이 없으면 오류가 발생함\n",
    "#st = {1, 2, 3}\n",
    "#st.remove(4)\n",
    "#print(st)"
   ]
  },
  {
   "cell_type": "code",
   "execution_count": 81,
   "id": "e1e08e4d-2262-4864-99b8-b643190899d6",
   "metadata": {},
   "outputs": [
    {
     "name": "stdout",
     "output_type": "stream",
     "text": [
      "{1, 2}\n"
     ]
    }
   ],
   "source": [
    "# 일치하는 값 삭제3\n",
    "st = {1, 2, 3}\n",
    "st.discard(3)\n",
    "print(st)"
   ]
  },
  {
   "cell_type": "code",
   "execution_count": 82,
   "id": "b0225e76-8d6a-414f-8cb6-462c3761935e",
   "metadata": {},
   "outputs": [
    {
     "name": "stdout",
     "output_type": "stream",
     "text": [
      "{1, 2, 3}\n"
     ]
    }
   ],
   "source": [
    "# 일치하는 값 삭제4 : discard() 함수는 일치하는 값이 없어도 오류가 발생하지 않음\n",
    "st = {1, 2, 3}\n",
    "st.discard(4)\n",
    "print(st)"
   ]
  },
  {
   "cell_type": "code",
   "execution_count": 83,
   "id": "83015604-769f-4004-b82c-059c18b5663f",
   "metadata": {},
   "outputs": [
    {
     "name": "stdout",
     "output_type": "stream",
     "text": [
      "set()\n"
     ]
    }
   ],
   "source": [
    "# 세트 모든 원소 삭제\n",
    "st = {1, 2, 3}\n",
    "st.clear()\n",
    "print(st)"
   ]
  },
  {
   "cell_type": "code",
   "execution_count": 84,
   "id": "b34c5107-af59-4035-b69a-6cd44e63ec69",
   "metadata": {},
   "outputs": [
    {
     "name": "stdout",
     "output_type": "stream",
     "text": [
      "True\n",
      "False\n"
     ]
    }
   ],
   "source": [
    "# 특정값 찾기\n",
    "st = {1, 2, 3}\n",
    "print(3 in st)\n",
    "print(6 in st)"
   ]
  },
  {
   "cell_type": "markdown",
   "id": "6dcd76fa-5123-4c8c-877b-4c8b48f2d728",
   "metadata": {},
   "source": [
    "<br>\n",
    "\n",
    "## 3.5. 딕셔너리\n",
    "### 3.5.1. 딕셔너리 생성\n",
    "+ 딕셔너리(dictionary)\n",
    "  + 여러 개의 키-값(key-value) 쌍을 저장할 수 있는 컬렉션 자료형(collection data type)\n",
    "  + 순서가 있는 매핑 자료형(mapping data type)(Python 3.7+)\n",
    "  + 키(key)를 통해 값(value)을 찾는 구조\n",
    "    + 키는 중복될 수 없고(해시 가능한 자료형만 가능), 값은 중복 가능함(모든 자료형 가능)\n",
    "  + 한 번 생성된 이후에도 수정할 수 있는 가변형(mutable) 객체\n",
    "\n",
    "<br>\n",
    "\n",
    "+ 딕셔너리 생성\n",
    "  + 리터럴 방식(dictionary literal)\n",
    "    + `{key: value}`를 사용하여 딕셔너리를 직접 정의하는 방법\n",
    "    + `{}` 안에 여러 개의 `key: value` 쌍을 `,`로 구분하여 나열함\n",
    "    + **중복된 키가 있으면 마지막에 정의한 값이 적용됨**\n",
    "  + 생성자 방식(dictionary constructor)\n",
    "    + `dict()` 함수를 사용하여 딕셔너리를 생성하는 방법\n",
    "    + 다른 iterable 객체(리스트, 튜플, 세트, 딕셔너리, 문자열 등)를 인수로 받아 딕셔너리를 생성할 때 유용함\n",
    "      + `zip()` 함수를 이용하여 여러 개의 리스트나 튜플을 병렬로 묶어 키-값 쌍의 형태로 구성할 수 있음\n",
    "      + `enumerate()` 함수를 이용하여 인덱스를 키로, 원소를 값으로 하여 쌍으로 묶어 딕셔너리를 생성할 수 있음\n",
    "\n",
    "<br>"
   ]
  },
  {
   "cell_type": "code",
   "execution_count": 85,
   "id": "d54996c1-9614-4961-882f-3f2acf84b458",
   "metadata": {},
   "outputs": [
    {
     "name": "stdout",
     "output_type": "stream",
     "text": [
      "{'a': 1, 'b': 2, 'c': 3}\n"
     ]
    }
   ],
   "source": [
    "# 딕셔너리 생성1\n",
    "dct = {'a': 1, 'b': 2, 'c': 3}\n",
    "print(dct)"
   ]
  },
  {
   "cell_type": "code",
   "execution_count": 86,
   "id": "8f4501a8-b30b-46f2-a489-1548b81e1691",
   "metadata": {},
   "outputs": [
    {
     "name": "stdout",
     "output_type": "stream",
     "text": [
      "{'a': 1, 'b': 2, 'c': 3}\n"
     ]
    }
   ],
   "source": [
    "# 딕셔너리 생성2\n",
    "dct = dict(a=1, b=2, c=3)\n",
    "print(dct)"
   ]
  },
  {
   "cell_type": "code",
   "execution_count": 87,
   "id": "3d1911d9-5f0f-48f6-8183-c79862e2f0fa",
   "metadata": {},
   "outputs": [
    {
     "name": "stdout",
     "output_type": "stream",
     "text": [
      "{'a': 4, 'b': 5, 'c': 3}\n"
     ]
    }
   ],
   "source": [
    "# 딕셔너리 생성3 : 키는 중복될 수 없음\n",
    "dct = {'a':1, 'b': 2, 'c': 3, 'a': 4, 'b': 5}\n",
    "print(dct)"
   ]
  },
  {
   "cell_type": "code",
   "execution_count": 88,
   "id": "9755b6f8-3b67-4d59-9003-e1ad86165d7b",
   "metadata": {},
   "outputs": [
    {
     "name": "stdout",
     "output_type": "stream",
     "text": [
      "{'x': 100, 'y': 200}\n"
     ]
    }
   ],
   "source": [
    "# 딕셔너리 생성4 : (key, value) 쌍의 리스트 사용\n",
    "dct = dict([('x', 100), ('y', 200)])\n",
    "print(dct)"
   ]
  },
  {
   "cell_type": "code",
   "execution_count": 89,
   "id": "bdf002f8-ef0c-46b9-9a2b-4cad897a4e31",
   "metadata": {},
   "outputs": [
    {
     "name": "stdout",
     "output_type": "stream",
     "text": [
      "{'name': 'Alice', 'age': 28, 'city': 'Jeonju'}\n"
     ]
    }
   ],
   "source": [
    "# 딕셔너리 생성5 : zip() 함수 사용\n",
    "keys = ['name', 'age', 'city']\n",
    "values = ['Alice', 28, 'Jeonju']\n",
    "dct = dict(zip(keys, values))\n",
    "print(dct)"
   ]
  },
  {
   "cell_type": "code",
   "execution_count": 90,
   "id": "c042a944-cda9-4e54-8f88-de6eb93602fa",
   "metadata": {},
   "outputs": [
    {
     "name": "stdout",
     "output_type": "stream",
     "text": [
      "{0: 'apple', 1: 'banana', 2: 'cherry'}\n"
     ]
    }
   ],
   "source": [
    "# 딕셔너리 생성6 : enumerate() 함수 사용\n",
    "fruits = ['apple', 'banana', 'cherry']\n",
    "dct = dict(enumerate(fruits))\n",
    "print(dct)"
   ]
  },
  {
   "cell_type": "markdown",
   "id": "f4d67e64-cb37-4d5e-afb0-b85f81fd4f11",
   "metadata": {},
   "source": [
    "<br>\n",
    "\n",
    "### 3.5.2. 딕셔너리 값 접근\n",
    "+ 딕셔너리는 키를 사용하여 값에 접근함\n",
    "+ 리스트, 튜플처럼 정수 인덱스를 이용한 접근은 불가능함\n",
    "\n",
    "<br>"
   ]
  },
  {
   "cell_type": "code",
   "execution_count": 91,
   "id": "a2897c72-15db-453c-8e64-7da468061f54",
   "metadata": {},
   "outputs": [
    {
     "name": "stdout",
     "output_type": "stream",
     "text": [
      "Alice\n",
      "28\n"
     ]
    }
   ],
   "source": [
    "# 키를 이용한 값 접근\n",
    "info = {'name': 'Alice', 'age': 28, 'city': 'Jeonju'}\n",
    "print(info['name'])\n",
    "print(info['age'])"
   ]
  },
  {
   "cell_type": "code",
   "execution_count": 92,
   "id": "c5c66f61-1a4d-4c11-b9c5-fcf72b012629",
   "metadata": {},
   "outputs": [
    {
     "name": "stdout",
     "output_type": "stream",
     "text": [
      "{'name': 'Alice', 'age': 28, 'city': 'Iksan'}\n"
     ]
    }
   ],
   "source": [
    "# 딕셔너리는 가변형 객체이므로 키를 이용한 수정이 가능함\n",
    "info = {'name': 'Alice', 'age': 28, 'city': 'Jeonju'}\n",
    "info['city'] = 'Iksan'\n",
    "print(info)"
   ]
  },
  {
   "cell_type": "code",
   "execution_count": 93,
   "id": "c7155cd4-d769-43ce-b3ad-d72614acc279",
   "metadata": {},
   "outputs": [
    {
     "name": "stdout",
     "output_type": "stream",
     "text": [
      "{'name': 'Alice', 'age': 28, 'city': 'Jeonju', 'email': 'alice123@gmail.com'}\n"
     ]
    }
   ],
   "source": [
    "# 새로운 키-값 쌍 추가\n",
    "info = {'name': 'Alice', 'age': 28, 'city': 'Jeonju'}\n",
    "info['email'] = 'alice123@gmail.com'\n",
    "print(info)"
   ]
  },
  {
   "cell_type": "markdown",
   "id": "48c60224-ad17-4bdb-a607-af2aad275968",
   "metadata": {},
   "source": [
    "<br>\n",
    "\n",
    "### 3.5.3. 딕셔너리 메소드\n",
    "#### 3.5.3.1. 딕셔너리 조회\n",
    "|함수|설명|\n",
    "|:---:|:------------|\n",
    "|keys()|딕셔너리의 모든 키를 반환(`dict_keys` 객체)|\n",
    "|values()|딕셔너리의 모든 값을 반환(`dict_values` 객체)|\n",
    "|items()|(키, 값) 쌍을 튜플 형태로 반환(`dict_items` 객체)|\n",
    "|get()|지정한 키의 값을 반환하며, 없으면 None 반환|\n",
    "|in 연산자|특정 키가 딕셔너리에 있다면 True, 없다면 False 반환|\n",
    "\n",
    "<br>"
   ]
  },
  {
   "cell_type": "code",
   "execution_count": 94,
   "id": "537184eb-8755-4b44-9e0f-cb28b0d9f167",
   "metadata": {},
   "outputs": [
    {
     "name": "stdout",
     "output_type": "stream",
     "text": [
      "['name', 'age', 'city']\n"
     ]
    }
   ],
   "source": [
    "# 모든 키\n",
    "info = {'name': 'Alice', 'age': 28, 'city': 'Jeonju'}\n",
    "print(list(info.keys()))"
   ]
  },
  {
   "cell_type": "code",
   "execution_count": 95,
   "id": "07a77a41-c564-445b-abb5-76f12f712186",
   "metadata": {},
   "outputs": [
    {
     "name": "stdout",
     "output_type": "stream",
     "text": [
      "['Alice', 28, 'Jeonju']\n"
     ]
    }
   ],
   "source": [
    "# 모든 값\n",
    "info = {'name': 'Alice', 'age': 28, 'city': 'Jeonju'}\n",
    "print(list(info.values()))"
   ]
  },
  {
   "cell_type": "code",
   "execution_count": 96,
   "id": "1141e7e2-4f8a-43d1-8150-ad331da9210f",
   "metadata": {},
   "outputs": [
    {
     "name": "stdout",
     "output_type": "stream",
     "text": [
      "[('name', 'Alice'), ('age', 28), ('city', 'Jeonju')]\n"
     ]
    }
   ],
   "source": [
    "# (키, 값) 쌍\n",
    "info = {'name': 'Alice', 'age': 28, 'city': 'Jeonju'}\n",
    "print(list(info.items()))"
   ]
  },
  {
   "cell_type": "code",
   "execution_count": 97,
   "id": "7d751c8b-ea40-4160-966c-1d5eb2686e85",
   "metadata": {},
   "outputs": [
    {
     "name": "stdout",
     "output_type": "stream",
     "text": [
      "Alice\n",
      "None\n"
     ]
    }
   ],
   "source": [
    "# 키를 이용한 값 조회\n",
    "info = {'name': 'Alice', 'age': 28, 'city': 'Jeonju'}\n",
    "print(info.get('name'))\n",
    "print(info.get('email'))"
   ]
  },
  {
   "cell_type": "code",
   "execution_count": 98,
   "id": "153e7745-1c1f-47b2-abb8-9116c08f9e86",
   "metadata": {},
   "outputs": [
    {
     "name": "stdout",
     "output_type": "stream",
     "text": [
      "True\n",
      "False\n"
     ]
    }
   ],
   "source": [
    "# 특정 키 찾기\n",
    "info = {'name': 'Alice', 'age': 28, 'city': 'Jeonju'}\n",
    "print('age' in info)\n",
    "print('email' in info)"
   ]
  },
  {
   "cell_type": "markdown",
   "id": "34b1bbc2-0ac6-44fa-bb3d-923f9bb13e27",
   "metadata": {},
   "source": [
    "<br>\n",
    "\n",
    "#### 3.5.3.2. 딕셔너리 추가/삭제\n",
    "|함수|설명|\n",
    "|:---:|:------------|\n",
    "|update()|다른 딕셔너리나 키워드 인수를 이용하여 원소를 추가 및 수정|\n",
    "|pop()|특정 키의 값을 삭제하고 그 값을 반환하며, 키가 없으면 오류 발생|\n",
    "|popitem()|마지막 (키, 값) 쌍을 삭제하고 반환|\n",
    "|del 키워드|특정 키의 원소를 삭제하며, 키가 없으면 오류 발생|\n",
    "|clear()|딕셔너리의 모든 원소를 삭제|\n",
    "\n",
    "<br>"
   ]
  },
  {
   "cell_type": "code",
   "execution_count": 99,
   "id": "76b6f9d3-e962-441f-8df2-6886a707e2f9",
   "metadata": {},
   "outputs": [
    {
     "name": "stdout",
     "output_type": "stream",
     "text": [
      "{'name': 'Alice', 'age': 29, 'city': 'Jeonju'}\n"
     ]
    }
   ],
   "source": [
    "# 원소 추가 및 수정1\n",
    "info = {'name': 'Alice', 'age': 28}\n",
    "info.update({'age': 29, 'city': 'Jeonju'})\n",
    "print(info)"
   ]
  },
  {
   "cell_type": "code",
   "execution_count": 100,
   "id": "01d2788d-ac9a-4fdb-aec7-dc5d0045d8ee",
   "metadata": {},
   "outputs": [
    {
     "name": "stdout",
     "output_type": "stream",
     "text": [
      "{'name': 'Alice', 'age': 29, 'city': 'Jeonju'}\n"
     ]
    }
   ],
   "source": [
    "# 원소 추가 및 수정2\n",
    "info = {'name': 'Alice', 'age': 28}\n",
    "info.update(age=29, city='Jeonju')\n",
    "print(info)"
   ]
  },
  {
   "cell_type": "code",
   "execution_count": 101,
   "id": "e02342dc-c84d-40bd-aba8-8255f34a16c2",
   "metadata": {},
   "outputs": [
    {
     "name": "stdout",
     "output_type": "stream",
     "text": [
      "{'name': 'Alice', 'city': 'Jeonju'}\n",
      "28\n"
     ]
    }
   ],
   "source": [
    "# 특정 키의 값 삭제1\n",
    "info = {'name': 'Alice', 'age': 28, 'city': 'Jeonju'}\n",
    "age = info.pop('age')\n",
    "print(info)\n",
    "print(age)"
   ]
  },
  {
   "cell_type": "code",
   "execution_count": 102,
   "id": "cca9685f-c62c-4518-b1ab-296a59cf1343",
   "metadata": {},
   "outputs": [],
   "source": [
    "# 특정 키의 값 삭제2\n",
    "#info = {'name': 'Alice', 'age': 28, 'city': 'Jeonju'}\n",
    "#age = info.pop('email')\n",
    "#print(info)\n",
    "#print(email)"
   ]
  },
  {
   "cell_type": "code",
   "execution_count": 103,
   "id": "8bbb1404-f97a-430e-8f79-63a20d6db613",
   "metadata": {},
   "outputs": [
    {
     "name": "stdout",
     "output_type": "stream",
     "text": [
      "{'name': 'Alice', 'age': 28}\n",
      "('city', 'Jeonju')\n"
     ]
    }
   ],
   "source": [
    "# 마지막 (키, 값) 쌍 삭제\n",
    "info = {'name': 'Alice', 'age': 28, 'city': 'Jeonju'}\n",
    "last_item = info.popitem()\n",
    "print(info)\n",
    "print(last_item)"
   ]
  },
  {
   "cell_type": "code",
   "execution_count": 104,
   "id": "35b069fd-105d-4d3a-9f18-5b65f12c306d",
   "metadata": {},
   "outputs": [
    {
     "name": "stdout",
     "output_type": "stream",
     "text": [
      "{'name': 'Alice', 'city': 'Jeonju'}\n"
     ]
    }
   ],
   "source": [
    "# 특정 키의 원소 삭제1\n",
    "info = {'name': 'Alice', 'age': 28, 'city': 'Jeonju'}\n",
    "del info['age']\n",
    "print(info)"
   ]
  },
  {
   "cell_type": "code",
   "execution_count": 105,
   "id": "3eb19672-2eaa-4bc4-a55f-abee44bf81c6",
   "metadata": {},
   "outputs": [],
   "source": [
    "# 특정 키의 원소 삭제2\n",
    "#info = {'name': 'Alice', 'age': 28, 'city': 'Jeonju'}\n",
    "#del info['email']\n",
    "#print(info)"
   ]
  }
 ],
 "metadata": {
  "kernelspec": {
   "display_name": "Python 3 (ipykernel)",
   "language": "python",
   "name": "python3"
  },
  "language_info": {
   "codemirror_mode": {
    "name": "ipython",
    "version": 3
   },
   "file_extension": ".py",
   "mimetype": "text/x-python",
   "name": "python",
   "nbconvert_exporter": "python",
   "pygments_lexer": "ipython3",
   "version": "3.9.21"
  }
 },
 "nbformat": 4,
 "nbformat_minor": 5
}
