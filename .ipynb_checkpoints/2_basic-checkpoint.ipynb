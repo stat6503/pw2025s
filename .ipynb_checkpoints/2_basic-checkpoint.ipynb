{
 "cells": [
  {
   "cell_type": "markdown",
   "id": "af312844-c9e4-4318-893c-459e47b7760a",
   "metadata": {},
   "source": [
    "<h1>2. 기초 문법</h1>\n",
    "<br>"
   ]
  },
  {
   "cell_type": "markdown",
   "id": "c3e79f1a-8336-4bff-8ae5-d9feac9f7c7f",
   "metadata": {},
   "source": [
    "## 2.1. 변수\n",
    "+ 변수\n",
    "  + 프로그램이 실행되는 동안 값을 저장하는 공간\n",
    "  + 하나의 프로그램에서 여러 개의 변수를 만들어 사용할 수 있으며, 각 변수를 구분하기 위해 변수마다 이름을 붙여 관리함\n",
    "  + 변수에는 언제든지 새로운 값을 저장할 수 있음\n",
    "\n",
    "<br>\n",
    "\n",
    "+ 대입 연산자 `=`\n",
    "  + 변수에 값을 저장할 때 사용하는 연산자로, 할당 연산자라고도 함\n",
    "  + `=` 기호 오른쪽의 값을 `=` 기호 왼쪽의 변수에 저장한다는 의미\n",
    "\n",
    "<br>"
   ]
  },
  {
   "cell_type": "code",
   "execution_count": 1,
   "id": "e9170e4a-8569-4964-9672-e33a514bbd0d",
   "metadata": {},
   "outputs": [
    {
     "name": "stdout",
     "output_type": "stream",
     "text": [
      "20\n"
     ]
    }
   ],
   "source": [
    "# 변수에 값을 저장하고 출력\n",
    "age = 20\n",
    "print(age)"
   ]
  },
  {
   "cell_type": "code",
   "execution_count": 2,
   "id": "b8940322-820b-42b5-ac8f-ed4281c5317c",
   "metadata": {},
   "outputs": [
    {
     "name": "stdout",
     "output_type": "stream",
     "text": [
      "21\n"
     ]
    }
   ],
   "source": [
    "# 변수에 저장된 값 변경\n",
    "age = 21\n",
    "print(age)"
   ]
  },
  {
   "cell_type": "code",
   "execution_count": 3,
   "id": "9f90272a-3379-4b62-bf60-6d0427361ffe",
   "metadata": {},
   "outputs": [
    {
     "name": "stdout",
     "output_type": "stream",
     "text": [
      "7\n",
      "7\n",
      "7\n"
     ]
    }
   ],
   "source": [
    "# 여러 변수에 값 대입\n",
    "a = b = c = 7\n",
    "print(a)\n",
    "print(b)\n",
    "print(c)"
   ]
  },
  {
   "cell_type": "code",
   "execution_count": 4,
   "id": "fae92977-ac10-4a5d-a638-9a8fb2d1c87a",
   "metadata": {},
   "outputs": [
    {
     "name": "stdout",
     "output_type": "stream",
     "text": [
      "7\n",
      "11\n",
      "19\n"
     ]
    }
   ],
   "source": [
    "# 코드 한 줄에서 여러 개의 변수에 각각 다른 값을 한번에 대입할 수 있음\n",
    "a, b, c = 7, 11, 19\n",
    "print(a)\n",
    "print(b)\n",
    "print(c)"
   ]
  },
  {
   "cell_type": "code",
   "execution_count": 5,
   "id": "797f2bad-694c-4aab-b23f-2d95dfeafbba",
   "metadata": {},
   "outputs": [
    {
     "name": "stdout",
     "output_type": "stream",
     "text": [
      "11 7\n"
     ]
    }
   ],
   "source": [
    "# 일반적인 프로그래밍 언어에서 두 변수의 값 교환\n",
    "a = 7\n",
    "b = 11\n",
    "tmp = a\n",
    "a = b\n",
    "b = tmp\n",
    "print(a, b)"
   ]
  },
  {
   "cell_type": "code",
   "execution_count": 6,
   "id": "5e0caf63-fb30-4c79-b856-d2f379c14f1b",
   "metadata": {},
   "outputs": [
    {
     "name": "stdout",
     "output_type": "stream",
     "text": [
      "11 7\n"
     ]
    }
   ],
   "source": [
    "# Python에서는 임시변수 없이 두 변수의 값을 쉽게 교환할 수 있음 (패킹과 언패킹)\n",
    "a = 7\n",
    "b = 11\n",
    "a, b = b, a\n",
    "print(a, b)"
   ]
  },
  {
   "cell_type": "markdown",
   "id": "dd390603-c6e1-4f8b-b481-43d57f841203",
   "metadata": {},
   "source": [
    "<br>\n",
    "\n",
    "+ 변수명 작성 규칙\n",
    "  + 변수가 어떤 용도로 쓰이는지 잘 설명하는 이름으로 만드는 것이 좋음\n",
    "  + 첫 번째 글자는 문자 또는 `_`이어야 하고, 나머지 글자는 문자, 숫자, `_`이어야 함\n",
    "  + 영문 대문자와 소문자를 구분함\n",
    "  + 키워드(예약어; keyword)는 사용할 수 없음\n",
    "    + 키워드 : 프로그래밍 언어에서 사용하기 위해 쓰임새를 미리 정해 놓은 단어\n",
    "   \n",
    "<br>"
   ]
  },
  {
   "cell_type": "code",
   "execution_count": 7,
   "id": "180681ca-23c1-4af4-86e5-441f0f91861c",
   "metadata": {},
   "outputs": [
    {
     "name": "stdout",
     "output_type": "stream",
     "text": [
      "['False', 'None', 'True', '__peg_parser__', 'and', 'as', 'assert', 'async', 'await', 'break', 'class', 'continue', 'def', 'del', 'elif', 'else', 'except', 'finally', 'for', 'from', 'global', 'if', 'import', 'in', 'is', 'lambda', 'nonlocal', 'not', 'or', 'pass', 'raise', 'return', 'try', 'while', 'with', 'yield']\n"
     ]
    }
   ],
   "source": [
    "import keyword\n",
    "print(keyword.kwlist)"
   ]
  },
  {
   "cell_type": "markdown",
   "id": "597cac02-a80b-479a-955a-588ac6ca6e27",
   "metadata": {},
   "source": [
    "<br>\n",
    "\n",
    "## 2.2. 자료형\n",
    "+ 기본 자료형\n",
    "  + 단순한 값을 저장하는 자료형\n",
    "  + (예) 정수(1,2,3,...), 부동소수점수(1.23, 3.14, ...), 복소수(2+3j), 문자열(\"Hello\"), bool(True, False)\n",
    "+ 구조적 자료형\n",
    "  + 여러 개의 값을 담을 수 있는 자료형\n",
    "  + (예) 리스트(list), 튜플(tuple), 세트(set), 딕셔너리(dictionary)\n",
    "+ `type()` 함수를 이용하여 자료형을 확인할 수 있음\n",
    "\n",
    "<br>"
   ]
  },
  {
   "cell_type": "code",
   "execution_count": 8,
   "id": "cb9aa1f4-6d8e-4d36-9c93-0c930d680b1c",
   "metadata": {},
   "outputs": [
    {
     "name": "stdout",
     "output_type": "stream",
     "text": [
      "20 28 161 14\n",
      "<class 'int'>\n"
     ]
    }
   ],
   "source": [
    "# 정수형\n",
    "a = 20                      # 10진수\n",
    "b = 0o34                    # 8진수\n",
    "c = 0xA1                    # 16진수\n",
    "d = 0b1110                  # 2진수\n",
    "print(a, b, c, d)\n",
    "print(type(a))"
   ]
  },
  {
   "cell_type": "code",
   "execution_count": 9,
   "id": "79cb0f1c-d00f-4c03-87a1-253a4d817e61",
   "metadata": {},
   "outputs": [
    {
     "name": "stdout",
     "output_type": "stream",
     "text": [
      "3.14 123000.0\n",
      "<class 'float'>\n"
     ]
    }
   ],
   "source": [
    "# 부동소수점수형\n",
    "a = 3.14\n",
    "b = 1.23e5                  # 지수 표현 방식\n",
    "print(a, b)\n",
    "print(type(a))"
   ]
  },
  {
   "cell_type": "code",
   "execution_count": 10,
   "id": "ecb69c04-5729-4b72-bd01-573cd2786af8",
   "metadata": {},
   "outputs": [
    {
     "name": "stdout",
     "output_type": "stream",
     "text": [
      "Hello Python\n",
      "<class 'str'>\n"
     ]
    }
   ],
   "source": [
    "# 문자열형\n",
    "a = 'Hello'\n",
    "b = \"Python\"\n",
    "print(a, b)\n",
    "print(type(a))"
   ]
  },
  {
   "cell_type": "code",
   "execution_count": 11,
   "id": "43a0f15e-93d6-4590-9829-15843bd87159",
   "metadata": {},
   "outputs": [
    {
     "name": "stdout",
     "output_type": "stream",
     "text": [
      "False\n",
      "<class 'bool'>\n"
     ]
    }
   ],
   "source": [
    "# bool형\n",
    "a = 10>20\n",
    "print(a)\n",
    "print(type(a))"
   ]
  },
  {
   "cell_type": "markdown",
   "id": "7646231e-6811-4bee-8513-6f6e8ff635ee",
   "metadata": {},
   "source": [
    "<br>\n",
    "\n",
    "## 2.3. 표준 입출력\n",
    "+ 입력\n",
    "  + 사용자로부터 데이터를 입력받기 위해 `input()` 함수를 이용함\n",
    "  + `input()` 함수는 안내문을 출력한 후 사용자의 입력을 기다리며, 입력한 데이터를 문자열 형식으로 반환함\n",
    "  + 입력한 값을 숫자로 사용하려면 `int()`, `float()` 함수를 이용하여 자료형 변환을 해야 함\n",
    "  + `변수 = input(안내문)`\n",
    "\n",
    "<br>\n",
    "\n",
    "+ 출력\n",
    "  + 데이터를 출력하기 위해 `print()` 함수를 이용함\n",
    "  + 여러 개의 값을 출력하려면 `,`로 구분한 값을 나열하면 됨\n",
    "\n",
    "<br>"
   ]
  },
  {
   "cell_type": "code",
   "execution_count": 12,
   "id": "d97318fb-1eb1-47cd-85f9-8f98b1363600",
   "metadata": {},
   "outputs": [],
   "source": [
    "# 문자열 입력\n",
    "#name = input(\"이름: \")\n",
    "#age = input(\"나이: \")\n",
    "#print(name, \"나이:\", age)"
   ]
  },
  {
   "cell_type": "code",
   "execution_count": 13,
   "id": "064bdc10-604a-4921-98be-87ab6bafd648",
   "metadata": {},
   "outputs": [],
   "source": [
    "# 정수 형식의 문자열 입력\n",
    "# input 함수를 통해서 입력받은 데이터는 문자열형임\n",
    "# 따라서 int() 함수를 이용하여 정수 형식의 문자열을 정수로 변환해야 함\n",
    "#a = int(input(\"정수: \"))\n",
    "#b = int(input(\"정수: \"))\n",
    "#print(a-b)"
   ]
  },
  {
   "cell_type": "code",
   "execution_count": 14,
   "id": "1bc32578-bf79-4eba-bf19-ff9a751e6d38",
   "metadata": {},
   "outputs": [],
   "source": [
    "# 부동소수점 형식의 문자열 입력\n",
    "# float() 함수를 이용하여 부동소수점수 형식의 문자열을 부동소수점수로 변환함\n",
    "#minute = float(input(\"분 단위 시간: \"))\n",
    "#second = minute * 60\n",
    "#print(second, \"초\")"
   ]
  },
  {
   "cell_type": "code",
   "execution_count": 15,
   "id": "71466d5c-1722-4794-acb1-fb0511ddf872",
   "metadata": {},
   "outputs": [
    {
     "name": "stdout",
     "output_type": "stream",
     "text": [
      "안녕하세요.\n",
      "나이는 25 입니다.\n"
     ]
    }
   ],
   "source": [
    "# 문자열 출력\n",
    "print(\"안녕하세요.\")\n",
    "age = 25\n",
    "print(\"나이는\", age, \"입니다.\")"
   ]
  },
  {
   "cell_type": "code",
   "execution_count": 16,
   "id": "d46afba8-6016-4fbd-9d42-e75f5388ef60",
   "metadata": {},
   "outputs": [
    {
     "name": "stdout",
     "output_type": "stream",
     "text": [
      "25\n",
      "42\n"
     ]
    }
   ],
   "source": [
    "# print() 함수가 여러 개일 때는 다음 줄로 넘어가서 값을 출력함\n",
    "a = 25\n",
    "b = 42\n",
    "print(a)\n",
    "print(b)"
   ]
  },
  {
   "cell_type": "code",
   "execution_count": 17,
   "id": "f2d6a2e6-22df-40f6-93da-3c3931a04e45",
   "metadata": {},
   "outputs": [
    {
     "name": "stdout",
     "output_type": "stream",
     "text": [
      "25 42\n"
     ]
    }
   ],
   "source": [
    "# print() 함수가 여러 개일 때 다음 줄로 넘어가는 대신 공백이 출력되기를 원하면 end 매개변수를 공백으로 설정함\n",
    "a = 25\n",
    "b = 42\n",
    "print(a, end=' ')\n",
    "print(b)"
   ]
  },
  {
   "cell_type": "markdown",
   "id": "feb1333e-19b5-49ec-ae40-783764deea7c",
   "metadata": {},
   "source": [
    "<br>\n",
    "\n",
    "+ f-string 포맷팅\n",
    "  + 문자열 맨 앞에 f 또는 F를 붙이고, `{}` 안에 변수명을 직접 작성하여 출력하는 방식\n",
    "  + 가독성이 좋고 사용 방법이 간단하여 자주 사용됨\n",
    "\n",
    "<br>"
   ]
  },
  {
   "cell_type": "code",
   "execution_count": 18,
   "id": "cb5a6472-b505-4928-ad7c-7da62f02cc93",
   "metadata": {},
   "outputs": [
    {
     "name": "stdout",
     "output_type": "stream",
     "text": [
      "이름은 홍길동이고, 나이는 20입니다.\n"
     ]
    }
   ],
   "source": [
    "# f-string 사용\n",
    "name = \"홍길동\"\n",
    "age = 20\n",
    "print(f\"이름은 {name}이고, 나이는 {age}입니다.\")"
   ]
  },
  {
   "cell_type": "code",
   "execution_count": 19,
   "id": "860b7cde-b8d2-4d26-97bf-e0b6aa9c7596",
   "metadata": {},
   "outputs": [
    {
     "name": "stdout",
     "output_type": "stream",
     "text": [
      "홍길동  ,  20\n",
      "2004\n",
      "3.142\n"
     ]
    }
   ],
   "source": [
    "# f-string 출력 형식 지정\n",
    "# 변수 이름 옆에 :을 작성한 다음 형식을 지정함\n",
    "name = \"홍길동\"\n",
    "age = 20\n",
    "print(f\"{name:5}, {age:3}\")\n",
    "\n",
    "a = 4\n",
    "b = 3.14159265\n",
    "print(f\"20{a:02d}\")                        # a 값을 두자리로 출력하되 앞의 빈곳은 0으로 채움\n",
    "print(f\"{b:.3f}\")                          # b 값을 소수점 이하 세자리로 반올림하여 출력"
   ]
  },
  {
   "cell_type": "markdown",
   "id": "019efd36-ca20-4879-8dc5-cbeb606e5560",
   "metadata": {},
   "source": [
    "<br>\n",
    "\n",
    "## 2.4. 연산자\n",
    "+ 연산(operation) : 덧셈, 뺄셈 등과 같이 일정한 규칙에 따라 계산하는 것\n",
    "\n",
    "<br>\n",
    "\n",
    "### 2.4.1. 산술 연산자\n",
    "|연산자|설명|예시|결과|\n",
    "|:---:|:---:|:---:|:---:|\n",
    "|+|더하기|print(6+4)|10|\n",
    "|-|빼기|print(6-4)|2|\n",
    "|*|곱하기|print(6*4)|24|\n",
    "|/|나누기|print(6/4)|1.5|\n",
    "|//|나눈 정수 몫|print(6//4)|1|\n",
    "|%|나눈 나머지|print(6%4)|2|\n",
    "|**|거듭제곱|print(6**4)|1296|\n",
    "\n",
    "<br>\n",
    "\n",
    "### 2.4.2. 비교 연산자\n",
    "+ 크기를 비교할 때 사용하는 연산자\n",
    "+ 연산 결과는 참(True) 또는 거짓(False)으로 나타남\n",
    "\n",
    "|연산자|설명|예시|결과|\n",
    "|:---:|:---:|:---:|:---:|\n",
    "|==|같다|print(10==20)|False|\n",
    "|!=|같지 않다|print(10!=20)|True|\n",
    "|>|크다|print(10>20)|False|\n",
    "|<|작다|print(10<20)|True|\n",
    "|>=|크거나 같다|print(10>=20)|False|\n",
    "|<=|작거나 같다|print(10<=20)|True|\n",
    "\n",
    "<br>\n",
    "\n",
    "### 2.4.3. 논리 연산자\n",
    "+ 참과 거짓의 논리 동작을 다루는 연산\n",
    "+ 여러 조건을 조합할 때 주로 사용함\n",
    "\n",
    "|연산자|설명|예시|결과|\n",
    "|:---:|:------------------|:------|:---:|\n",
    "|and|왼쪽 식과 오른쪽 식 모두 참인 경우에만 True|a=25 <br>print(a>8 and a<60)|True|\n",
    "|or|왼쪽 식과 오른쪽 식 중 하나라도 참인 경우에만 True|a=70 <br>print(a<8 or a>=60)|True|\n",
    "|not|오른쪽 식이 참이면 False, 거짓이면 True|a=20 <br>print(not a==20)|False|\n",
    "\n",
    "<br>\n",
    "\n",
    "### 2.4.4. 복합 대입 연산자\n",
    "+ 연산한 값을 다시 대입하는 연산자\n",
    "\n",
    "|연산자|설명|예시|결과|\n",
    "|:---:|:------------------|:---|:---:|\n",
    "|+=|왼쪽 값에 오른쪽 값을 더한 결과를 다시 왼쪽에 대입|a, b = 2, 3 <br>a += b <br> print(a)|5|\n",
    "|-=|왼쪽 값에 오른쪽 값을 뺀 결과를 다시 왼쪽에 대입|a, b = 2, 3 <br>a -= b <br> print(a)|-1|\n",
    "|*=|왼쪽 값에 오른쪽 값을 곱한 결과를 다시 왼쪽에 대입|a, b = 2, 3 <br>a *= b <br> print(a)|6|\n",
    "|/=|왼쪽 값에 오른쪽 값을 나눈 결과를 다시 왼쪽에 대입|a, b = 3, 2 <br>a /= b <br> print(a)|1.5|\n",
    "|//=|왼쪽 값에 오른쪽 값을 나눈 몫을 다시 왼쪽에 대입|a, b = 7, 3 <br>a //= b <br> print(a)|2|\n",
    "|%=|왼쪽 값에 오른쪽 값을 나눈 나머지를 다시 왼쪽에 대입|a, b = 7, 3 <br>a %= b <br> print(a)|1|\n",
    "\n",
    "<br>\n",
    "\n",
    "### 2.4.5. 연산자 우선순위\n",
    "+ 프로그래밍 언어는 연산자에 우선순위를 부여하여 우선순위가 높은 연산자를 먼저 계산함\n",
    "+ 우선순위에 관계없이 연산의 순서를 정하려면 괄호 `()`를 사용함\n",
    "\n",
    "|우선순위|연산자|설명|\n",
    "|:---:|:---:|:---:|\n",
    "|1|**|거듭제곱 연산자|\n",
    "|2|+, -|양수, 음수를 나타내는 단항 연산자|\n",
    "|3|*, /, //, %|곱셈, 나눗셈, 나눈 몫, 나머지|\n",
    "|4|+, -|덧셈, 뺄셈|\n",
    "|5|<, <=, >, >=|비교 연산자|\n",
    "|6|==, !=|동등 연산자|\n",
    "|7|=, +=, -=, /=, //=, %=, **=|대입 연산자|\n",
    "|8|not|논리 연산자|\n",
    "|9|and|논리 연산자|\n",
    "|10|or|논리 연산자|\n",
    "\n",
    "<br>"
   ]
  },
  {
   "cell_type": "code",
   "execution_count": 20,
   "id": "e70dc6b3-149f-4453-8f65-579085504c41",
   "metadata": {},
   "outputs": [
    {
     "name": "stdout",
     "output_type": "stream",
     "text": [
      "180.0\n"
     ]
    }
   ],
   "source": [
    "# 정수 3개의 평균 계산(틀림)\n",
    "avg = 70 + 80 + 90 / 3\n",
    "print(avg)"
   ]
  },
  {
   "cell_type": "code",
   "execution_count": 21,
   "id": "b75210d1-e5a2-48a7-87f2-532922dc81e3",
   "metadata": {},
   "outputs": [
    {
     "name": "stdout",
     "output_type": "stream",
     "text": [
      "80.0\n"
     ]
    }
   ],
   "source": [
    "# 정수 3개의 평균 계산\n",
    "avg = (70 + 80 + 90) / 3\n",
    "print(avg)"
   ]
  },
  {
   "cell_type": "code",
   "execution_count": 22,
   "id": "d56071b3-faf9-464e-ab21-9eb35b1ea88c",
   "metadata": {},
   "outputs": [],
   "source": [
    "# 길이 단위 변환\n",
    "#_cm = int(input(\"센티미터 단위 길이: \"))\n",
    "#m = _cm // 100\n",
    "#cm = _cm % 100\n",
    "#print(f'{m}미터 {cm}센티미터')"
   ]
  },
  {
   "cell_type": "markdown",
   "id": "80990f6e-cda9-4314-b056-ad2ac888733c",
   "metadata": {},
   "source": [
    "<br>\n",
    "\n",
    "## 2.5. 조건문\n",
    "### 2.5.1. 프로그램 구조\n",
    "\n",
    "+ 프로그램 구조는 크게 순차 구조, 선택 구조, 반복 구조로 구분됨\n",
    "  + 순차 구조 : 위에서부터 아래로 순차적으로 실행되는 구조\n",
    "  + 선택 구조 : 조건에 따라 문장을 선택적으로 실행하는 구조로, 조건이 참(True)인지 거짓(False)인지에 따라 실행되는 문장이 달라짐\n",
    "  + 반복 구조 : 임의의 문장을 반복해서 실행하는 구조\n",
    "\n",
    "<br>\n",
    "\n",
    "![](./images/fig2-1.png){width=120%}\n",
    "\n",
    "<br>"
   ]
  },
  {
   "cell_type": "markdown",
   "id": "650e3a35-c58b-4c74-9331-a908ab43defe",
   "metadata": {},
   "source": [
    "<br>\n",
    "\n",
    "### 2.5.2. if 문\n",
    "\n",
    "> if 조건식: <br>\n",
    "> 　　문장\n",
    "\n",
    "<br>\n",
    "\n",
    "+ 조건식이 참이면 문장을 실행하고 거짓이면 문장을 실행하지 않음\n",
    "+ 조건식 오른쪽에 `:`이 위치하고, 참인 경우 실행될 문장은 반드시 <b>들여쓰기(indentation)</b>해야 함\n",
    "\n",
    "<br>\n",
    "\n",
    "![](./images/fig2-2.png)\n",
    "\n",
    "<br>"
   ]
  },
  {
   "cell_type": "code",
   "execution_count": 23,
   "id": "36b7c725-f0a2-4100-a9fc-bc23614f37f7",
   "metadata": {},
   "outputs": [
    {
     "name": "stdout",
     "output_type": "stream",
     "text": [
      "75 65\n"
     ]
    }
   ],
   "source": [
    "# 무작위로 1~100 사이의 두 정수를 생성한 후, 큰 수부터 작은 수 순으로 출력\n",
    "import random\n",
    "a = random.randint(1, 100)\n",
    "b = random.randint(1, 100)\n",
    "\n",
    "if a<b:\n",
    "    a, b = b, a\n",
    "\n",
    "print(a, b)"
   ]
  },
  {
   "cell_type": "markdown",
   "id": "fdf88d2c-64b4-4f2b-9320-6136742a9455",
   "metadata": {},
   "source": [
    "<br>\n",
    "\n",
    "### 2.5.3. if\\~else 문\n",
    "\n",
    "> if 조건식: <br>\n",
    "> 　　문장1 <br>\n",
    "> else: <br>\n",
    "> 　　문장2\n",
    "\n",
    "<br>\n",
    "\n",
    "+ 조건식이 참이면 문장1을 실행하고, 거짓이면 문장2를 실행함\n",
    "+ 조건식 오른쪽에 `:`이 위치하고, else 오른쪽에는 조건식 없이 `:`이 위치함\n",
    "+ 문장1과 문장2는 반드시 들여쓰기해야 함\n",
    "\n",
    "<br>\n",
    "\n",
    "![](./images/fig2-3.png)\n",
    "\n",
    "<br>"
   ]
  },
  {
   "cell_type": "code",
   "execution_count": 24,
   "id": "329cf410-d5ba-4eef-a494-62d9eb039ece",
   "metadata": {},
   "outputs": [
    {
     "name": "stdout",
     "output_type": "stream",
     "text": [
      "18는 짝수입니다\n"
     ]
    }
   ],
   "source": [
    "# 무작위로 1~100 사이의 정수를 생성한 후, 짝수인지 홀수인지 판단\n",
    "import random\n",
    "a = random.randint(1, 100)\n",
    "\n",
    "if a % 2 == 0:\n",
    "    print(f'{a}는 짝수입니다')\n",
    "else:\n",
    "    print(f'{a}는 홀수입니다')"
   ]
  },
  {
   "cell_type": "markdown",
   "id": "843deeec-3726-4c4e-9bc9-4e7a9775493b",
   "metadata": {},
   "source": [
    "<br>\n",
    "\n",
    "### 2.5.4. if\\~elif\\~else문\n",
    "\n",
    "> if 조건식1: <br>\n",
    "> 　　문장1 <br>\n",
    "> elif 조건식2: <br>\n",
    "> 　　문장2 <br>\n",
    "> else: <br>\n",
    "> 　　문장3\n",
    "\n",
    "<br>\n",
    "\n",
    "+ 조건식1이 거짓인 경우에 또 다른 선택구조를 연결하는 구조\n",
    "+ 조건식1이 참이면 문장1을 실행하고, 조건식1이 거짓이면서 조건식2가 참이면 문장2를 실행하고, 두 조건식 모두 거짓이면 문장3을 실행함\n",
    "+ 조건식1, 조건식2 오른쪽에 `:`이 위치하고, 문장1, 문장2, 문장3은 반드시 들여쓰기해야 함\n",
    "\n",
    "<br>\n",
    "\n",
    "![](./images/fig2-4.png)\n",
    "\n",
    "<br>"
   ]
  },
  {
   "cell_type": "code",
   "execution_count": 25,
   "id": "299436ac-ca18-4aac-a2e1-02c650df222b",
   "metadata": {},
   "outputs": [
    {
     "name": "stdout",
     "output_type": "stream",
     "text": [
      "입장료: 3500.0\n"
     ]
    }
   ],
   "source": [
    "# 놀이공원 기본 입장료는 5,000원임\n",
    "# 8세 미만은 기본 입장료 30% 할인, 65세 이상은 기본 입장료 20% 할인 적용함\n",
    "# 연령이 주어졌을 때, 놀이공원 입장료 산출\n",
    "fee = 5000\n",
    "age = 7\n",
    "\n",
    "if age < 8:\n",
    "    print('입장료:', fee*0.7)\n",
    "elif age < 65:\n",
    "    print('입장료:', fee)\n",
    "else:\n",
    "    print('입장료:', fee*0.8)"
   ]
  },
  {
   "cell_type": "markdown",
   "id": "ff10af92-d7d9-4955-9743-bcf8379c35dd",
   "metadata": {},
   "source": [
    "<br>\n",
    "\n",
    "## 2.6. 반복문\n",
    "### 2.6.1. for 문\n",
    "\n",
    "> for 반복변수 in 반복범위: <br>\n",
    "> 　　문장\n",
    "\n",
    "<br>\n",
    "\n",
    "+ 반복범위를 지정하여(정해진 횟수만큼) 반복해서 문장을 실행함\n",
    "+ 반복범위 오른쪽에는 `:`이 위치하고, 반복해서 실행할 문장은 반드시 **들여쓰기**해야 함\n",
    "+ 반복범위에는 범위, 문자열, 리스트, 딕셔너리 등이 사용될 수 있음\n",
    "  + 그 중 범위가 가장 많이 사용되며, `range()` 함수로 만들 수 있음\n",
    " \n",
    "|형식|설명|예시|결과|\n",
    "|:---------|:------------|:---:|:---:|\n",
    "|range(종료값)|0으로 시작해서 1씩 증가하며 종료값 전까지의 정수를 생성|range(5)|0,1,2,3,4|\n",
    "|range(시작값, 종료값)|시작값으로 시작해서 1씩 증가하며 종료값 전까지의 정수를 생성|rang(2,7)|2,3,4,5,6|\n",
    "|range(시작값, 종료값, 증가값)|시작값으로 시작해서 증가값만큼 증가시키면서 종료값 전까지의 정수를 생성|range(2,11,3)|2,5,8|\n",
    "\n",
    "<br>"
   ]
  },
  {
   "cell_type": "code",
   "execution_count": 26,
   "id": "9c30d16a-15a6-449b-bc40-a78c1aee09c5",
   "metadata": {},
   "outputs": [
    {
     "name": "stdout",
     "output_type": "stream",
     "text": [
      "Hello!\n",
      "Hello!\n",
      "Hello!\n"
     ]
    }
   ],
   "source": [
    "# 문자열을 3번 반복해서 출력\n",
    "for i in range(3):\n",
    "    print(\"Hello!\")"
   ]
  },
  {
   "cell_type": "code",
   "execution_count": 27,
   "id": "a5553865-c34c-4111-98f1-8fd41fba6dd2",
   "metadata": {},
   "outputs": [
    {
     "name": "stdout",
     "output_type": "stream",
     "text": [
      "0\n",
      "1\n",
      "2\n",
      "3\n",
      "4\n"
     ]
    }
   ],
   "source": [
    "# 반복범위의 값을 출력1\n",
    "for i in range(5):\n",
    "    print(i)"
   ]
  },
  {
   "cell_type": "code",
   "execution_count": 28,
   "id": "396ab534-d5fb-4101-9281-2d813ae1c60a",
   "metadata": {},
   "outputs": [
    {
     "name": "stdout",
     "output_type": "stream",
     "text": [
      "W\n",
      "o\n",
      "r\n",
      "l\n",
      "d\n"
     ]
    }
   ],
   "source": [
    "# 반복범위의 값을 출력2\n",
    "for i in \"World\":\n",
    "    print(i)"
   ]
  },
  {
   "cell_type": "code",
   "execution_count": 29,
   "id": "6ceca93c-99fa-421c-9e2d-6b4596075491",
   "metadata": {},
   "outputs": [
    {
     "name": "stdout",
     "output_type": "stream",
     "text": [
      "5050\n"
     ]
    }
   ],
   "source": [
    "# 1~100 정수의 합 계산\n",
    "sum = 0\n",
    "\n",
    "for i in range(1,101):\n",
    "    sum += i\n",
    "\n",
    "print(sum)"
   ]
  },
  {
   "cell_type": "code",
   "execution_count": 30,
   "id": "0a50eb0f-1602-413d-b837-dda179810bde",
   "metadata": {},
   "outputs": [
    {
     "name": "stdout",
     "output_type": "stream",
     "text": [
      "1 2 3 5 6 10 15 30 "
     ]
    }
   ],
   "source": [
    "# 30의 약수 출력\n",
    "num = 30\n",
    "\n",
    "for i in range(1, num+1):\n",
    "    if num%i == 0:\n",
    "        print(i, end=' ')"
   ]
  },
  {
   "cell_type": "markdown",
   "id": "f71dd3d8-c00d-47bb-9ec4-727d679d8dfa",
   "metadata": {},
   "source": [
    "<br>\n",
    "\n",
    "### 2.6.2. while 문\n",
    "\n",
    "> while 조건식: <br>\n",
    "> 　　문장\n",
    "\n",
    "<br>\n",
    "\n",
    "+ 조건이 참인 동안 문장을 반복해서 실행하고, 조건이 거짓이면 반복문을 종료함\n",
    "\n",
    "<br>"
   ]
  },
  {
   "cell_type": "code",
   "execution_count": 31,
   "id": "28fee882-dfc7-4cf3-b210-c6414629b59e",
   "metadata": {},
   "outputs": [
    {
     "name": "stdout",
     "output_type": "stream",
     "text": [
      "5050\n"
     ]
    }
   ],
   "source": [
    "# 1~100 정수의 합 계산\n",
    "sum = 0\n",
    "num = 1\n",
    "\n",
    "while num<=100:\n",
    "    sum += num\n",
    "    num += 1\n",
    "\n",
    "print(sum)"
   ]
  },
  {
   "cell_type": "code",
   "execution_count": 32,
   "id": "c228cead-db1a-4457-a2be-560b4e7feb39",
   "metadata": {
    "scrolled": true
   },
   "outputs": [
    {
     "name": "stdout",
     "output_type": "stream",
     "text": [
      "9x1=9\n",
      "9x2=18\n",
      "9x3=27\n",
      "9x4=36\n",
      "9x5=45\n",
      "9x6=54\n",
      "9x7=63\n",
      "9x8=72\n",
      "9x9=81\n"
     ]
    }
   ],
   "source": [
    "# 구구단 9단 출력\n",
    "num = 1\n",
    "\n",
    "while num<=9:\n",
    "    print(f'9x{num}={9*num}')\n",
    "    num += 1"
   ]
  },
  {
   "cell_type": "markdown",
   "id": "71ee4d69-a5c8-4c45-b0a1-955a3f7895a2",
   "metadata": {},
   "source": [
    "## 2.7. 함수\n",
    "### 2.7.1. 함수의 개념\n",
    "+ 함수(function)\n",
    "  + 특정한 기능을 수행하도록 미리 만들어 놓고, 필요할 때마다 호출하여 사용하는 일련의 코드\n",
    "  + Python에서 기본적으로 제공하는 **내장 함수**와 사용자가 직접 만들어서 사용할 수 있는 **사용자 정의 함수**가 있음\n",
    "\n",
    "<br>\n",
    "\n",
    "+ 함수의 장점\n",
    "  + 필요할 때마다 호출 가능 : 반복적으로 수행해야 하는 업무를 한 번만 작성해 놓고 필요할 때마다 호출하여 사용할 수 있음\n",
    "  + 논리적인 단위로 분할 가능 : (예) 도형 계산 프로그램 - 덧셈 코드, 곱셈 코드, 나눗셈 코드 등으로 나눔\n",
    "  + 코드의 캡슐화 가능 : 함수의 인터페이스만 잘 정의하면 다른 사람이 자신의 코드를 쉽게 가져다 사용할 수 있음\n",
    "\n",
    "<br>"
   ]
  },
  {
   "cell_type": "code",
   "execution_count": 33,
   "id": "423afe6a-64ae-4cc6-9b7d-b53e6670e872",
   "metadata": {},
   "outputs": [
    {
     "data": {
      "text/plain": [
       "10"
      ]
     },
     "execution_count": 33,
     "metadata": {},
     "output_type": "execute_result"
    }
   ],
   "source": [
    "# 절대값 반환 함수\n",
    "abs(-10)"
   ]
  },
  {
   "cell_type": "markdown",
   "id": "22c04a05-c9d6-4302-9976-576b744f7df9",
   "metadata": {},
   "source": [
    "<br>\n",
    "\n",
    "### 2.7.2. 함수 정의\n",
    "\n",
    "> def 함수명(매개변수1, 매개변수2, ...): <br>\n",
    "> 　　문장 <br>\n",
    "> 　　return 반환값\n",
    "\n",
    "<br>\n",
    "\n",
    "+ 함수명 작성 규칙\n",
    "  + 변수 이름 규칙과 동일함\n",
    "  + 일반적으로 소문자로 입력\n",
    "  + 작업을 나타내기 위해 동사와 명사를 함께 사용하는 경우가 많음 - (예) find_number\n",
    "  + 외부에 공개하는  함수일 경우 줄임말을 사용하지 않고 짧고 명료한 이름으로 정함\n",
    "\n",
    "<br>\n",
    "\n",
    "+ 매개변수(parameter)\n",
    "  + 함수에서 입력값으로 사용하는 변수로, 1개 이상의 값을 적을 수 있음\n",
    " \n",
    "<br>\n",
    "\n",
    "+ 함수 형태\n",
    "|구분|매개변수 ×|매개변수 ○|\n",
    "|:---:|:------------|:------------|\n",
    "|반환값 ×|함수 내부 명령문만 수행|매개변수를 사용하여 명령문만 수행|\n",
    "|반환값 ○|매개변수 없이 명령문을 수행한 후 결과값 반환|매개변수를 사용하여 명령문을 수행한 후 결과값 반환|\n",
    "\n",
    "<br>"
   ]
  },
  {
   "cell_type": "code",
   "execution_count": 34,
   "id": "ef6884f4-868e-4bb5-9f03-4143a59a0c59",
   "metadata": {},
   "outputs": [
    {
     "name": "stdout",
     "output_type": "stream",
     "text": [
      "함수 호출 전입니다\n",
      "함수입니다.\n",
      "함수 호출 후입니다\n"
     ]
    }
   ],
   "source": [
    "# 매개변수 ×, 반환값 ×\n",
    "def func():\n",
    "    print('함수입니다.')\n",
    "\n",
    "print('함수 호출 전입니다')\n",
    "func()\n",
    "print('함수 호출 후입니다')"
   ]
  },
  {
   "cell_type": "code",
   "execution_count": 35,
   "id": "0d2cbfdc-1796-40aa-9c6d-9ddffaad1851",
   "metadata": {},
   "outputs": [
    {
     "name": "stdout",
     "output_type": "stream",
     "text": [
      "30\n",
      "None\n"
     ]
    }
   ],
   "source": [
    "# 매개변수 ○, 반환값 ×\n",
    "def add1(x, y):\n",
    "    print(x+y)\n",
    "\n",
    "res1 = add1(10,20)\n",
    "print(res1)"
   ]
  },
  {
   "cell_type": "code",
   "execution_count": 36,
   "id": "19605660-9a69-4d1f-95c3-f7987aca3539",
   "metadata": {},
   "outputs": [
    {
     "name": "stdout",
     "output_type": "stream",
     "text": [
      "30\n"
     ]
    }
   ],
   "source": [
    "# 매개변수 ○, 반환값 ○\n",
    "def add2(x, y):\n",
    "    return x+y\n",
    "\n",
    "res2 = add2(10,20)\n",
    "print(res2)"
   ]
  },
  {
   "cell_type": "code",
   "execution_count": 37,
   "id": "44db8682-118a-40c5-b409-c638354e9c12",
   "metadata": {},
   "outputs": [
    {
     "data": {
      "text/plain": [
       "37.77777777777778"
      ]
     },
     "execution_count": 37,
     "metadata": {},
     "output_type": "execute_result"
    }
   ],
   "source": [
    "## 섭씨온도를 화씨온도로 변환하는 함수\n",
    "# (섭씨온도) = (화씨온도 - 32) × 5/9\n",
    "def f_to_c(fahrenheit):\n",
    "    return (fahrenheit-32) * 5/9\n",
    "\n",
    "f_to_c(100)"
   ]
  }
 ],
 "metadata": {
  "kernelspec": {
   "display_name": "Python 3 (ipykernel)",
   "language": "python",
   "name": "python3"
  },
  "language_info": {
   "codemirror_mode": {
    "name": "ipython",
    "version": 3
   },
   "file_extension": ".py",
   "mimetype": "text/x-python",
   "name": "python",
   "nbconvert_exporter": "python",
   "pygments_lexer": "ipython3",
   "version": "3.9.21"
  }
 },
 "nbformat": 4,
 "nbformat_minor": 5
}
