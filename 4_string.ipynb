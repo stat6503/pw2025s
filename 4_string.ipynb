{
 "cells": [
  {
   "cell_type": "markdown",
   "id": "53665d13-efff-46f7-a086-2e7484c46eda",
   "metadata": {},
   "source": [
    "<h1>4. 문자열 처리</h1>\n",
    "<br>"
   ]
  },
  {
   "cell_type": "markdown",
   "id": "25d7e865-b442-4eaa-8dea-af372b7af361",
   "metadata": {},
   "source": [
    "## 4.1. 문자열 생성\n",
    "+ 문자열(string)\n",
    "  + 문자(character)들이 나열된 시퀀스 자료형(sequence data type)\n",
    "  + 한 번 생성된 이후에는 수정할 수 없는 불변형(immutable) 객체\n",
    "  + 큰 따옴표 또는 작은 따옴표로 감싸서 문자열을 생성함\n",
    "\n",
    "<br>\n",
    "\n",
    "+ 이스케이프 문자(escape character)\n",
    "  + `\\` 기호와 함께 조합해서 사용하는 특수한 문자\n",
    "  + `\\\"` : 큰 따옴표\n",
    "  + `\\'` : 작은 따옴표\n",
    "  + `\\n` : 줄 바꿈(new line)\n",
    "  + `\\t` : 탭(tab)\n",
    "\n",
    "<br>"
   ]
  },
  {
   "cell_type": "code",
   "execution_count": 1,
   "id": "0bf8ca58-cd72-4c1d-9d55-ee1b365404d6",
   "metadata": {},
   "outputs": [
    {
     "name": "stdout",
     "output_type": "stream",
     "text": [
      "안녕하세요\n",
      "Hello\n"
     ]
    }
   ],
   "source": [
    "# 문자열 생성\n",
    "print(\"안녕하세요\")\n",
    "print('Hello')"
   ]
  },
  {
   "cell_type": "code",
   "execution_count": 2,
   "id": "05097553-0937-4844-a1e2-2d0637557ca7",
   "metadata": {},
   "outputs": [
    {
     "name": "stdout",
     "output_type": "stream",
     "text": [
      "\"안녕하세요\"라고 말했습니다.\n",
      "'날씨가 좋다'라고 생각했습니다.\n"
     ]
    }
   ],
   "source": [
    "# 문자열 내부에 따옴표 넣기\n",
    "print('\"안녕하세요\"라고 말했습니다.')\n",
    "print(\"'날씨가 좋다'라고 생각했습니다.\")"
   ]
  },
  {
   "cell_type": "code",
   "execution_count": 3,
   "id": "6ae5e2b6-cc7c-4a67-b2d7-5a59e45b66b2",
   "metadata": {},
   "outputs": [
    {
     "name": "stdout",
     "output_type": "stream",
     "text": [
      "\"안녕하세요\"라고 말했습니다.\n",
      "'날씨가 좋다'라고 생각했습니다.\n"
     ]
    }
   ],
   "source": [
    "# 이스케이프 문자 사용1\n",
    "print(\"\\\"안녕하세요\\\"라고 말했습니다.\")\n",
    "print('\\'날씨가 좋다\\'라고 생각했습니다.')"
   ]
  },
  {
   "cell_type": "code",
   "execution_count": 4,
   "id": "f17b15c5-705d-4f1f-af78-8bd8a3272646",
   "metadata": {},
   "outputs": [
    {
     "name": "stdout",
     "output_type": "stream",
     "text": [
      "Hello\n",
      "World\n"
     ]
    }
   ],
   "source": [
    "# 이스케이프 문자 사용2\n",
    "print(\"Hello\\nWorld\")"
   ]
  },
  {
   "cell_type": "code",
   "execution_count": 5,
   "id": "459b86bc-c2b9-4768-8bb5-ca6be3c155d5",
   "metadata": {},
   "outputs": [
    {
     "name": "stdout",
     "output_type": "stream",
     "text": [
      "Hello\tWorld\n"
     ]
    }
   ],
   "source": [
    "# 이스케이프 문자 사용3\n",
    "print(\"Hello\\tWorld\")"
   ]
  },
  {
   "cell_type": "code",
   "execution_count": 6,
   "id": "417d2426-b9ab-4bdd-b4b9-b0601ec3aedc",
   "metadata": {},
   "outputs": [
    {
     "name": "stdout",
     "output_type": "stream",
     "text": [
      "동해물과 백두산이 마르고 닳도록\n",
      "하느님이 보우하사 우리나라 만세\n",
      "무궁화 삼천리 화려강산\n",
      "대한사람 대한으로 길이 보전하세\n"
     ]
    }
   ],
   "source": [
    "# 여러 줄 문자열 만들기 : 세 번 반복한 따옴표로 감쌈\n",
    "print(\"\"\"동해물과 백두산이 마르고 닳도록\n",
    "하느님이 보우하사 우리나라 만세\n",
    "무궁화 삼천리 화려강산\n",
    "대한사람 대한으로 길이 보전하세\"\"\")"
   ]
  },
  {
   "cell_type": "markdown",
   "id": "88128ece-bf6c-4259-b3b0-1c94bb4b1c51",
   "metadata": {},
   "source": [
    "<br>\n",
    "\n",
    "## 4.2. 문자열 연산\n",
    "+ 문자열 연결 연산자 `+` : 두 문자열을 연결해서 새로운 문자열 생성\n",
    "+ 문자열 반복 연산자 `*` : 문자열을 숫자만큼 반복하여 새로운 문자열 생성 - (예) 문자열\\*숫자\n",
    "\n",
    "<br>"
   ]
  },
  {
   "cell_type": "code",
   "execution_count": 7,
   "id": "19bb284c-423f-4f6d-917b-208c79e5adfb",
   "metadata": {},
   "outputs": [
    {
     "name": "stdout",
     "output_type": "stream",
     "text": [
      "Hello Wolrld\n"
     ]
    }
   ],
   "source": [
    "# 문자열 연결\n",
    "print(\"Hello \" + \"Wolrld\")"
   ]
  },
  {
   "cell_type": "code",
   "execution_count": 8,
   "id": "e0ae2165-5b7b-4ccb-a846-eb3e0e697cee",
   "metadata": {},
   "outputs": [],
   "source": [
    "# 문자열 연결 연산자는 문자열과 숫자를 연결할 수 없음\n",
    "#score = 99\n",
    "#print(\"성적은\" + score + \"입니다.\")"
   ]
  },
  {
   "cell_type": "code",
   "execution_count": 9,
   "id": "45b010c6-63d1-4eec-8a61-4538617dbc76",
   "metadata": {},
   "outputs": [
    {
     "name": "stdout",
     "output_type": "stream",
     "text": [
      "성적은99입니다.\n"
     ]
    }
   ],
   "source": [
    "# 문자열 연결 연산자로 문자열과 숫자를 연결하려면 숫자를 문자열로 변환해야 함\n",
    "score = 99\n",
    "print(\"성적은\" + str(score) + \"입니다.\")"
   ]
  },
  {
   "cell_type": "code",
   "execution_count": 10,
   "id": "de6bcc85-818c-41e3-adcc-e2bfa36dbbcd",
   "metadata": {},
   "outputs": [
    {
     "name": "stdout",
     "output_type": "stream",
     "text": [
      "Hello Hello Hello \n"
     ]
    }
   ],
   "source": [
    "# 문자열 반복\n",
    "print(\"Hello \" * 3)"
   ]
  },
  {
   "cell_type": "markdown",
   "id": "d768b46b-d140-4a9c-a5b0-0c21799e882b",
   "metadata": {},
   "source": [
    "<br>\n",
    "\n",
    "## 4.3. 인덱싱과 슬라이싱\n",
    "+ 문자열의 각 문자에 접근할 때 문자 위치인 인덱스(index)를 사용함\n",
    "  + Python은 숫자를 0부터 세는 제로 인덱스(zero index) 유형을 사용함\n",
    "\n",
    "<br>\n",
    "\n",
    "+ 인덱싱(indexing)\n",
    "  + `[index]`를 사용하여 문자열의 특정 위치에 있는 항목(문자)에 접근하는 것\n",
    "  + 리버스 인덱싱(reverse indexing) : 음수 인덱스를 사용하면 마지막 값부터 -1씩 감소하여 역순으로 접근할 수 있음\n",
    "\n",
    "<br>\n",
    "\n",
    "+ 슬라이싱(slicing)\n",
    "  + `[(start index):(stop index)]`를 이용하여 문자열의 일부 문자를 추출하는 것\n",
    "  + 끝 인덱스는 포함하지 않으니 주의해야 함\n",
    "  + 시작 인덱스를 생략하면 첫 번째 글자부터 추출하며, 끝 인덱스를 생략하면 가장 마지막 글자까지 추출함\n",
    "\n",
    "<br>\n",
    "\n",
    "![](./images/fig4-1.png){width=60%}\n",
    "\n",
    "<br>"
   ]
  },
  {
   "cell_type": "code",
   "execution_count": 11,
   "id": "9608b817-286f-499e-8419-8b33a14c3a55",
   "metadata": {},
   "outputs": [
    {
     "name": "stdout",
     "output_type": "stream",
     "text": [
      "안\n"
     ]
    }
   ],
   "source": [
    "# 문자열 인덱싱1\n",
    "s = \"안녕하세요\"\n",
    "print(s[0])"
   ]
  },
  {
   "cell_type": "code",
   "execution_count": 12,
   "id": "7bf2deaf-661b-44b8-92cb-15d6da22f600",
   "metadata": {},
   "outputs": [
    {
     "name": "stdout",
     "output_type": "stream",
     "text": [
      "요\n"
     ]
    }
   ],
   "source": [
    "# 문자열 인덱싱2\n",
    "s = \"안녕하세요\"\n",
    "print(s[-1])"
   ]
  },
  {
   "cell_type": "code",
   "execution_count": 13,
   "id": "1f4a793a-6bbf-4b43-aadf-f714f1e1b643",
   "metadata": {},
   "outputs": [
    {
     "name": "stdout",
     "output_type": "stream",
     "text": [
      "안녕\n"
     ]
    }
   ],
   "source": [
    "# 문자열 슬라이싱1\n",
    "s = \"안녕하세요\"\n",
    "print(s[0:2])"
   ]
  },
  {
   "cell_type": "code",
   "execution_count": 14,
   "id": "17690a90-a137-45bc-8633-991f1500c87b",
   "metadata": {},
   "outputs": [
    {
     "name": "stdout",
     "output_type": "stream",
     "text": [
      "안녕\n",
      "하세요\n",
      "안하요\n"
     ]
    }
   ],
   "source": [
    "# 문자열 슬라이싱2\n",
    "s = \"안녕하세요\"\n",
    "print(s[:2])\n",
    "print(s[2:])\n",
    "print(s[::2])"
   ]
  },
  {
   "cell_type": "code",
   "execution_count": 15,
   "id": "027fb22c-efb4-4cbb-aa11-f2ca4c7966e0",
   "metadata": {},
   "outputs": [],
   "source": [
    "# 문자열은 불변형 객체이므로 인덱스를 이용한 수정은 불가능함\n",
    "#s = \"안녕하세요\"\n",
    "#s[2:5] = \"하십니까\"\n",
    "#print(s)"
   ]
  },
  {
   "cell_type": "code",
   "execution_count": 16,
   "id": "e05c77f0-ef8c-4d99-8e63-04640a68b436",
   "metadata": {},
   "outputs": [
    {
     "name": "stdout",
     "output_type": "stream",
     "text": [
      "안녕하십니까\n"
     ]
    }
   ],
   "source": [
    "# 문자열을 변경하려면 새로운 문자열을 만들어야 함\n",
    "s = \"안녕하세요\"\n",
    "s = s[:2] + \"하십니까\"\n",
    "print(s)"
   ]
  },
  {
   "cell_type": "code",
   "execution_count": 17,
   "id": "d66f506d-3b41-4a24-9b76-4aac2f04c03d",
   "metadata": {},
   "outputs": [
    {
     "name": "stdout",
     "output_type": "stream",
     "text": [
      "!nohtyP olleH\n"
     ]
    }
   ],
   "source": [
    "# 문자열 거꾸로 출력하기\n",
    "my_str = \"Hello Python!\"\n",
    "print(my_str[::-1])"
   ]
  },
  {
   "cell_type": "markdown",
   "id": "b4292186-be80-4c32-b2e4-6962a4cfa136",
   "metadata": {},
   "source": [
    "<br>\n",
    "\n",
    "## 4.4. 문자열 함수\n",
    "### 4.4.1. 문자열 길이\n",
    "+ `len()` 함수 : 문자열에 들어있는 문자의 개수(문자열의 길이) 반환\n",
    "\n",
    "<br>"
   ]
  },
  {
   "cell_type": "code",
   "execution_count": 18,
   "id": "8b838e33-6fa4-429f-9b8a-4183b5cc4fa9",
   "metadata": {},
   "outputs": [
    {
     "name": "stdout",
     "output_type": "stream",
     "text": [
      "5\n"
     ]
    }
   ],
   "source": [
    "# 문자열 길이\n",
    "s = \"안녕하세요\"\n",
    "print(len(s))"
   ]
  },
  {
   "cell_type": "markdown",
   "id": "58746acc-fbc4-4aae-b134-f033cd6129c0",
   "metadata": {},
   "source": [
    "<br>\n",
    "\n",
    "### 4.4.2. 대소문자 변환\n",
    "|함수|설명|\n",
    "|:---:|:------------|\n",
    "|lower()|문자열의 알파벳을 모두 소문자로 변환|\n",
    "|upper()|문자열의 알파벳을 모두 대문자로 변환|\n",
    "\n",
    "<br>"
   ]
  },
  {
   "cell_type": "code",
   "execution_count": 19,
   "id": "bbcabdd2-94fb-479b-b037-0b7d0de9fbd4",
   "metadata": {},
   "outputs": [
    {
     "name": "stdout",
     "output_type": "stream",
     "text": [
      "hello python!\n",
      "HELLO PYTHON!\n",
      "Hello Python!\n"
     ]
    }
   ],
   "source": [
    "# 대소문자 변환 : 원본은 변하지 않음\n",
    "s = \"Hello Python!\"\n",
    "print(s.lower())\n",
    "print(s.upper())\n",
    "print(s)"
   ]
  },
  {
   "cell_type": "markdown",
   "id": "41c79cc2-5c16-4d2f-a338-d3cc736faa4c",
   "metadata": {},
   "source": [
    "<br>\n",
    "\n",
    "### 4.4.3. 문자열 찾기\n",
    "|함수|설명|\n",
    "|:---:|:------------|\n",
    "|find()|- 문자열에서 특정 문자열을 왼쪽에서부터 찾아서 인덱스를 반환 <br>- 찾는 문자열이 없으면 -1을 반환|\n",
    "|rfind()|- 문자열에서 특정 문자열을 오른쪽에서부터 찾아서 인덱스를 반환 <br>- 찾는 문자열이 없으면 -1을 반환|\n",
    "|count()|- 문자열에서 특정 문자열의 개수를 반환|\n",
    "|in 연산자|- 문자열 내부에 특정 문자열이 있다면 True, 없다면 False를 반환|\n",
    "\n",
    "<br>"
   ]
  },
  {
   "cell_type": "code",
   "execution_count": 20,
   "id": "315c0f3c-f6fa-4ea8-83c1-8ca396baf194",
   "metadata": {},
   "outputs": [
    {
     "name": "stdout",
     "output_type": "stream",
     "text": [
      "7\n",
      "17\n",
      "2\n",
      "True\n",
      "False\n"
     ]
    }
   ],
   "source": [
    "# 문자열 찾기\n",
    "s = \"Hello! Python is Python\"\n",
    "print(s.find(\"Python\"))\n",
    "print(s.rfind(\"Python\"))\n",
    "print(s.count(\"Python\"))\n",
    "print(\"Hello\" in s)\n",
    "print(\"Hi\" in s)"
   ]
  },
  {
   "cell_type": "markdown",
   "id": "3fed790b-a90b-4e9b-b6e4-27e53e2f2605",
   "metadata": {},
   "source": [
    "<br>\n",
    "\n",
    "#### 4.4.4. 공백 제거 및 문자열 변경\n",
    "|함수|설명|\n",
    "|:---:|:------------|\n",
    "|strip()|문자열 양 옆의 공백이나 특정 문자를 제거|\n",
    "|rstrip()|문자열 오른쪽의 공백이나 특정 문자를 제거|\n",
    "|lstrip()|문자열 왼쪽의 공백이나 특정 문자를 제거|\n",
    "|replace()|특정 문자열을 다른 문자열로 변경|\n",
    "\n",
    "<br>"
   ]
  },
  {
   "cell_type": "code",
   "execution_count": 21,
   "id": "e33e136f-e5d2-4c32-904d-217199bedd74",
   "metadata": {},
   "outputs": [
    {
     "name": "stdout",
     "output_type": "stream",
     "text": [
      "  Hello Python!  \n",
      "Hello Python!\n"
     ]
    }
   ],
   "source": [
    "# 공백 제거\n",
    "s = \"  Hello Python!  \"\n",
    "print(s)\n",
    "print(s.strip())"
   ]
  },
  {
   "cell_type": "code",
   "execution_count": 22,
   "id": "d7b0b78e-3334-4886-983d-b147888c40d9",
   "metadata": {},
   "outputs": [
    {
     "name": "stdout",
     "output_type": "stream",
     "text": [
      "##100kg, ##200\n",
      "100kg, ##200kg\n"
     ]
    }
   ],
   "source": [
    "# 특정 문자 제거\n",
    "s = \"##100kg, ##200kg\"\n",
    "print(s.rstrip(\"kg\"))\n",
    "print(s.lstrip(\"#\"))"
   ]
  },
  {
   "cell_type": "code",
   "execution_count": 23,
   "id": "76857538-8ae1-4bfb-b570-840491ff51d3",
   "metadata": {},
   "outputs": [
    {
     "name": "stdout",
     "output_type": "stream",
     "text": [
      "Hi Python!\n"
     ]
    }
   ],
   "source": [
    "# 문자열 변경\n",
    "s = \"Hello Python!\"\n",
    "print(s.replace(\"Hello\", \"Hi\"))"
   ]
  },
  {
   "cell_type": "markdown",
   "id": "f236f9ae-c526-490e-a92d-38b61f7f642e",
   "metadata": {},
   "source": [
    "<br>\n",
    "\n",
    "#### 4.4.5. 문자열 분리 및 결합\n",
    "|함수|설명|\n",
    "|:---:|:------------|\n",
    "|split()|- 특정문자를 기준으로 문자열을 분리하고 리스트로 반환|\n",
    "|join()|- 여러 문자열을 모아서 하나의 문자열로 만듬 <br>- 문자열을 구분할 구분자를 지정해야 함|\n",
    "\n",
    "<br>"
   ]
  },
  {
   "cell_type": "code",
   "execution_count": 24,
   "id": "e44bf7d8-3918-4172-a49b-fb60c5c56d74",
   "metadata": {},
   "outputs": [
    {
     "data": {
      "text/plain": [
       "['Hello', 'Python!']"
      ]
     },
     "execution_count": 24,
     "metadata": {},
     "output_type": "execute_result"
    }
   ],
   "source": [
    "# 문자열 분리\n",
    "s = \"Hello Python!\"\n",
    "s.split(\" \")"
   ]
  },
  {
   "cell_type": "code",
   "execution_count": 25,
   "id": "f3ffb59c-1c8c-49b5-86b7-74aa9e6b6052",
   "metadata": {},
   "outputs": [
    {
     "name": "stdout",
     "output_type": "stream",
     "text": [
      "one, two, three\n",
      "one - two - three\n"
     ]
    }
   ],
   "source": [
    "# 문자열 결합\n",
    "lst = [\"one\", \"two\", \"three\"]\n",
    "print(\", \".join(lst))\n",
    "print(\" - \".join(lst))"
   ]
  },
  {
   "cell_type": "markdown",
   "id": "b9addd90-b21f-42bf-8a99-fdd901234ea8",
   "metadata": {},
   "source": [
    "<br>\n",
    "\n",
    "#### 4.4.6. 문자열 구성 파악\n",
    "|함수|설명|\n",
    "|:---:|:------------|\n",
    "|isdigit()|문자열이 숫자로만 구성되었는지 확인|\n",
    "|isalpha()|문자열이 알파벳으로만 구성되었는지 확인|\n",
    "|isalnum()|문자열이 알파벳과 숫자로만 구성되었는지 확인|\n",
    "|islower()|문자열이 소문자로만 구성되었는지 확인|\n",
    "|isupper()|문자열이 대문자로만 구성되었는지 확인|\n",
    "|isspace()|문자열이 공백으로만 구성되었는지 확인|\n",
    "\n",
    "<br>"
   ]
  },
  {
   "cell_type": "code",
   "execution_count": 26,
   "id": "49dc2e18-84b4-4e30-950d-b2faf0ed3094",
   "metadata": {},
   "outputs": [
    {
     "name": "stdout",
     "output_type": "stream",
     "text": [
      "True\n",
      "True\n",
      "True\n",
      "True\n",
      "True\n",
      "True\n"
     ]
    }
   ],
   "source": [
    "# 문자열 구성 파악\n",
    "print(\"1234\".isdigit())\n",
    "print(\"Python\".isalpha())\n",
    "print(\"pass123\".isalnum())\n",
    "print(\"hello\".islower())\n",
    "print(\"HELLO\".isupper())\n",
    "print(\"     \".isspace())"
   ]
  },
  {
   "cell_type": "markdown",
   "id": "08d84ad2-1124-4b93-a95c-d35b0730d0e2",
   "metadata": {},
   "source": [
    "<br>\n",
    "\n",
    "### 4.4.7. 형 변환\n",
    "|함수|설명|\n",
    "|:---:|:------------|\n",
    "|str()|수를 문자열로 변환|\n",
    "|int()|정수 형식의 문자열이나 실수를 정수로 변환|\n",
    "|float()|실수 형식의 문자열이나 정수를 실수로 변환|\n",
    "\n",
    "<br>"
   ]
  },
  {
   "cell_type": "code",
   "execution_count": 27,
   "id": "cb84d3b5-3d64-47ec-9394-27940d5c7cbe",
   "metadata": {},
   "outputs": [
    {
     "name": "stdout",
     "output_type": "stream",
     "text": [
      "1234kg\n"
     ]
    }
   ],
   "source": [
    "# 형 변환1\n",
    "a = 1234\n",
    "#print(a + \"kg\")\n",
    "print(str(a) + \"kg\")"
   ]
  },
  {
   "cell_type": "code",
   "execution_count": 28,
   "id": "28ebb146-48ca-4a60-8480-890ddfb99cd8",
   "metadata": {},
   "outputs": [
    {
     "name": "stdout",
     "output_type": "stream",
     "text": [
      "1234\n",
      "3.14\n"
     ]
    }
   ],
   "source": [
    "# 형 변환2\n",
    "print(int(\"1234\"))\n",
    "print(float(\"3.14\"))"
   ]
  },
  {
   "cell_type": "markdown",
   "id": "e208fc3c-3fe7-490c-b172-83d4ab7d58a3",
   "metadata": {},
   "source": [
    "<br>\n",
    "\n",
    "### 4.4.8. format() 함수\n",
    "\n",
    "> \"{자료형}\".format(인수)\n",
    "\n",
    "<br>\n",
    "\n",
    "+ `{}`를 포함한 문자열 뒤에 `.`을 찍고 `format()` 함수를 사용하여 문자열이 출력되는 형식을 지정할 수 있음\n",
    "  + 앞쪽에 있는 문자열 안의 `{}` 기호가 `format()` 함수의 매개변수로 차례로 대치되면서 숫자가 문자열이 됨\n",
    "  + `{}` 개수와 `format()` 함수의 매개변수 개수는 반드시 같아야 함\n",
    "+  f-문자열이 `format()` 함수보다 간단하고 직관적이므로, 대부분 f-문자열을 사용함\n",
    "\n",
    "<br>\n",
    "\n",
    "+ f-문자열보다 `format()` 함수를 사용하는 것이 더 좋은 경우\n",
    "  + 문자열 내용이 너무 많을 때 - 어떤 데이터를 출력하는지 모아서 볼 수 있어 더 유용함\n",
    "  + 데이터를 리스트에 담아서 사용할 때\n",
    "\n",
    "<br>"
   ]
  },
  {
   "cell_type": "code",
   "execution_count": 29,
   "id": "87238829-651d-4afc-b224-d346386fbb75",
   "metadata": {},
   "outputs": [
    {
     "name": "stdout",
     "output_type": "stream",
     "text": [
      "10\n",
      "10 20\n",
      "10 20 30 40 50\n"
     ]
    }
   ],
   "source": [
    "# format() 함수1\n",
    "print(\"{}\".format(10))\n",
    "print(\"{} {}\".format(10, 20))\n",
    "print(\"{} {} {} {} {}\".format(10, 20, 30, 40, 50))"
   ]
  },
  {
   "cell_type": "code",
   "execution_count": 30,
   "id": "f12e6627-d53f-42d0-a6c5-3661f9fe0f8a",
   "metadata": {},
   "outputs": [
    {
     "name": "stdout",
     "output_type": "stream",
     "text": [
      "이름은 홍길동이고, 나이는 20입니다.\n",
      "이름은 홍길동이고, 나이는 20입니다.\n"
     ]
    }
   ],
   "source": [
    "# format() 함수2\n",
    "name = \"홍길동\"\n",
    "age = 20\n",
    "print(f\"이름은 {name}이고, 나이는 {age}입니다.\")\n",
    "print(\"이름은 {}이고, 나이는 {}입니다.\".format(name, age))"
   ]
  },
  {
   "cell_type": "code",
   "execution_count": 31,
   "id": "6ed4cce6-8981-4c70-9e70-f623246013b0",
   "metadata": {},
   "outputs": [
    {
     "name": "stdout",
     "output_type": "stream",
     "text": [
      "2004\n",
      "3.142\n"
     ]
    }
   ],
   "source": [
    "# format() 함수3\n",
    "a = 4\n",
    "b = 3.14159265\n",
    "print(\"20{:02d}\".format(a))                # a 값을 두자리로 출력하되 앞의 빈곳은 0으로 채움\n",
    "print(\"{:.3f}\".format(b))                  # b 값을 소수점 이하 세자리로 반올림하여 출력"
   ]
  },
  {
   "cell_type": "code",
   "execution_count": 32,
   "id": "158d0555-1141-43cc-8c0e-ad3c2c3f0d71",
   "metadata": {},
   "outputs": [
    {
     "name": "stdout",
     "output_type": "stream",
     "text": [
      "이름: 별, 나이: 2, 성별: M, 중성화 여부: Yes\n",
      "이름: 별, 나이: 2, 성별: M, 중성화 여부: Yes\n"
     ]
    }
   ],
   "source": [
    "# 데이터를 리스트에 담아서 사용할 때는 format() 함수를 사용하는 것이 더 좋음\n",
    "data = [\"별\", 2, \"M\", \"Yes\"]\n",
    "\n",
    "# f-문자열 사용\n",
    "print(f\"이름: {data[0]}, 나이: {data[1]}, 성별: {data[2]}, 중성화 여부: {data[3]}\")\n",
    "\n",
    "# format() 함수 사용\n",
    "# 전개 연산자 *를 사용하여 리스트 내용을 전개함\n",
    "print(\"이름: {}, 나이: {}, 성별: {}, 중성화 여부: {}\".format(*data))"
   ]
  }
 ],
 "metadata": {
  "kernelspec": {
   "display_name": "Python 3 (ipykernel)",
   "language": "python",
   "name": "python3"
  },
  "language_info": {
   "codemirror_mode": {
    "name": "ipython",
    "version": 3
   },
   "file_extension": ".py",
   "mimetype": "text/x-python",
   "name": "python",
   "nbconvert_exporter": "python",
   "pygments_lexer": "ipython3",
   "version": "3.9.21"
  }
 },
 "nbformat": 4,
 "nbformat_minor": 5
}
