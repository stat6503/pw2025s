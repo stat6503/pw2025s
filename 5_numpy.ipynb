{
 "cells": [
  {
   "cell_type": "markdown",
   "id": "0b1a8ca7-abce-4ca3-950d-bb6dc2155ac7",
   "metadata": {},
   "source": [
    "<h1>5. NumPy</h1>\n",
    "<br>"
   ]
  },
  {
   "cell_type": "markdown",
   "id": "92fb6f94-68fa-4c35-a829-8019dfd0d635",
   "metadata": {},
   "source": [
    "## 5.1. 넘파이 배열\n",
    "### 5.1.1. 넘파이 배열 생성\n",
    "+ NumPy\n",
    "  + Numerical Python의 약자로, C언어로 구현된 Python 라이브러리\n",
    "  + 고성능 수치 계산, 대규모 다차원 배열 및 행렬 연산에 최적화\n",
    "\n",
    "<br>\n",
    "\n",
    "+ 넘파이 배열(ndarray)\n",
    "  + 리스트처럼 데이터를 모아 저장하는 자료구조\n",
    "  + **모든 원소가 동일한 자료형**으로 저장(효율적인 메모리 관리 및 빠른 연산)\n",
    "  + 대규모 데이터 처리에 유리함\n",
    "  + 반복문 없이 배열 간 연산이 가능한 브로드캐스팅 및 벡터화 연산 지원\n",
    "  + 다양한 수학 함수, 선형대수, 난수 생성 기능 제공\n",
    "\n",
    "<br>\n",
    "\n",
    "|함수|설명|\n",
    "|:---:|:------------|\n",
    "|np.array()|리스트, 튜플 등으로부터 배열 생성|\n",
    "|np.zeros()|모든 값이 0인 배열 생성|\n",
    "|np.ones()|모든 값이 1인 배열 생성|\n",
    "|np.full()|지정한 값으로 이루어진 배열 생성|\n",
    "|np.arange()|범위를 지정하여 연속적인 값의 배열 생성(`range()`와 비슷)|\n",
    "|np.linspace()|시작과 끝을 기준으로, 지정한 개수만큼 일정 간격의 값으로 배열 생성|\n",
    "|np.eye()|행과 열의 크기를 지정할 수 있는 단위행렬(2차원 배열) 생성|\n",
    "|np.identity()|정방 단위행렬(2차원 배열) 생성|\n",
    "\n",
    "<br>"
   ]
  },
  {
   "cell_type": "code",
   "execution_count": 1,
   "id": "bcd3e22d-9ed4-4b50-89cf-880279473937",
   "metadata": {},
   "outputs": [],
   "source": [
    "import numpy as np"
   ]
  },
  {
   "cell_type": "code",
   "execution_count": 2,
   "id": "c761e06d-3761-477a-ac05-53054f90702e",
   "metadata": {},
   "outputs": [
    {
     "name": "stdout",
     "output_type": "stream",
     "text": [
      "[1 2 3]\n",
      "[6 7 8 9]\n"
     ]
    }
   ],
   "source": [
    "# 넘파이 배열 생성1\n",
    "arr1 = np.array([1, 2, 3])\n",
    "arr2 = np.array((6, 7, 8, 9))\n",
    "print(arr1)\n",
    "print(arr2)"
   ]
  },
  {
   "cell_type": "code",
   "execution_count": 3,
   "id": "5a878dd4-3a73-4c1b-b20d-3afd5d8ca115",
   "metadata": {},
   "outputs": [
    {
     "name": "stdout",
     "output_type": "stream",
     "text": [
      "[0. 0. 0. 0. 0.]\n",
      "[1. 1. 1.]\n",
      "[5 5]\n"
     ]
    }
   ],
   "source": [
    "# 넘파이 배열 생성2\n",
    "arr1 = np.zeros(5)\n",
    "arr2 = np.ones(3)\n",
    "arr3 = np.full(2, 5)\n",
    "print(arr1)\n",
    "print(arr2)\n",
    "print(arr3)"
   ]
  },
  {
   "cell_type": "code",
   "execution_count": 4,
   "id": "8e68cf8f-b646-464d-8be7-913980a4cfc0",
   "metadata": {},
   "outputs": [
    {
     "name": "stdout",
     "output_type": "stream",
     "text": [
      "[0 1 2 3 4 5 6 7 8 9]\n",
      "[3 4 5]\n",
      "[1 3 5 7 9]\n",
      "[0.  0.1 0.2 0.3 0.4 0.5 0.6 0.7 0.8 0.9]\n"
     ]
    }
   ],
   "source": [
    "# 넘파이 배열 생성3\n",
    "arr1 = np.arange(10)\n",
    "arr2 = np.arange(3, 6)\n",
    "arr3 = np.arange(1, 11, 2)\n",
    "arr4 = np.arange(0, 1, 0.1)\n",
    "print(arr1)\n",
    "print(arr2)\n",
    "print(arr3)\n",
    "print(arr4)"
   ]
  },
  {
   "cell_type": "code",
   "execution_count": 5,
   "id": "1084ccca-8508-4aec-89a7-300e3444cc9a",
   "metadata": {},
   "outputs": [
    {
     "name": "stdout",
     "output_type": "stream",
     "text": [
      "[0.   0.25 0.5  0.75 1.  ]\n"
     ]
    }
   ],
   "source": [
    "# 넘파이 배열 생성4\n",
    "arr = np.linspace(0, 1, 5)\n",
    "print(arr)"
   ]
  },
  {
   "cell_type": "code",
   "execution_count": 6,
   "id": "eb12e3c2-0718-4438-9acd-ac1a788c60ec",
   "metadata": {},
   "outputs": [
    {
     "name": "stdout",
     "output_type": "stream",
     "text": [
      "[[1. 0. 0.]\n",
      " [0. 1. 0.]\n",
      " [0. 0. 1.]]\n",
      "[[0. 1. 0. 0.]\n",
      " [0. 0. 1. 0.]\n",
      " [0. 0. 0. 1.]]\n"
     ]
    }
   ],
   "source": [
    "# 넘파이 배열 생성5\n",
    "arr1 = np.eye(3)\n",
    "arr2 = np.eye(3, 4, k=1)\n",
    "print(arr1)\n",
    "print(arr2)"
   ]
  },
  {
   "cell_type": "code",
   "execution_count": 7,
   "id": "021fd87e-6d70-4427-8c2a-c048e0b9da7b",
   "metadata": {},
   "outputs": [
    {
     "name": "stdout",
     "output_type": "stream",
     "text": [
      "[[1. 0. 0. 0.]\n",
      " [0. 1. 0. 0.]\n",
      " [0. 0. 1. 0.]\n",
      " [0. 0. 0. 1.]]\n"
     ]
    }
   ],
   "source": [
    "# 넘파이 배열 생성6 : np.identity()는 np.eye()의 특수한 경우\n",
    "arr = np.identity(4)\n",
    "print(arr)"
   ]
  },
  {
   "cell_type": "markdown",
   "id": "3726f348-9280-41a8-8a0a-997edbf05f90",
   "metadata": {},
   "source": [
    "<br>\n",
    "\n",
    "### 5.1.2. 넘파이 배열 속성\n",
    "|속성|설명|\n",
    "|:---:|:------------|\n",
    "|.dtype|배열 원소의 자료형|\n",
    "|.ndim|배열의 차원 수|\n",
    "|.shape|배열의 모양(행, 열)|\n",
    "|.size|배열의 전체 원소 개수|\n",
    "|.itemsize|원소 하나의 메모리 크기|\n",
    "\n",
    "<br>"
   ]
  },
  {
   "cell_type": "code",
   "execution_count": 8,
   "id": "7ba0cdb8-694b-47bc-bb27-c8f24ae9b46e",
   "metadata": {},
   "outputs": [
    {
     "name": "stdout",
     "output_type": "stream",
     "text": [
      "[[1 2 3]\n",
      " [4 5 6]]\n",
      "int64\n",
      "2\n",
      "(2, 3)\n",
      "6\n",
      "8\n"
     ]
    }
   ],
   "source": [
    "# 넘파이 배열 속성\n",
    "arr = np.array([[1, 2, 3], [4, 5, 6]])       # 2차원 배열\n",
    "print(arr)\n",
    "print(arr.dtype)\n",
    "print(arr.ndim)\n",
    "print(arr.shape)\n",
    "print(arr.size)\n",
    "print(arr.itemsize)"
   ]
  },
  {
   "cell_type": "markdown",
   "id": "b45fd10e-1a83-4287-be00-b6ff9aab61b6",
   "metadata": {},
   "source": [
    "<br>\n",
    "\n",
    "## 5.2. 차원과 축\n",
    "### 5.2.1. 차원(dimension)\n",
    "+ 넘파이 배열의 차원\n",
    "  + 관측하고자 하는 데이터의 속성의 수 또는 측정 항목의 수\n",
    "  + **스칼라(scalar)** : 0차원 배열, 배열에서 값을 표현하는 가장 기본 단위로 하나의 실수를 저장할 수 있음\n",
    "  + **벡터(vector)** : 1차원 배열, 스칼라 여러 개를 나열한 배열\n",
    "  + **행렬(matrix)** : 2차원 배열, 1차원 배열을 여러 개 묶은 배열\n",
    "  + **텐서(tensor)** : 3차원 이상의 배열, 벡터의 집합\n",
    "\n",
    "<br>\n",
    "\n",
    "![](./images/fig5-1.jpg)\n",
    "\n",
    "<br>"
   ]
  },
  {
   "cell_type": "code",
   "execution_count": 9,
   "id": "fac66bb9-50da-49ef-a5ee-5f8123d3d836",
   "metadata": {},
   "outputs": [
    {
     "name": "stdout",
     "output_type": "stream",
     "text": [
      "0 ()\n",
      "1 (1,)\n",
      "2 (1, 1)\n",
      "3 (1, 1, 1)\n"
     ]
    }
   ],
   "source": [
    "arr0 = np.array(3.14)                        # 0차원 배열(스칼라)\n",
    "arr1 = np.array([3.14])                      # 1차원 배열(벡터)\n",
    "arr2 = np.array([[3.14]])                    # 2차원 배열(행렬)\n",
    "arr3 = np.array([[[3.14]]])                  # 3차원 배열(텐서)\n",
    "\n",
    "print(arr0.ndim, arr0.shape)\n",
    "print(arr1.ndim, arr1.shape)\n",
    "print(arr2.ndim, arr2.shape)\n",
    "print(arr3.ndim, arr3.shape)"
   ]
  },
  {
   "cell_type": "code",
   "execution_count": 10,
   "id": "f5b805e4-9bcf-4b38-9b8f-abeda3ae3dee",
   "metadata": {},
   "outputs": [
    {
     "name": "stdout",
     "output_type": "stream",
     "text": [
      "1\n",
      "(3,)\n"
     ]
    }
   ],
   "source": [
    "# 1차원 배열(벡터)\n",
    "arr = np.array([1, 2, 3])\n",
    "print(arr.ndim)\n",
    "print(arr.shape)"
   ]
  },
  {
   "cell_type": "code",
   "execution_count": 11,
   "id": "461f3ad2-12d4-4603-a1df-8766118e8758",
   "metadata": {},
   "outputs": [
    {
     "name": "stdout",
     "output_type": "stream",
     "text": [
      "2\n",
      "(2, 3)\n"
     ]
    }
   ],
   "source": [
    "# 2차원 배열(행렬)\n",
    "arr = np.array([[1, 2, 3], [4, 5, 6]])\n",
    "print(arr.ndim)\n",
    "print(arr.shape)"
   ]
  },
  {
   "cell_type": "code",
   "execution_count": 12,
   "id": "251c6a30-6183-4f9d-8708-b274d5f85ef0",
   "metadata": {},
   "outputs": [
    {
     "name": "stdout",
     "output_type": "stream",
     "text": [
      "3\n",
      "(2, 2, 3)\n"
     ]
    }
   ],
   "source": [
    "# 3차원 배열(텐서)\n",
    "arr = np.array([[[1, 2, 3], [4, 5, 6]], [[11, 12, 13], [14, 15, 16]]])\n",
    "print(arr.ndim)\n",
    "print(arr.shape)"
   ]
  },
  {
   "cell_type": "markdown",
   "id": "c2216f60-e5b5-4058-8995-1eb139c187af",
   "metadata": {},
   "source": [
    "<br>\n",
    "\n",
    "### 5.2.2. 축(axis)\n",
    "+ 배열에서 데이터를 따라가는 방향\n",
    "  + 차원이 있는 데이터에서 어느 방향으로 연산을 적용하는지 축으로 지정\n",
    "+ axis 0은 첫 번째 차원으로, 배열의 가장 바깥쪽 차원임\n",
    "  + 차원이 늘어날수록 새로운 축이 axis=0가 되며, 기존 축들은 번호가 하나씩 뒤로 밀림\n",
    "+ 축 번호는 배열의 차원에 따라 증가하며, 각 축은 shape에서 해당하는 차원의 크기를 나타냄\n",
    "  + (예) shape (2, 3, 4) → axis 0: 2(면), axis 1: 3(행), axis 2: 4(열)\n",
    "\n",
    "<br>\n",
    "\n",
    "![](./images/fig5-2.png)\n",
    "\n",
    "<br>\n",
    "\n",
    "|차원|직관적인 구조|축의 역할|\n",
    "|:---:|:------------|:------------|\n",
    "|1차원|벡터 → [1, 2, 3, 4]|axis 0: 왼쪽 → 오른쪽|\n",
    "|2차원|벡터들이 위아래로 쌓임 → 행렬|axis 0: 위 → 아래(행) <br>axis 1: 왼쪽 → 오른쪽(열)|\n",
    "|3차원|행렬들이 앞뒤로 쌓임|axis 0: 앞 → 뒤(면) <br>axis 1: 위 → 아래(행) <br>axis 2: 왼쪽 → 오른쪽(열)|\n",
    "\n",
    "<br>"
   ]
  },
  {
   "cell_type": "markdown",
   "id": "a1cc5fa1-e690-45a5-82f8-32f70cdad6a0",
   "metadata": {},
   "source": [
    "<br>\n",
    "\n",
    "### 5.2.3. 넘파이 배열 메소드\n",
    "|함수|설명|\n",
    "|:---:|:------------|\n",
    "|sum()|합계|\n",
    "|mean()|평균|\n",
    "|std()|표준편차|\n",
    "|min(), max()|최소값, 최대값|\n",
    "|cumsum(), cumprod()|누적 합계, 누적 곱|\n",
    "|transpose()|축 순서 변경|\n",
    "\n",
    "<br>"
   ]
  },
  {
   "cell_type": "code",
   "execution_count": 13,
   "id": "90ad156e-f37b-4b97-a057-0c6f2b3620a9",
   "metadata": {},
   "outputs": [
    {
     "name": "stdout",
     "output_type": "stream",
     "text": [
      "21\n",
      "[5 7 9]\n",
      "[ 6 15]\n"
     ]
    }
   ],
   "source": [
    "arr = np.array([\n",
    "    [1, 2, 3],\n",
    "    [4, 5, 6]\n",
    "])\n",
    "\n",
    "# 합계\n",
    "print(np.sum(arr))\n",
    "print(np.sum(arr, axis=0))\n",
    "print(np.sum(arr, axis=1))"
   ]
  },
  {
   "cell_type": "code",
   "execution_count": 14,
   "id": "00f86ce9-9173-4bd6-a8ea-c85fa135e130",
   "metadata": {},
   "outputs": [
    {
     "name": "stdout",
     "output_type": "stream",
     "text": [
      "[ 1  3  6 10 15 21]\n",
      "[[1 2 3]\n",
      " [5 7 9]]\n",
      "[[ 1  3  6]\n",
      " [ 4  9 15]]\n"
     ]
    }
   ],
   "source": [
    "# 누적합\n",
    "print(np.cumsum(arr))\n",
    "print(np.cumsum(arr, axis=0))\n",
    "print(np.cumsum(arr, axis=1))"
   ]
  },
  {
   "cell_type": "markdown",
   "id": "3ea8b431-a2e1-4ff5-8b49-f08425679937",
   "metadata": {},
   "source": [
    "<br>\n",
    "\n",
    "### 5.2.4. 배열 형태 변환\n",
    "|함수|설명|\n",
    "|:---:|:------------|\n",
    "|reshape()|배열을 데이터 변경없이 새로운 모양으로 변환|\n",
    "|flatten()|다차원 배열을 1차원 배열로 복사하여 반환(원본 유지)|\n",
    "|ravel()|다차원 배열을 1차원 배열로 반환(가능하면 원본 공유, 더 효율적)|\n",
    "\n",
    "<br>"
   ]
  },
  {
   "cell_type": "code",
   "execution_count": 15,
   "id": "5698bc90-5595-486f-806c-2329b714f39d",
   "metadata": {},
   "outputs": [
    {
     "name": "stdout",
     "output_type": "stream",
     "text": [
      "[[1 2]\n",
      " [3 4]\n",
      " [5 6]]\n",
      "[1 2 3 4 5 6]\n"
     ]
    }
   ],
   "source": [
    "# 1차원 배열 → 2차원 배열(3행 2열)\n",
    "arr = np.array([1, 2, 3, 4, 5, 6])\n",
    "\n",
    "print(arr.reshape(3, 2))\n",
    "print(arr)                                 # arr 원본 값이 변하지 않음"
   ]
  },
  {
   "cell_type": "code",
   "execution_count": 16,
   "id": "2d8ef8f5-4085-4c79-92ea-9a010879f9c7",
   "metadata": {},
   "outputs": [
    {
     "name": "stdout",
     "output_type": "stream",
     "text": [
      "[[[ 0  1  2  3]\n",
      "  [ 4  5  6  7]\n",
      "  [ 8  9 10 11]]\n",
      "\n",
      " [[12 13 14 15]\n",
      "  [16 17 18 19]\n",
      "  [20 21 22 23]]]\n",
      "[ 0  1  2  3  4  5  6  7  8  9 10 11 12 13 14 15 16 17 18 19 20 21 22 23]\n"
     ]
    }
   ],
   "source": [
    "# 1차원 배열 → 3차원 배열\n",
    "arr = np.arange(24)\n",
    "\n",
    "print(arr.reshape(2, 3, 4))\n",
    "print(arr)                                 # arr 원본 값이 변하지 않음"
   ]
  },
  {
   "cell_type": "code",
   "execution_count": 17,
   "id": "250d33a4-fcc7-45b6-80e0-facf5ab245a8",
   "metadata": {},
   "outputs": [
    {
     "name": "stdout",
     "output_type": "stream",
     "text": [
      "[1 2 3 4 5 6]\n",
      "[[1 2 3]\n",
      " [4 5 6]]\n"
     ]
    }
   ],
   "source": [
    "# 2차원 배열 → 1차원 배열 (복사본 반환)\n",
    "arr = np.array([\n",
    "    [1, 2, 3],\n",
    "    [4, 5, 6]\n",
    "])\n",
    "\n",
    "print(arr.flatten())\n",
    "print(arr)                                 # arr 원본 값이 변하지 않음"
   ]
  },
  {
   "cell_type": "code",
   "execution_count": 18,
   "id": "26fe4125-fb9f-4f3d-a9eb-7b38fb38fc60",
   "metadata": {},
   "outputs": [
    {
     "name": "stdout",
     "output_type": "stream",
     "text": [
      "[1 2 3 4 5 6]\n",
      "[[1 2 3]\n",
      " [4 5 6]]\n"
     ]
    }
   ],
   "source": [
    "# 2차원 배열 → 1차원 배열 (가능하면 뷰 반환)\n",
    "arr = np.array([\n",
    "    [1, 2, 3],\n",
    "    [4, 5, 6]\n",
    "])\n",
    "\n",
    "print(arr.ravel())\n",
    "print(arr)                                 # arr 원본 값이 변하지 않음"
   ]
  },
  {
   "cell_type": "markdown",
   "id": "98e323e2-f715-4cb8-acf4-9e0ef42d21aa",
   "metadata": {},
   "source": [
    "<br>\n",
    "\n",
    "### 5.2.5. 축 재배열\n",
    "|함수|설명|\n",
    "|:---:|:------------|\n",
    "|transpose()|배열의 축 순서 변환(2차원 배열의 경우 행/열 전치)|\n",
    "|swaqaxes()|지정한 두 축의 순서를 교환|\n",
    "\n",
    "<br>"
   ]
  },
  {
   "cell_type": "code",
   "execution_count": 19,
   "id": "52b47763-ceeb-40cf-9499-bea1ed869dcd",
   "metadata": {},
   "outputs": [
    {
     "name": "stdout",
     "output_type": "stream",
     "text": [
      "[[1 4]\n",
      " [2 5]\n",
      " [3 6]]\n"
     ]
    }
   ],
   "source": [
    "# 2차원 배열에서 transpose()\n",
    "arr = np.array([\n",
    "    [1, 2, 3],\n",
    "    [4, 5, 6]\n",
    "])\n",
    "\n",
    "print(arr.transpose())"
   ]
  },
  {
   "cell_type": "code",
   "execution_count": 20,
   "id": "8f85fe5f-f5d2-4f3f-ba08-45c3bc931429",
   "metadata": {},
   "outputs": [
    {
     "name": "stdout",
     "output_type": "stream",
     "text": [
      "[[[ 0  1  2  3]\n",
      "  [12 13 14 15]]\n",
      "\n",
      " [[ 4  5  6  7]\n",
      "  [16 17 18 19]]\n",
      "\n",
      " [[ 8  9 10 11]\n",
      "  [20 21 22 23]]]\n",
      "(3, 2, 4)\n"
     ]
    }
   ],
   "source": [
    "# 3차원 배열에서 transpose()\n",
    "arr = np.arange(24).reshape(2, 3, 4)\n",
    "\n",
    "# 축 순서 바꾸기 : (0, 1, 2) → (1, 0, 2)\n",
    "print(arr.transpose(1, 0, 2))\n",
    "print(arr.transpose(1, 0, 2).shape)"
   ]
  },
  {
   "cell_type": "code",
   "execution_count": 21,
   "id": "c8cdb520-c658-45d3-9040-26cbf5d5bb45",
   "metadata": {},
   "outputs": [
    {
     "name": "stdout",
     "output_type": "stream",
     "text": [
      "[[[1 5]\n",
      "  [3 7]]\n",
      "\n",
      " [[2 6]\n",
      "  [4 8]]]\n",
      "(2, 2, 2)\n"
     ]
    }
   ],
   "source": [
    "# 3차원 배열에서 axis 0과 axis 2 교환\n",
    "arr = np.array([\n",
    "    [[1, 2], [3, 4]],\n",
    "    [[5, 6], [7, 8]]\n",
    "])\n",
    "\n",
    "print(np.swapaxes(arr, 0, 2))\n",
    "print(np.swapaxes(arr, 0, 2).shape)"
   ]
  },
  {
   "cell_type": "markdown",
   "id": "3406a537-66f6-486e-8994-856a6151ef8e",
   "metadata": {},
   "source": [
    "<br>\n",
    "\n",
    "## 5.3. 얕은 복사와 깊은 복사\n",
    "+ 얕은 복사(shallow copy)\n",
    "  + 데이터의 주소를 복사하여 원본과 메모리 공간을 공유\n",
    "  + 원본을 수정하면 복사본이 바뀌며, 반대로 복사본을 수정해도 원본에 영향을 미침\n",
    "  + `view()`, `reshape()` (대부분), `ravel()` (대부분)\n",
    "\n",
    "<br>\n",
    "\n",
    "+ 깊은 복사(deep copy)\n",
    "  + 완전히 새로운 메모리 공간에 데이터의 복사본을 생성\n",
    "  + 원본을 수정해도 복사본이 바뀌지 않으며, 반대로 복사본을 수정해도 원본에 영향을 주지 않음\n",
    "  + `copy()`, `flatten()`\n",
    "\n",
    "<br>"
   ]
  },
  {
   "cell_type": "code",
   "execution_count": 22,
   "id": "28c9c0a8-d12d-4e8e-bcdb-e22f32d5893d",
   "metadata": {},
   "outputs": [
    {
     "name": "stdout",
     "output_type": "stream",
     "text": [
      "[0 1 2 3 4 5]\n",
      "[0 1 2 3 4 5]\n",
      "[10  1  2  3  4  5]\n",
      "[10  1  2  3  4  5]\n"
     ]
    }
   ],
   "source": [
    "# 얕은 복사\n",
    "arr = np.arange(6)\n",
    "print(arr)\n",
    "\n",
    "copy_arr = arr.view()\n",
    "print(copy_arr)\n",
    "\n",
    "copy_arr[0] = 10\n",
    "print(arr)\n",
    "print(copy_arr)"
   ]
  },
  {
   "cell_type": "code",
   "execution_count": 23,
   "id": "7ead942e-2b9e-4cf1-8d5e-ddbd08541113",
   "metadata": {},
   "outputs": [
    {
     "name": "stdout",
     "output_type": "stream",
     "text": [
      "[0 1 2 3 4 5]\n",
      "[0 1 2 3 4 5]\n",
      "[0 1 2 3 4 5]\n",
      "[10  1  2  3  4  5]\n"
     ]
    }
   ],
   "source": [
    "# 깊은 복사\n",
    "arr = np.arange(6)\n",
    "print(arr)\n",
    "\n",
    "copy_arr = arr.copy()\n",
    "print(copy_arr)\n",
    "\n",
    "copy_arr[0] = 10\n",
    "print(arr)\n",
    "print(copy_arr)"
   ]
  },
  {
   "cell_type": "markdown",
   "id": "c98eead1-0ac5-41a6-82b1-7b7d58ba9a03",
   "metadata": {},
   "source": [
    "<br>\n",
    "\n",
    "## 5.4. 인덱싱과 슬라이싱\n",
    "+ 인덱싱(indexing)\n",
    "  + `[index]`를 사용하여 배열의 특정 위치에 있는 원소에 접근함\n",
    "  + 얕은 복사(shallow copy)로 작동 → 원본과 메모리 공간을 공유\n",
    "  + **팬시 인덱싱(fancy indexing)**\n",
    "    + 배열이나 리스트를 인덱스로 사용하여 원하는 위치의 값들을 한 번에 추출\n",
    "    + 복사본을 반환(deep copy) → 원본과 메모리 공간을 공유하지 않음\n",
    "  + **불리언 인덱싱(boolean indexing)**\n",
    "    + 조건식을 통해 bool형 배열을 생성하여 `True`인 원소만 추출\n",
    "    + 복사본을 반환(deep copy) → 원본과 메모리 공간을 공유하지 않음\n",
    "\n",
    "<br>\n",
    "\n",
    "+ 슬라이싱(slicing)\n",
    "  + `[(start index):(stop index)]`를 사용하여 배열의 일부 원소를 추출함\n",
    "  + 얕은 복사(shallow copy)로 작동하며 뷰(view)를 반환 → 원본과 메모리 공간을 공유\n",
    "\n",
    "<br>"
   ]
  },
  {
   "cell_type": "code",
   "execution_count": 24,
   "id": "ff7fda8a-dd5f-4545-9a79-b4a919d6d20e",
   "metadata": {},
   "outputs": [
    {
     "name": "stdout",
     "output_type": "stream",
     "text": [
      "10\n",
      "50\n",
      "[20 30 40]\n",
      "[10 30 50]\n"
     ]
    }
   ],
   "source": [
    "# 1차원 인덱싱과 슬라이싱\n",
    "arr = np.array([10, 20, 30, 40, 50])\n",
    "print(arr[0])\n",
    "print(arr[-1])\n",
    "print(arr[1:4])\n",
    "print(arr[::2])"
   ]
  },
  {
   "cell_type": "code",
   "execution_count": 25,
   "id": "cf4a3dc8-7a4b-4e43-9f18-d7c680879789",
   "metadata": {},
   "outputs": [
    {
     "name": "stdout",
     "output_type": "stream",
     "text": [
      "[10 20 30 40 50]\n",
      "[20 30 40]\n",
      "[ 10 100  30  40  50]\n",
      "[100  30  40]\n"
     ]
    }
   ],
   "source": [
    "# 슬라이싱은 기본적으로 뷰(view)임\n",
    "arr = np.array([10, 20, 30, 40, 50])\n",
    "print(arr)\n",
    "\n",
    "sub_arr = arr[1:4]\n",
    "print(sub_arr)\n",
    "\n",
    "sub_arr[0] = 100\n",
    "print(arr)\n",
    "print(sub_arr)"
   ]
  },
  {
   "cell_type": "code",
   "execution_count": 26,
   "id": "d635d839-5245-4396-8f38-7ab3c9f1e70d",
   "metadata": {},
   "outputs": [
    {
     "name": "stdout",
     "output_type": "stream",
     "text": [
      "[10 20 30 40 50]\n",
      "[20 30 40]\n",
      "[10 20 30 40 50]\n",
      "[100  30  40]\n"
     ]
    }
   ],
   "source": [
    "# copy() 함수를 이용해서 깊은 복사를 해야 원본이 변하지 않음\n",
    "arr = np.array([10, 20, 30, 40, 50])\n",
    "print(arr)\n",
    "\n",
    "sub_arr = arr[1:4].copy()\n",
    "print(sub_arr)\n",
    "\n",
    "sub_arr[0] = 100\n",
    "print(arr)\n",
    "print(sub_arr)"
   ]
  },
  {
   "cell_type": "code",
   "execution_count": 27,
   "id": "3195bbab-39a5-4c74-8ff1-90f2909af396",
   "metadata": {},
   "outputs": [
    {
     "name": "stdout",
     "output_type": "stream",
     "text": [
      "6\n",
      "[[2 3]\n",
      " [5 6]]\n",
      "[1 2 3]\n",
      "[2 5 8]\n",
      "[[4 5]\n",
      " [7 8]]\n"
     ]
    }
   ],
   "source": [
    "# 2차원 인덱싱과 슬라이싱\n",
    "arr = np.array([[1, 2, 3],\n",
    "                [4, 5, 6],\n",
    "                [7, 8, 9]])\n",
    "print(arr[1, 2])                           # arr[1][2], 리스트에서는 안 됨\n",
    "print(arr[0:2, 1:3])\n",
    "print(arr[0])                              # 첫 번째 행의 모든 열\n",
    "print(arr[:, 1])                           # 모든 행의 두 번째 열\n",
    "print(arr[1:, :2])                         # 두 번째 행부터 끝까지, 처음부터 두 번째 열까지"
   ]
  },
  {
   "cell_type": "code",
   "execution_count": 28,
   "id": "1f6850a0-d5f4-41b1-9dad-b337446b8b57",
   "metadata": {},
   "outputs": [
    {
     "name": "stdout",
     "output_type": "stream",
     "text": [
      "[20 21 22 23]\n",
      "23\n",
      "[[ 4  5  6  7]\n",
      " [16 17 18 19]]\n"
     ]
    }
   ],
   "source": [
    "# 3차원 인덱싱과 슬라이싱\n",
    "arr = np.arange(24).reshape(2, 3, 4)\n",
    "\n",
    "print(arr[1, 2])                           # arr[1][2], 리스트에서는 안 됨\n",
    "print(arr[1, 2, 3])                        # 두 번째 면, 세 번째 행, 네 번째 열\n",
    "print(arr[:, 1, :])                        # 모든 면의 두 번째 행 → shape(2, 4)"
   ]
  },
  {
   "cell_type": "code",
   "execution_count": 29,
   "id": "3d427bd5-d888-4139-8fc5-d89c93ba43f4",
   "metadata": {},
   "outputs": [
    {
     "name": "stdout",
     "output_type": "stream",
     "text": [
      "[10 40 50]\n"
     ]
    }
   ],
   "source": [
    "# 팬시 인덱싱\n",
    "arr = np.array([10, 20, 30, 40, 50])\n",
    "print(arr[[0, 3, 4]])"
   ]
  },
  {
   "cell_type": "code",
   "execution_count": 30,
   "id": "7c05789d-11a9-4a1e-a28e-d5e8e231f2c7",
   "metadata": {},
   "outputs": [
    {
     "name": "stdout",
     "output_type": "stream",
     "text": [
      "[False False False  True  True]\n",
      "[40 50]\n"
     ]
    }
   ],
   "source": [
    "# 불리언 인덱싱\n",
    "arr = np.array([10, 20, 30, 40, 50])\n",
    "print(arr > 30)\n",
    "print(arr[arr > 30])"
   ]
  },
  {
   "cell_type": "markdown",
   "id": "623a89d9-25e9-42e3-bbfe-cb754926a9c6",
   "metadata": {},
   "source": [
    "<br>\n",
    "\n",
    "## 5.5. 넘파이 배열 연산\n",
    "+ 벡터화(vectorization)\n",
    "  + 반복문을 사용하지 않고 배열 전체에 연산을 적용하는 기능\n",
    "  + 동일한 shape을 가진 배열 간에 같은 인덱스에 위치한 원소들끼리(element-wise) 연산을 수행함  \n",
    "  + 두 배열의 shape가 다르더라도 브로드캐스팅이 가능한 경우에는 연산이 가능함\n",
    "    + 이 경우 내부적으로 브로드캐스팅을 통해 shape를 맞춘 후, 벡터화 연산을 수행함\n",
    "   \n",
    "<br>\n",
    "\n",
    "+ 브로드캐스팅(broadcasting)\n",
    "  + 차원이 서로 다른 배열 간의 연산을 자동으로 처리해주는 기능\n",
    "  + 더 작은 차원인 배열의 shape를 자동으로 확장하여 연산이 가능하도록 함\n",
    "  + 브로드캐스팅이 적용되는 조건\n",
    "    + 차원이 다르면, 더 작은 배열 앞쪽(왼쪽)에 1을 추가해서 맞춰줌\n",
    "    + 차원이 같으면, 각 차원의 크기를 비교하여 두 값이 같거나 한 쪽이 1이면 브로드캐스팅 가능함\n",
    "\n",
    "<br>\n",
    "\n",
    "![](./images/fig5-3.png)\n",
    "\n",
    "<br>"
   ]
  },
  {
   "cell_type": "code",
   "execution_count": 31,
   "id": "d255f2a3-a58a-4f06-b0ef-a9a2b5917c1b",
   "metadata": {},
   "outputs": [
    {
     "name": "stdout",
     "output_type": "stream",
     "text": [
      "[11 22 33]\n",
      "[0.1 0.1 0.1]\n"
     ]
    }
   ],
   "source": [
    "# 벡터화\n",
    "arr1 = np.array([1, 2, 3])\n",
    "arr2 = np.array([10, 20, 30])\n",
    "\n",
    "print(arr1 + arr2)\n",
    "print(arr1 / arr2)"
   ]
  },
  {
   "cell_type": "code",
   "execution_count": 32,
   "id": "54ebfd97-60d1-4241-8111-73d28f6bfe79",
   "metadata": {},
   "outputs": [
    {
     "name": "stdout",
     "output_type": "stream",
     "text": [
      "[11 12 13]\n"
     ]
    }
   ],
   "source": [
    "# 브로드캐스팅1 : 1차원 + 스칼라\n",
    "arr = np.array([1, 2, 3])\n",
    "print(arr + 10)"
   ]
  },
  {
   "cell_type": "code",
   "execution_count": 33,
   "id": "caee0df9-1d51-4d52-8351-9cda2cc4219a",
   "metadata": {},
   "outputs": [
    {
     "name": "stdout",
     "output_type": "stream",
     "text": [
      "(3, 1) (4,)\n",
      "[[11 21 31 41]\n",
      " [12 22 32 42]\n",
      " [13 23 33 43]]\n"
     ]
    }
   ],
   "source": [
    "# 브로드캐스팅2 : 차원 수가 다른 경우\n",
    "arr1 = np.array([[1], [2], [3]])           # shape : (3, 1)\n",
    "arr2 = np.array([10, 20, 30, 40])          # shape : (4,) → (1, 4)로 간주\n",
    "\n",
    "print(arr1.shape, arr2.shape)\n",
    "print(arr1 + arr2)                "
   ]
  },
  {
   "cell_type": "code",
   "execution_count": 34,
   "id": "edd7233f-51ff-4fee-9cc7-123dbc68bd36",
   "metadata": {},
   "outputs": [],
   "source": [
    "# 브로드캐스팅3 : 두 배열의 열 크기가 다르므로 브로드캐스팅 불가능\n",
    "#arr1 = np.array([[1, 2, 3],\n",
    "#                 [4, 5, 6]])               # shape : (2, 3)\n",
    "#arr2 = np.array([10, 20, 30, 40])          # shape: (4,) → (1, 4)로 간주\n",
    "#\n",
    "#print(arr1.shape, arr2.shape)\n",
    "#print(arr1 + arr2)"
   ]
  },
  {
   "cell_type": "code",
   "execution_count": 35,
   "id": "6ab037b9-81a6-4dd7-a238-6eb1ed2f0a75",
   "metadata": {},
   "outputs": [
    {
     "name": "stdout",
     "output_type": "stream",
     "text": [
      "(2, 3, 4) (4,)\n",
      "(2, 3, 4)\n",
      "[[[10 21 32 43]\n",
      "  [14 25 36 47]\n",
      "  [18 29 40 51]]\n",
      "\n",
      " [[22 33 44 55]\n",
      "  [26 37 48 59]\n",
      "  [30 41 52 63]]]\n"
     ]
    }
   ],
   "source": [
    "# 브로드캐스팅 : 3차원 + 1차원\n",
    "arr1 = np.arange(24).reshape(2, 3, 4)      # shape : (2, 3, 4)\n",
    "arr2 = np.array([10, 20, 30, 40])          # shape : (4,) → (1, 1, 4)로 간주\n",
    "\n",
    "print(arr1.shape, arr2.shape)\n",
    "print((arr1 + arr2).shape)                 # shaep : (2, 3, 4)\n",
    "print(arr1 + arr2)"
   ]
  }
 ],
 "metadata": {
  "kernelspec": {
   "display_name": "Python 3 (ipykernel)",
   "language": "python",
   "name": "python3"
  },
  "language_info": {
   "codemirror_mode": {
    "name": "ipython",
    "version": 3
   },
   "file_extension": ".py",
   "mimetype": "text/x-python",
   "name": "python",
   "nbconvert_exporter": "python",
   "pygments_lexer": "ipython3",
   "version": "3.9.21"
  }
 },
 "nbformat": 4,
 "nbformat_minor": 5
}
